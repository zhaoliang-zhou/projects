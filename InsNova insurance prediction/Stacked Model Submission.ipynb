{
 "cells": [
  {
   "cell_type": "markdown",
   "metadata": {},
   "source": [
    "# TODO\n",
    "- manually set fold column in data based on stratified counts\n",
    "- test catboost gpu functionality/speed\n",
    "- Power parameter tuning for tweedie\n",
    "- Feature interaction + selection\n",
    "- follow approaches from: https://www.kaggle.com/chandrimad31/claims-severity-analysis-of-models-in-depth\n",
    "- figure out optimal transform of pure premium to reduce skewness\n",
    "- adversarial validation of test data\n",
    "- Surrogate loss functions that are better for Gini\n",
    "\n",
    "- stacked model: blend(tweedie_stack, freq_sev_stack, claim_ind_stack)\n",
    "\n",
    "model types:\n",
    "- pure premium\n",
    "- binned pure premium\n",
    "- freq-severity\n",
    "- hurdle-freq - severity\n",
    "- hurdle claim cost\n",
    "\n",
    "Sub component models:\n",
    "- binary claim_ind\n",
    "    - Any binary classifier\n",
    "- reg frequency masked\n",
    "    - Poisson objective + box_cox\n",
    "    - Surrogate (mse/mae) objective + box_cox\n",
    "- reg severity masked\n",
    "    - Gamma objective\n",
    "    - Gamma objective + box_cox\n",
    "    - Surrogate (mse/mae) objective + box_cox\n",
    "- reg pure premium\n",
    "    - Tweedie objective\n",
    "    - Tweedie objective + box_cox on losses\n",
    "- reg pure premium masked\n",
    "    - Gamma objective\n",
    "    - Gamma objective + box_cox\n",
    "    - Surrogate (mse/mae) objective + box_cox"
   ]
  },
  {
   "cell_type": "code",
   "execution_count": 130,
   "metadata": {},
   "outputs": [],
   "source": [
    "# Importing packages\n",
    "from time import time\n",
    "from functools import partial\n",
    "from scipy.stats import skew\n",
    "import numpy as np\n",
    "import pandas as pd\n",
    "import matplotlib.pyplot as plt\n",
    "from sklearn.experimental import enable_hist_gradient_boosting\n",
    "from sklearn.model_selection import RepeatedKFold, cross_val_predict, cross_val_score, RandomizedSearchCV, cross_validate, KFold\n",
    "from sklearn.base import TransformerMixin, BaseEstimator, RegressorMixin\n",
    "from sklearn.feature_selection import RFECV\n",
    "from sklearn.metrics import make_scorer, precision_recall_curve, classification_report, roc_auc_score, mean_poisson_deviance, mean_gamma_deviance, mean_tweedie_deviance\n",
    "from sklearn.pipeline import make_pipeline\n",
    "from sklearn.compose import ColumnTransformer, make_column_selector, TransformedTargetRegressor\n",
    "from sklearn.preprocessing import PowerTransformer, OneHotEncoder, StandardScaler, PolynomialFeatures\n",
    "from sklearn.dummy import DummyRegressor, DummyClassifier\n",
    "from sklearn.linear_model import LogisticRegressionCV, RidgeCV, PoissonRegressor, GammaRegressor, TweedieRegressor\n",
    "from sklearn.ensemble import RandomForestClassifier, GradientBoostingClassifier, HistGradientBoostingClassifier, StackingRegressor\n",
    "from sklearn.calibration import CalibratedClassifierCV\n",
    "from sklearn.neighbors import KNeighborsRegressor\n",
    "from sklearn.naive_bayes import BernoulliNB\n",
    "from sklearn.svm import SVC\n",
    "from sklearn.neighbors import KNeighborsClassifier\n",
    "from sklearn.neural_network import MLPClassifier\n",
    "from xgboost import XGBRegressor\n",
    "from lightgbm import LGBMRegressor, LGBMClassifier\n",
    "from catboost import CatBoostRegressor\n",
    "from skopt import BayesSearchCV\n",
    "from skopt.space import Real, Categorical, Integer\n",
    "import tensorflow as tf"
   ]
  },
  {
   "cell_type": "code",
   "execution_count": 135,
   "metadata": {},
   "outputs": [],
   "source": [
    "class NonzeroPowerTransformer(PowerTransformer):\n",
    "    \n",
    "    def __init__(self, method='box-cox', *, standardize=False, copy=True):\n",
    "        self.method = method\n",
    "        self.standardize = standardize\n",
    "        self.copy = copy\n",
    "\n",
    "    def fit(self, X, y=None):\n",
    "        _X = X.copy()\n",
    "        self._fit(_X[_X > 0.0], y=y, force_transform=False)\n",
    "        return self\n",
    "\n",
    "    def fit_transform(self, X, y=None):\n",
    "        _X = X.copy()\n",
    "        return self._fit([_X > 0.0], y, force_transform=True)\n",
    "\n",
    "    def transform(self, X):\n",
    "        check_is_fitted(self)\n",
    "\n",
    "        transform_function = {'box-cox': boxcox,\n",
    "                              'yeo-johnson': self._yeo_johnson_transform\n",
    "                              }[self.method]\n",
    "        for i, lmbda in enumerate(self.lambdas_):\n",
    "            with np.errstate(invalid='ignore'):  # hide NaN warnings\n",
    "                X[:, i] = np.where(X[:, i] > 0.0, transform_function(X[:, i], lmbda), 0.0)\n",
    "\n",
    "        if self.standardize:\n",
    "            X = self._scaler.transform(X)\n",
    "\n",
    "        return X\n",
    "\n",
    "    def inverse_transform(self, X):\n",
    "        check_is_fitted(self)\n",
    "\n",
    "        if self.standardize:\n",
    "            X = self._scaler.inverse_transform(X)\n",
    "\n",
    "        inv_fun = {'box-cox': self._box_cox_inverse_tranform,\n",
    "                   'yeo-johnson': self._yeo_johnson_inverse_transform\n",
    "                   }[self.method]\n",
    "        for i, lmbda in enumerate(self.lambdas_):\n",
    "            with np.errstate(invalid='ignore'):  # hide NaN warnings\n",
    "                X[:, i] = np.where(X[:, i] > 0.0, inv_fun(X[:, i], lmbda), 0.0)\n",
    "\n",
    "        return X"
   ]
  },
  {
   "cell_type": "code",
   "execution_count": 110,
   "metadata": {},
   "outputs": [],
   "source": [
    "# Importing all our data\n",
    "df = pd.read_csv('InsNova_train.csv')\n",
    "df = df.sample(frac=1.0)\n",
    "df['pure_premium'] = df['claim_cost'] / df['exposure']\n",
    "df['avg_cost'] = df['claim_cost'] / np.fmax(df['claim_count'], 1)\n",
    "df['frequency'] = df['claim_count'] / df['exposure']\n",
    "sev_mask = df['claim_ind'] == 1\n",
    "response_cols = ['exposure', 'claim_ind', 'claim_count', 'claim_cost', 'pure_premium', 'avg_cost', 'frequency']\n",
    "X, y = df.drop(response_cols, axis=1), df[response_cols]\n",
    "X = X.drop('id', axis=1)\n",
    "\n",
    "# Adding a condensed veh_body column\n",
    "other_bodies = ['TRUCK', 'COUPE', 'MIBUS', 'PANVN', 'BUS', 'RDSTR', 'MCARA', 'CONVT']\n",
    "X['veh_body2'] = np.where(X['veh_body'].isin(other_bodies), 'OTHER', X['veh_body'])\n",
    "\n",
    "# Creating Categorical dataset for LightGBM and CatBoost\n",
    "for i in ['veh_body', 'veh_body2', 'gender', 'area']:\n",
    "    X[i] = X[i].astype('category')\n",
    "X_sev = X[y['claim_cost'] > 0.0]\n",
    "y_sev = y[y['claim_cost'] > 0.0]\n",
    "lin_cols = ['veh_body2', 'veh_age', 'gender', 'area', 'dr_age', 'veh_value']\n",
    "boost_cols = ['veh_value', 'veh_body', 'veh_age', 'gender', 'area', 'dr_age']\n",
    "    \n",
    "# Defining column transformers for later steps          \n",
    "get_cats = make_column_selector(dtype_include=pd.CategoricalDtype)\n",
    "one_hot = lambda: ColumnTransformer([('one_hot', OneHotEncoder(drop='first', sparse=False), get_cats)], remainder='passthrough')\n",
    "\n",
    "# Initializing cross validated preds\n",
    "cv_preds = {}"
   ]
  },
  {
   "cell_type": "code",
   "execution_count": 116,
   "metadata": {
    "scrolled": true
   },
   "outputs": [
    {
     "data": {
      "image/png": "[encoded data removed]",
      "text/plain": [
       "<Figure size 936x648 with 1 Axes>"
      ]
     },
     "metadata": {
      "needs_background": "light"
     },
     "output_type": "display_data"
    },
    {
     "data": {
      "image/png": "[encoded data removed]",
      "text/plain": [
       "<Figure size 936x648 with 1 Axes>"
      ]
     },
     "metadata": {
      "needs_background": "light"
     },
     "output_type": "display_data"
    },
    {
     "data": {
      "image/png": "[encoded data removed]",
      "text/plain": [
       "<Figure size 936x648 with 1 Axes>"
      ]
     },
     "metadata": {
      "needs_background": "light"
     },
     "output_type": "display_data"
    },
    {
     "data": {
      "image/png": "[encoded data removed]",
      "text/plain": [
       "<Figure size 936x648 with 1 Axes>"
      ]
     },
     "metadata": {
      "needs_background": "light"
     },
     "output_type": "display_data"
    },
    {
     "data": {
      "image/png": "[encoded data removed]",
      "text/plain": [
       "<Figure size 936x648 with 1 Axes>"
      ]
     },
     "metadata": {
      "needs_background": "light"
     },
     "output_type": "display_data"
    },
    {
     "data": {
      "image/png": "[encoded data removed]",
      "text/plain": [
       "<Figure size 936x648 with 1 Axes>"
      ]
     },
     "metadata": {
      "needs_background": "light"
     },
     "output_type": "display_data"
    },
    {
     "data": {
      "image/png": "[encoded data removed]",
      "text/plain": [
       "<Figure size 936x648 with 1 Axes>"
      ]
     },
     "metadata": {
      "needs_background": "light"
     },
     "output_type": "display_data"
    },
    {
     "data": {
      "image/png": "[encoded data removed]",
      "text/plain": [
       "<Figure size 936x648 with 1 Axes>"
      ]
     },
     "metadata": {
      "needs_background": "light"
     },
     "output_type": "display_data"
    },
    {
     "data": {
      "image/png": "[encoded data removed]",
      "text/plain": [
       "<Figure size 936x648 with 1 Axes>"
      ]
     },
     "metadata": {
      "needs_background": "light"
     },
     "output_type": "display_data"
    },
    {
     "data": {
      "image/png": "[encoded data removed]",
      "text/plain": [
       "<Figure size 936x648 with 1 Axes>"
      ]
     },
     "metadata": {
      "needs_background": "light"
     },
     "output_type": "display_data"
    },
    {
     "data": {
      "image/png": "[encoded data removed]",
      "text/plain": [
       "<Figure size 936x648 with 1 Axes>"
      ]
     },
     "metadata": {
      "needs_background": "light"
     },
     "output_type": "display_data"
    },
    {
     "data": {
      "image/png": "[encoded data removed]",
      "text/plain": [
       "<Figure size 936x648 with 1 Axes>"
      ]
     },
     "metadata": {
      "needs_background": "light"
     },
     "output_type": "display_data"
    },
    {
     "data": {
      "image/png": "[encoded data removed]",
      "text/plain": [
       "<Figure size 936x648 with 1 Axes>"
      ]
     },
     "metadata": {
      "needs_background": "light"
     },
     "output_type": "display_data"
    }
   ],
   "source": [
    "# Looking at responses\n",
    "# Claim Cost\n",
    "plt.figure(figsize=(13, 9))\n",
    "plt.hist(y_sev['claim_cost'], bins=100)\n",
    "plt.title('Density of Claim Cost | {:.3f} skew'.format(skew(y['claim_cost'][sev_mask])))\n",
    "plt.show()\n",
    "\n",
    "# Log Claim Cost\n",
    "_x = np.log(y_sev['claim_cost'])\n",
    "plt.figure(figsize=(13, 9))\n",
    "plt.hist(np.log(y_sev['claim_cost']), bins=100)\n",
    "plt.title('Density of Log Claim Cost | {:.3f} skew'.format(skew(_x)))\n",
    "plt.show()\n",
    "\n",
    "# Box-Cox Claim Cost\n",
    "_x = power_transform(y_sev['claim_cost'].values.reshape(-1, 1), method='box-cox', standardize=False).flatten()\n",
    "plt.figure(figsize=(13, 9))\n",
    "plt.hist(_x, bins=100)\n",
    "plt.title('Density of Box-Cox Claim Cost | {:.3f} skew'.format(skew(_x)))\n",
    "plt.show()\n",
    "\n",
    "# Severity\n",
    "plt.figure(figsize=(13, 9))\n",
    "plt.hist(y_sev['avg_cost'], bins=100)\n",
    "plt.title('Density of Severity | {:.3f} skew'.format(skew(y['avg_cost'][sev_mask])))\n",
    "plt.show()\n",
    "\n",
    "# Log severity\n",
    "_x = np.log(y_sev['avg_cost'])\n",
    "plt.figure(figsize=(13, 9))\n",
    "plt.hist(_x, bins=100)\n",
    "plt.title('Density of Log Severity | {:.3f} skew'.format(skew(_x)))\n",
    "plt.show()\n",
    "\n",
    "# Box-Cox severity\n",
    "_x = power_transform(y_sev['avg_cost'].values.reshape(-1, 1), method='box-cox', standardize=False).flatten()\n",
    "plt.figure(figsize=(13, 9))\n",
    "plt.hist(_x, bins=100)\n",
    "plt.title('Density of Box-Cox Severity | {:.3f} skew'.format(skew(_x)))\n",
    "plt.show()\n",
    "\n",
    "# Pure Premium\n",
    "plt.figure(figsize=(13, 9))\n",
    "plt.hist(y['pure_premium'], bins=100)\n",
    "plt.title('Density of Pure Premium | {:.3f} skew'.format(skew(y['pure_premium'][sev_mask])))\n",
    "plt.show()\n",
    "\n",
    "# Log Pure Premium + 100\n",
    "_x = np.log(y['pure_premium'] + 100)\n",
    "plt.figure(figsize=(13, 9))\n",
    "plt.hist(_x, bins=100)\n",
    "plt.title('Density of Log (Pure Premium+100) | {:.3f} skew'.format(skew(_x)))\n",
    "plt.show()\n",
    "\n",
    "# Box-Cox Pure Premium + 100\n",
    "_x = power_transform(y['pure_premium'].values.reshape(-1, 1) + 100, method='box-cox', standardize=False).flatten()\n",
    "plt.figure(figsize=(13, 9))\n",
    "plt.hist(_x, bins=100)\n",
    "plt.title('Density of Box Cox (Pure Premium + 100) | {:.3f} skew'.format(skew(_x)))\n",
    "plt.show()\n",
    "\n",
    "# Box-Cox only on claims, applied to all (Pure Premium + 100)\n",
    "p = PowerTransformer(method='box-cox', standardize=False).fit(y['pure_premium'][sev_mask].values.reshape(-1, 1) + 100)\n",
    "_x = p.transform(y['pure_premium'].values.reshape(-1, 1) + 100).flatten()\n",
    "plt.figure(figsize=(13, 9))\n",
    "plt.hist(_x, bins=100)\n",
    "plt.title('Density of Box Cox of Sev on Pure Premium | {:.3f} skew'.format(skew(_x)))\n",
    "plt.show()\n",
    "\n",
    "# Frequency\n",
    "plt.figure(figsize=(13, 9))\n",
    "plt.hist(y['frequency'], bins=100)\n",
    "plt.title('Density of Frequency | {:.3f} skew'.format(skew(y['frequency'])))\n",
    "plt.show()\n",
    "\n",
    "# Log Frequency + 20\n",
    "_x = np.log(y['frequency'] + 20)\n",
    "plt.figure(figsize=(13, 9))\n",
    "plt.hist(_x, bins=100)\n",
    "plt.title('Density of Log(Frequency + 20) | {:.3f} skew'.format(skew(_x)))\n",
    "plt.show()\n",
    "\n",
    "# Box Cox Frequency + 1 (only scale on claims)\n",
    "p = PowerTransformer(method='box-cox', standardize=False).fit(y['frequency'][sev_mask].values.reshape(-1, 1) + 1)\n",
    "_x = p.transform(y['frequency'].values.reshape(-1, 1) + 100).flatten()\n",
    "plt.figure(figsize=(13, 9))\n",
    "plt.hist(_x, bins=100)\n",
    "plt.title('Density of Box Cox Frequency | {:.3f} skew'.format(skew(_x)))\n",
    "plt.show()\n",
    "\n",
    "# Box-Cox looks to be the best here, tough to transform Tweedie properly though"
   ]
  },
  {
   "cell_type": "code",
   "execution_count": 59,
   "metadata": {},
   "outputs": [
    {
     "data": {
      "text/html": [
       "<div>\n",
       "<style scoped>\n",
       "    .dataframe tbody tr th:only-of-type {\n",
       "        vertical-align: middle;\n",
       "    }\n",
       "\n",
       "    .dataframe tbody tr th {\n",
       "        vertical-align: top;\n",
       "    }\n",
       "\n",
       "    .dataframe thead th {\n",
       "        text-align: right;\n",
       "    }\n",
       "</style>\n",
       "<table border=\"1\" class=\"dataframe\">\n",
       "  <thead>\n",
       "    <tr style=\"text-align: right;\">\n",
       "      <th></th>\n",
       "      <th>id</th>\n",
       "      <th>veh_value</th>\n",
       "      <th>exposure</th>\n",
       "      <th>veh_body</th>\n",
       "      <th>veh_age</th>\n",
       "      <th>gender</th>\n",
       "      <th>area</th>\n",
       "      <th>dr_age</th>\n",
       "      <th>claim_ind</th>\n",
       "      <th>claim_count</th>\n",
       "      <th>claim_cost</th>\n",
       "      <th>pure_premium</th>\n",
       "      <th>avg_cost</th>\n",
       "      <th>frequency</th>\n",
       "    </tr>\n",
       "  </thead>\n",
       "  <tbody>\n",
       "    <tr>\n",
       "      <th>5158</th>\n",
       "      <td>15446</td>\n",
       "      <td>5.28</td>\n",
       "      <td>0.173134</td>\n",
       "      <td>STNWG</td>\n",
       "      <td>2</td>\n",
       "      <td>M</td>\n",
       "      <td>A</td>\n",
       "      <td>2</td>\n",
       "      <td>1</td>\n",
       "      <td>1</td>\n",
       "      <td>57895.584560</td>\n",
       "      <td>334398.325326</td>\n",
       "      <td>57895.584560</td>\n",
       "      <td>5.775887</td>\n",
       "    </tr>\n",
       "    <tr>\n",
       "      <th>22538</th>\n",
       "      <td>67648</td>\n",
       "      <td>4.90</td>\n",
       "      <td>0.092339</td>\n",
       "      <td>STNWG</td>\n",
       "      <td>1</td>\n",
       "      <td>F</td>\n",
       "      <td>F</td>\n",
       "      <td>2</td>\n",
       "      <td>1</td>\n",
       "      <td>1</td>\n",
       "      <td>37785.261650</td>\n",
       "      <td>409202.123115</td>\n",
       "      <td>37785.261650</td>\n",
       "      <td>10.829676</td>\n",
       "    </tr>\n",
       "    <tr>\n",
       "      <th>22562</th>\n",
       "      <td>67717</td>\n",
       "      <td>3.78</td>\n",
       "      <td>0.333892</td>\n",
       "      <td>HDTOP</td>\n",
       "      <td>2</td>\n",
       "      <td>M</td>\n",
       "      <td>F</td>\n",
       "      <td>1</td>\n",
       "      <td>1</td>\n",
       "      <td>1</td>\n",
       "      <td>34460.837510</td>\n",
       "      <td>103209.637522</td>\n",
       "      <td>34460.837510</td>\n",
       "      <td>2.994983</td>\n",
       "    </tr>\n",
       "    <tr>\n",
       "      <th>5092</th>\n",
       "      <td>15269</td>\n",
       "      <td>2.34</td>\n",
       "      <td>0.977423</td>\n",
       "      <td>SEDAN</td>\n",
       "      <td>2</td>\n",
       "      <td>M</td>\n",
       "      <td>A</td>\n",
       "      <td>4</td>\n",
       "      <td>1</td>\n",
       "      <td>1</td>\n",
       "      <td>29661.347820</td>\n",
       "      <td>30346.483286</td>\n",
       "      <td>29661.347820</td>\n",
       "      <td>1.023099</td>\n",
       "    </tr>\n",
       "    <tr>\n",
       "      <th>16626</th>\n",
       "      <td>49874</td>\n",
       "      <td>1.18</td>\n",
       "      <td>0.538212</td>\n",
       "      <td>SEDAN</td>\n",
       "      <td>3</td>\n",
       "      <td>F</td>\n",
       "      <td>C</td>\n",
       "      <td>2</td>\n",
       "      <td>1</td>\n",
       "      <td>1</td>\n",
       "      <td>29614.535570</td>\n",
       "      <td>55023.916930</td>\n",
       "      <td>29614.535570</td>\n",
       "      <td>1.858004</td>\n",
       "    </tr>\n",
       "    <tr>\n",
       "      <th>...</th>\n",
       "      <td>...</td>\n",
       "      <td>...</td>\n",
       "      <td>...</td>\n",
       "      <td>...</td>\n",
       "      <td>...</td>\n",
       "      <td>...</td>\n",
       "      <td>...</td>\n",
       "      <td>...</td>\n",
       "      <td>...</td>\n",
       "      <td>...</td>\n",
       "      <td>...</td>\n",
       "      <td>...</td>\n",
       "      <td>...</td>\n",
       "      <td>...</td>\n",
       "    </tr>\n",
       "    <tr>\n",
       "      <th>9630</th>\n",
       "      <td>28902</td>\n",
       "      <td>1.48</td>\n",
       "      <td>0.506591</td>\n",
       "      <td>HBACK</td>\n",
       "      <td>1</td>\n",
       "      <td>F</td>\n",
       "      <td>B</td>\n",
       "      <td>1</td>\n",
       "      <td>1</td>\n",
       "      <td>1</td>\n",
       "      <td>200.072039</td>\n",
       "      <td>394.937817</td>\n",
       "      <td>200.072039</td>\n",
       "      <td>1.973978</td>\n",
       "    </tr>\n",
       "    <tr>\n",
       "      <th>5112</th>\n",
       "      <td>15313</td>\n",
       "      <td>1.53</td>\n",
       "      <td>0.323186</td>\n",
       "      <td>SEDAN</td>\n",
       "      <td>3</td>\n",
       "      <td>M</td>\n",
       "      <td>A</td>\n",
       "      <td>5</td>\n",
       "      <td>1</td>\n",
       "      <td>1</td>\n",
       "      <td>200.070740</td>\n",
       "      <td>619.057443</td>\n",
       "      <td>200.070740</td>\n",
       "      <td>3.094193</td>\n",
       "    </tr>\n",
       "    <tr>\n",
       "      <th>16501</th>\n",
       "      <td>49510</td>\n",
       "      <td>2.31</td>\n",
       "      <td>0.884337</td>\n",
       "      <td>SEDAN</td>\n",
       "      <td>1</td>\n",
       "      <td>F</td>\n",
       "      <td>C</td>\n",
       "      <td>3</td>\n",
       "      <td>1</td>\n",
       "      <td>1</td>\n",
       "      <td>200.037808</td>\n",
       "      <td>226.200948</td>\n",
       "      <td>200.037808</td>\n",
       "      <td>1.130791</td>\n",
       "    </tr>\n",
       "    <tr>\n",
       "      <th>22526</th>\n",
       "      <td>67613</td>\n",
       "      <td>2.49</td>\n",
       "      <td>0.651612</td>\n",
       "      <td>SEDAN</td>\n",
       "      <td>1</td>\n",
       "      <td>F</td>\n",
       "      <td>F</td>\n",
       "      <td>3</td>\n",
       "      <td>1</td>\n",
       "      <td>1</td>\n",
       "      <td>200.003534</td>\n",
       "      <td>306.936747</td>\n",
       "      <td>200.003534</td>\n",
       "      <td>1.534657</td>\n",
       "    </tr>\n",
       "    <tr>\n",
       "      <th>19290</th>\n",
       "      <td>57877</td>\n",
       "      <td>0.95</td>\n",
       "      <td>0.761123</td>\n",
       "      <td>HBACK</td>\n",
       "      <td>3</td>\n",
       "      <td>F</td>\n",
       "      <td>D</td>\n",
       "      <td>3</td>\n",
       "      <td>1</td>\n",
       "      <td>1</td>\n",
       "      <td>200.000603</td>\n",
       "      <td>262.770453</td>\n",
       "      <td>200.000603</td>\n",
       "      <td>1.313848</td>\n",
       "    </tr>\n",
       "  </tbody>\n",
       "</table>\n",
       "<p>1534 rows × 14 columns</p>\n",
       "</div>"
      ],
      "text/plain": [
       "          id  veh_value  exposure veh_body  veh_age gender area  dr_age  \\\n",
       "5158   15446       5.28  0.173134    STNWG        2      M    A       2   \n",
       "22538  67648       4.90  0.092339    STNWG        1      F    F       2   \n",
       "22562  67717       3.78  0.333892    HDTOP        2      M    F       1   \n",
       "5092   15269       2.34  0.977423    SEDAN        2      M    A       4   \n",
       "16626  49874       1.18  0.538212    SEDAN        3      F    C       2   \n",
       "...      ...        ...       ...      ...      ...    ...  ...     ...   \n",
       "9630   28902       1.48  0.506591    HBACK        1      F    B       1   \n",
       "5112   15313       1.53  0.323186    SEDAN        3      M    A       5   \n",
       "16501  49510       2.31  0.884337    SEDAN        1      F    C       3   \n",
       "22526  67613       2.49  0.651612    SEDAN        1      F    F       3   \n",
       "19290  57877       0.95  0.761123    HBACK        3      F    D       3   \n",
       "\n",
       "       claim_ind  claim_count    claim_cost   pure_premium      avg_cost  \\\n",
       "5158           1            1  57895.584560  334398.325326  57895.584560   \n",
       "22538          1            1  37785.261650  409202.123115  37785.261650   \n",
       "22562          1            1  34460.837510  103209.637522  34460.837510   \n",
       "5092           1            1  29661.347820   30346.483286  29661.347820   \n",
       "16626          1            1  29614.535570   55023.916930  29614.535570   \n",
       "...          ...          ...           ...            ...           ...   \n",
       "9630           1            1    200.072039     394.937817    200.072039   \n",
       "5112           1            1    200.070740     619.057443    200.070740   \n",
       "16501          1            1    200.037808     226.200948    200.037808   \n",
       "22526          1            1    200.003534     306.936747    200.003534   \n",
       "19290          1            1    200.000603     262.770453    200.000603   \n",
       "\n",
       "       frequency  \n",
       "5158    5.775887  \n",
       "22538  10.829676  \n",
       "22562   2.994983  \n",
       "5092    1.023099  \n",
       "16626   1.858004  \n",
       "...          ...  \n",
       "9630    1.973978  \n",
       "5112    3.094193  \n",
       "16501   1.130791  \n",
       "22526   1.534657  \n",
       "19290   1.313848  \n",
       "\n",
       "[1534 rows x 14 columns]"
      ]
     },
     "execution_count": 59,
     "metadata": {},
     "output_type": "execute_result"
    }
   ],
   "source": [
    "# Looking at claims\n",
    "df[df['claim_ind'] == 1].sort_values('claim_cost', ascending=False)"
   ]
  },
  {
   "cell_type": "code",
   "execution_count": 60,
   "metadata": {},
   "outputs": [],
   "source": [
    "# Defining our gini function\n",
    "def gini(y_true, y_pred):\n",
    "    # check and get number of samples\n",
    "    assert y_true.shape == y_pred.shape\n",
    "    n_samples = y_true.shape[0]\n",
    "    \n",
    "    # sort rows on prediction column \n",
    "    # (from largest to smallest)\n",
    "    arr = np.array([y_true, y_pred]).transpose()\n",
    "    true_order = arr[arr[:,0].argsort()][::-1,0]\n",
    "    pred_order = arr[arr[:,1].argsort()][::-1,0]\n",
    "    \n",
    "    # get Lorenz curves\n",
    "    L_true = np.cumsum(true_order) / np.fmax(1.0, np.sum(true_order))\n",
    "    L_pred = np.cumsum(pred_order) / np.fmax(1.0, np.sum(pred_order))\n",
    "    L_ones = np.linspace(1/n_samples, 1, n_samples)\n",
    "    \n",
    "    # get Gini coefficients (area between curves)\n",
    "    G_true = np.sum(L_ones - L_true)\n",
    "    G_pred = np.sum(L_ones - L_pred)\n",
    "    \n",
    "    # normalize to true Gini coefficient\n",
    "    return G_pred/G_true"
   ]
  },
  {
   "cell_type": "code",
   "execution_count": 61,
   "metadata": {},
   "outputs": [],
   "source": [
    "# Defining a function to get cross-validated predictions\n",
    "def get_cv_preds(model, X, y, fit_params, proba=False):\n",
    "    return cross_val_predict(model, X, y, fit_params=fit_params, cv=KFold(30), method='predict_proba' if proba else 'predict')\n",
    "    #preds = []\n",
    "    #for i in range(5):\n",
    "    #    _x = cross_val_predict(model, X, y,\n",
    "    #                           fit_params=fit_params,\n",
    "    #                           cv=KFold(5, random_state=i),\n",
    "    #                           method='predict_proba' if proba else 'predict')\n",
    "    #    if len(_x.shape) == 2:\n",
    "    #        _x = _x[:, 0]\n",
    "    #    preds.append(_x)\n",
    "    #return np.mean(np.vstack(preds), axis=0)"
   ]
  },
  {
   "cell_type": "code",
   "execution_count": 5,
   "metadata": {},
   "outputs": [
    {
     "name": "stdout",
     "output_type": "stream",
     "text": [
      "              precision    recall  f1-score   support\n",
      "\n",
      "           0       0.95      0.08      0.15     21076\n",
      "           1       0.07      0.94      0.13      1534\n",
      "\n",
      "    accuracy                           0.14     22610\n",
      "   macro avg       0.51      0.51      0.14     22610\n",
      "weighted avg       0.89      0.14      0.15     22610\n",
      "\n",
      "              precision    recall  f1-score   support\n",
      "\n",
      "           0       0.95      0.09      0.16     21076\n",
      "           1       0.07      0.94      0.13      1534\n",
      "\n",
      "    accuracy                           0.14     22610\n",
      "   macro avg       0.51      0.51      0.14     22610\n",
      "weighted avg       0.89      0.14      0.15     22610\n",
      "\n"
     ]
    }
   ],
   "source": [
    "# Logistic Regression for indicator\n",
    "logit_ind = make_pipeline(one_hot(),\n",
    "                          StandardScaler(),\n",
    "                          LogisticRegressionCV(cv=5,\n",
    "                                               max_iter=1000,\n",
    "                                               class_weight='balanced'))\n",
    "cv_preds['logit_ind'] = get_cv_preds(logit_ind,\n",
    "                                     X.drop('veh_body', axis=1),\n",
    "                                     y['claim_ind'],\n",
    "                                     {'logisticregressioncv__sample_weight': y['exposure']},\n",
    "                                     True)\n",
    "logit_ind.fit(X.drop('veh_body', axis=1), y['claim_ind'], logisticregressioncv__sample_weight=y['exposure'])\n",
    "print(classification_report(y['claim_ind'], logit_ind.predict_proba(X.drop('veh_body', axis=1))[:, 1] > 0.5))\n",
    "print(classification_report(y['claim_ind'], cv_preds['logit_ind'][:, 1] > 0.5))"
   ]
  },
  {
   "cell_type": "code",
   "execution_count": 6,
   "metadata": {},
   "outputs": [
    {
     "name": "stdout",
     "output_type": "stream",
     "text": [
      "              precision    recall  f1-score   support\n",
      "\n",
      "           0       0.95      0.08      0.14     21076\n",
      "           1       0.07      0.95      0.13      1534\n",
      "\n",
      "    accuracy                           0.14     22610\n",
      "   macro avg       0.51      0.51      0.14     22610\n",
      "weighted avg       0.89      0.14      0.14     22610\n",
      "\n",
      "              precision    recall  f1-score   support\n",
      "\n",
      "           0       0.94      0.09      0.16     21076\n",
      "           1       0.07      0.93      0.13      1534\n",
      "\n",
      "    accuracy                           0.14     22610\n",
      "   macro avg       0.51      0.51      0.14     22610\n",
      "weighted avg       0.88      0.14      0.15     22610\n",
      "\n"
     ]
    }
   ],
   "source": [
    "# Naive bayes\n",
    "nb_ind = make_pipeline(one_hot(),\n",
    "                          StandardScaler(),\n",
    "                          BernoulliNB())\n",
    "cv_preds['nb_ind'] = get_cv_preds(nb_ind,\n",
    "                                     X.drop('veh_body', axis=1),\n",
    "                                     y['claim_ind'],\n",
    "                                     {'bernoullinb__sample_weight': y['exposure']},\n",
    "                                     True)\n",
    "nb_ind.fit(X.drop('veh_body', axis=1), y['claim_ind'], bernoullinb__sample_weight=y['exposure'])\n",
    "print(classification_report(y['claim_ind'], nb_ind.predict_proba(X.drop('veh_body', axis=1))[:, 1] > 0.5))\n",
    "print(classification_report(y['claim_ind'], cv_preds['nb_ind'][:, 1] > 0.5))"
   ]
  },
  {
   "cell_type": "code",
   "execution_count": 8,
   "metadata": {},
   "outputs": [
    {
     "data": {
      "text/plain": [
       "\"\\nsvc_ind = make_pipeline(one_hot(),\\n                          StandardScaler(),\\n                          SVC(probability=True, class_weight='balanced'))\\ncv_preds['svc_ind'] = get_cv_preds(svc_ind,\\n                                   X.drop('veh_body', axis=1),\\n                                   y['claim_ind'],\\n                                   {'svc__sample_weight': y['exposure']},\\n                                   True)\\nsvc_ind.fit(X.drop('veh_body', axis=1), y['claim_ind'], svc__sample_weight=y['exposure'])\\nprint(classification_report(y['claim_ind'], svc_ind.predict_proba(X.drop('veh_body', axis=1))[:, 0] > 0.5))\\nprint(classification_report(y['claim_ind'], cv_preds['svc_ind'][:, 0] > 0.5))\\n\""
      ]
     },
     "execution_count": 8,
     "metadata": {},
     "output_type": "execute_result"
    }
   ],
   "source": [
    "# SVC\n",
    "\"\"\"\n",
    "svc_ind = make_pipeline(one_hot(),\n",
    "                          StandardScaler(),\n",
    "                          SVC(probability=True, class_weight='balanced'))\n",
    "cv_preds['svc_ind'] = get_cv_preds(svc_ind,\n",
    "                                   X.drop('veh_body', axis=1),\n",
    "                                   y['claim_ind'],\n",
    "                                   {'svc__sample_weight': y['exposure']},\n",
    "                                   True)\n",
    "svc_ind.fit(X.drop('veh_body', axis=1), y['claim_ind'], svc__sample_weight=y['exposure'])\n",
    "print(classification_report(y['claim_ind'], svc_ind.predict_proba(X.drop('veh_body', axis=1))[:, 0] > 0.5))\n",
    "print(classification_report(y['claim_ind'], cv_preds['svc_ind'][:, 0] > 0.5))\n",
    "\"\"\""
   ]
  },
  {
   "cell_type": "code",
   "execution_count": 7,
   "metadata": {},
   "outputs": [
    {
     "name": "stdout",
     "output_type": "stream",
     "text": [
      "              precision    recall  f1-score   support\n",
      "\n",
      "           0       0.93      1.00      0.97     21076\n",
      "           1       0.69      0.02      0.04      1534\n",
      "\n",
      "    accuracy                           0.93     22610\n",
      "   macro avg       0.81      0.51      0.50     22610\n",
      "weighted avg       0.92      0.93      0.90     22610\n",
      "\n",
      "              precision    recall  f1-score   support\n",
      "\n",
      "           0       0.93      1.00      0.96     21076\n",
      "           1       0.01      0.00      0.00      1534\n",
      "\n",
      "    accuracy                           0.93     22610\n",
      "   macro avg       0.47      0.50      0.48     22610\n",
      "weighted avg       0.87      0.93      0.90     22610\n",
      "\n"
     ]
    }
   ],
   "source": [
    "# KNN\n",
    "knn_ind = make_pipeline(one_hot(),\n",
    "                        StandardScaler(),\n",
    "                        KNeighborsClassifier(n_jobs=-1))\n",
    "cv_preds['knn_ind'] = get_cv_preds(knn_ind,\n",
    "                                   X.drop('veh_body', axis=1),\n",
    "                                   y['claim_ind'],\n",
    "                                   {},\n",
    "                                   True)\n",
    "knn_ind.fit(X.drop('veh_body', axis=1), y['claim_ind'])\n",
    "print(classification_report(y['claim_ind'], knn_ind.predict_proba(X.drop('veh_body', axis=1))[:, 1] > 0.5))\n",
    "print(classification_report(y['claim_ind'], cv_preds['knn_ind'][:, 1] > 0.5))"
   ]
  },
  {
   "cell_type": "code",
   "execution_count": 11,
   "metadata": {
    "scrolled": true
   },
   "outputs": [
    {
     "name": "stderr",
     "output_type": "stream",
     "text": [
      "C:\\Users\\gursk\\anaconda3\\envs\\travelers\\lib\\site-packages\\sklearn\\neural_network\\_multilayer_perceptron.py:582: ConvergenceWarning: Stochastic Optimizer: Maximum iterations (75) reached and the optimization hasn't converged yet.\n",
      "  warnings.warn(\n",
      "C:\\Users\\gursk\\anaconda3\\envs\\travelers\\lib\\site-packages\\sklearn\\neural_network\\_multilayer_perceptron.py:582: ConvergenceWarning: Stochastic Optimizer: Maximum iterations (75) reached and the optimization hasn't converged yet.\n",
      "  warnings.warn(\n",
      "C:\\Users\\gursk\\anaconda3\\envs\\travelers\\lib\\site-packages\\sklearn\\neural_network\\_multilayer_perceptron.py:582: ConvergenceWarning: Stochastic Optimizer: Maximum iterations (75) reached and the optimization hasn't converged yet.\n",
      "  warnings.warn(\n",
      "C:\\Users\\gursk\\anaconda3\\envs\\travelers\\lib\\site-packages\\sklearn\\neural_network\\_multilayer_perceptron.py:582: ConvergenceWarning: Stochastic Optimizer: Maximum iterations (75) reached and the optimization hasn't converged yet.\n",
      "  warnings.warn(\n",
      "C:\\Users\\gursk\\anaconda3\\envs\\travelers\\lib\\site-packages\\sklearn\\neural_network\\_multilayer_perceptron.py:582: ConvergenceWarning: Stochastic Optimizer: Maximum iterations (75) reached and the optimization hasn't converged yet.\n",
      "  warnings.warn(\n",
      "C:\\Users\\gursk\\anaconda3\\envs\\travelers\\lib\\site-packages\\sklearn\\neural_network\\_multilayer_perceptron.py:582: ConvergenceWarning: Stochastic Optimizer: Maximum iterations (75) reached and the optimization hasn't converged yet.\n",
      "  warnings.warn(\n",
      "C:\\Users\\gursk\\anaconda3\\envs\\travelers\\lib\\site-packages\\sklearn\\neural_network\\_multilayer_perceptron.py:582: ConvergenceWarning: Stochastic Optimizer: Maximum iterations (75) reached and the optimization hasn't converged yet.\n",
      "  warnings.warn(\n",
      "C:\\Users\\gursk\\anaconda3\\envs\\travelers\\lib\\site-packages\\sklearn\\neural_network\\_multilayer_perceptron.py:582: ConvergenceWarning: Stochastic Optimizer: Maximum iterations (75) reached and the optimization hasn't converged yet.\n",
      "  warnings.warn(\n",
      "C:\\Users\\gursk\\anaconda3\\envs\\travelers\\lib\\site-packages\\sklearn\\neural_network\\_multilayer_perceptron.py:582: ConvergenceWarning: Stochastic Optimizer: Maximum iterations (75) reached and the optimization hasn't converged yet.\n",
      "  warnings.warn(\n",
      "C:\\Users\\gursk\\anaconda3\\envs\\travelers\\lib\\site-packages\\sklearn\\neural_network\\_multilayer_perceptron.py:582: ConvergenceWarning: Stochastic Optimizer: Maximum iterations (75) reached and the optimization hasn't converged yet.\n",
      "  warnings.warn(\n",
      "C:\\Users\\gursk\\anaconda3\\envs\\travelers\\lib\\site-packages\\sklearn\\neural_network\\_multilayer_perceptron.py:582: ConvergenceWarning: Stochastic Optimizer: Maximum iterations (75) reached and the optimization hasn't converged yet.\n",
      "  warnings.warn(\n",
      "C:\\Users\\gursk\\anaconda3\\envs\\travelers\\lib\\site-packages\\sklearn\\neural_network\\_multilayer_perceptron.py:582: ConvergenceWarning: Stochastic Optimizer: Maximum iterations (75) reached and the optimization hasn't converged yet.\n",
      "  warnings.warn(\n",
      "C:\\Users\\gursk\\anaconda3\\envs\\travelers\\lib\\site-packages\\sklearn\\neural_network\\_multilayer_perceptron.py:582: ConvergenceWarning: Stochastic Optimizer: Maximum iterations (75) reached and the optimization hasn't converged yet.\n",
      "  warnings.warn(\n",
      "C:\\Users\\gursk\\anaconda3\\envs\\travelers\\lib\\site-packages\\sklearn\\neural_network\\_multilayer_perceptron.py:582: ConvergenceWarning: Stochastic Optimizer: Maximum iterations (75) reached and the optimization hasn't converged yet.\n",
      "  warnings.warn(\n",
      "C:\\Users\\gursk\\anaconda3\\envs\\travelers\\lib\\site-packages\\sklearn\\neural_network\\_multilayer_perceptron.py:582: ConvergenceWarning: Stochastic Optimizer: Maximum iterations (75) reached and the optimization hasn't converged yet.\n",
      "  warnings.warn(\n",
      "C:\\Users\\gursk\\anaconda3\\envs\\travelers\\lib\\site-packages\\sklearn\\neural_network\\_multilayer_perceptron.py:582: ConvergenceWarning: Stochastic Optimizer: Maximum iterations (75) reached and the optimization hasn't converged yet.\n",
      "  warnings.warn(\n",
      "C:\\Users\\gursk\\anaconda3\\envs\\travelers\\lib\\site-packages\\sklearn\\neural_network\\_multilayer_perceptron.py:582: ConvergenceWarning: Stochastic Optimizer: Maximum iterations (75) reached and the optimization hasn't converged yet.\n",
      "  warnings.warn(\n",
      "C:\\Users\\gursk\\anaconda3\\envs\\travelers\\lib\\site-packages\\sklearn\\neural_network\\_multilayer_perceptron.py:582: ConvergenceWarning: Stochastic Optimizer: Maximum iterations (75) reached and the optimization hasn't converged yet.\n",
      "  warnings.warn(\n",
      "C:\\Users\\gursk\\anaconda3\\envs\\travelers\\lib\\site-packages\\sklearn\\neural_network\\_multilayer_perceptron.py:582: ConvergenceWarning: Stochastic Optimizer: Maximum iterations (75) reached and the optimization hasn't converged yet.\n",
      "  warnings.warn(\n",
      "C:\\Users\\gursk\\anaconda3\\envs\\travelers\\lib\\site-packages\\sklearn\\neural_network\\_multilayer_perceptron.py:582: ConvergenceWarning: Stochastic Optimizer: Maximum iterations (75) reached and the optimization hasn't converged yet.\n",
      "  warnings.warn(\n",
      "C:\\Users\\gursk\\anaconda3\\envs\\travelers\\lib\\site-packages\\sklearn\\neural_network\\_multilayer_perceptron.py:582: ConvergenceWarning: Stochastic Optimizer: Maximum iterations (75) reached and the optimization hasn't converged yet.\n",
      "  warnings.warn(\n",
      "C:\\Users\\gursk\\anaconda3\\envs\\travelers\\lib\\site-packages\\sklearn\\neural_network\\_multilayer_perceptron.py:582: ConvergenceWarning: Stochastic Optimizer: Maximum iterations (75) reached and the optimization hasn't converged yet.\n",
      "  warnings.warn(\n",
      "C:\\Users\\gursk\\anaconda3\\envs\\travelers\\lib\\site-packages\\sklearn\\neural_network\\_multilayer_perceptron.py:582: ConvergenceWarning: Stochastic Optimizer: Maximum iterations (75) reached and the optimization hasn't converged yet.\n",
      "  warnings.warn(\n",
      "C:\\Users\\gursk\\anaconda3\\envs\\travelers\\lib\\site-packages\\sklearn\\neural_network\\_multilayer_perceptron.py:582: ConvergenceWarning: Stochastic Optimizer: Maximum iterations (75) reached and the optimization hasn't converged yet.\n",
      "  warnings.warn(\n",
      "C:\\Users\\gursk\\anaconda3\\envs\\travelers\\lib\\site-packages\\sklearn\\neural_network\\_multilayer_perceptron.py:582: ConvergenceWarning: Stochastic Optimizer: Maximum iterations (75) reached and the optimization hasn't converged yet.\n",
      "  warnings.warn(\n",
      "C:\\Users\\gursk\\anaconda3\\envs\\travelers\\lib\\site-packages\\sklearn\\neural_network\\_multilayer_perceptron.py:582: ConvergenceWarning: Stochastic Optimizer: Maximum iterations (75) reached and the optimization hasn't converged yet.\n",
      "  warnings.warn(\n",
      "C:\\Users\\gursk\\anaconda3\\envs\\travelers\\lib\\site-packages\\sklearn\\neural_network\\_multilayer_perceptron.py:582: ConvergenceWarning: Stochastic Optimizer: Maximum iterations (75) reached and the optimization hasn't converged yet.\n",
      "  warnings.warn(\n",
      "C:\\Users\\gursk\\anaconda3\\envs\\travelers\\lib\\site-packages\\sklearn\\neural_network\\_multilayer_perceptron.py:582: ConvergenceWarning: Stochastic Optimizer: Maximum iterations (75) reached and the optimization hasn't converged yet.\n",
      "  warnings.warn(\n",
      "C:\\Users\\gursk\\anaconda3\\envs\\travelers\\lib\\site-packages\\sklearn\\neural_network\\_multilayer_perceptron.py:582: ConvergenceWarning: Stochastic Optimizer: Maximum iterations (75) reached and the optimization hasn't converged yet.\n",
      "  warnings.warn(\n",
      "C:\\Users\\gursk\\anaconda3\\envs\\travelers\\lib\\site-packages\\sklearn\\neural_network\\_multilayer_perceptron.py:582: ConvergenceWarning: Stochastic Optimizer: Maximum iterations (75) reached and the optimization hasn't converged yet.\n",
      "  warnings.warn(\n"
     ]
    },
    {
     "name": "stdout",
     "output_type": "stream",
     "text": [
      "              precision    recall  f1-score   support\n",
      "\n",
      "           0       0.93      1.00      0.96     21076\n",
      "           1       0.00      0.00      0.00      1534\n",
      "\n",
      "    accuracy                           0.93     22610\n",
      "   macro avg       0.47      0.50      0.48     22610\n",
      "weighted avg       0.87      0.93      0.90     22610\n",
      "\n",
      "              precision    recall  f1-score   support\n",
      "\n",
      "           0       0.93      1.00      0.96     21076\n",
      "           1       0.00      0.00      0.00      1534\n",
      "\n",
      "    accuracy                           0.93     22610\n",
      "   macro avg       0.47      0.50      0.48     22610\n",
      "weighted avg       0.87      0.93      0.90     22610\n",
      "\n"
     ]
    },
    {
     "name": "stderr",
     "output_type": "stream",
     "text": [
      "C:\\Users\\gursk\\anaconda3\\envs\\travelers\\lib\\site-packages\\sklearn\\neural_network\\_multilayer_perceptron.py:582: ConvergenceWarning: Stochastic Optimizer: Maximum iterations (75) reached and the optimization hasn't converged yet.\n",
      "  warnings.warn(\n",
      "C:\\Users\\gursk\\anaconda3\\envs\\travelers\\lib\\site-packages\\sklearn\\metrics\\_classification.py:1221: UndefinedMetricWarning: Precision and F-score are ill-defined and being set to 0.0 in labels with no predicted samples. Use `zero_division` parameter to control this behavior.\n",
      "  _warn_prf(average, modifier, msg_start, len(result))\n"
     ]
    }
   ],
   "source": [
    "# MLP\n",
    "mlp_ind = make_pipeline(one_hot(),\n",
    "                        StandardScaler(),\n",
    "                        MLPClassifier(max_iter=75))\n",
    "cv_preds['mlp_ind'] = get_cv_preds(mlp_ind,\n",
    "                                   X.drop('veh_body', axis=1),\n",
    "                                   y['claim_ind'],\n",
    "                                   {},\n",
    "                                   True)\n",
    "mlp_ind.fit(X.drop('veh_body', axis=1), y['claim_ind'])\n",
    "print(classification_report(y['claim_ind'], mlp_ind.predict_proba(X.drop('veh_body', axis=1))[:, 1] > 0.5))\n",
    "print(classification_report(y['claim_ind'], cv_preds['mlp_ind'][:, 1] > 0.5))"
   ]
  },
  {
   "cell_type": "code",
   "execution_count": 8,
   "metadata": {},
   "outputs": [
    {
     "name": "stdout",
     "output_type": "stream",
     "text": [
      "              precision    recall  f1-score   support\n",
      "\n",
      "           0       1.00      0.00      0.00     21076\n",
      "           1       0.07      1.00      0.13      1534\n",
      "\n",
      "    accuracy                           0.07     22610\n",
      "   macro avg       0.53      0.50      0.07     22610\n",
      "weighted avg       0.94      0.07      0.01     22610\n",
      "\n",
      "              precision    recall  f1-score   support\n",
      "\n",
      "           0       0.97      0.00      0.00     21076\n",
      "           1       0.07      1.00      0.13      1534\n",
      "\n",
      "    accuracy                           0.07     22610\n",
      "   macro avg       0.52      0.50      0.07     22610\n",
      "weighted avg       0.91      0.07      0.01     22610\n",
      "\n"
     ]
    }
   ],
   "source": [
    "# Sklearn Random Forest\n",
    "skrf_ind = make_pipeline(one_hot(),\n",
    "                          RandomForestClassifier(n_estimators=1000,\n",
    "                                                 max_leaf_nodes=21,\n",
    "                                                 class_weight='balanced',\n",
    "                                                 n_jobs=-1))\n",
    "cv_preds['skrf_ind'] = get_cv_preds(skrf_ind,\n",
    "                                   X.drop('veh_body2', axis=1),\n",
    "                                   y['claim_ind'],\n",
    "                                   {'randomforestclassifier__sample_weight': y['exposure']},\n",
    "                                   True)\n",
    "skrf_ind.fit(X.drop('veh_body2', axis=1), y['claim_ind'], randomforestclassifier__sample_weight=y['exposure'])\n",
    "print(classification_report(y['claim_ind'], skrf_ind.predict_proba(X.drop('veh_body2', axis=1))[:, 1] > 0.5))\n",
    "print(classification_report(y['claim_ind'], cv_preds['skrf_ind'][:, 1] > 0.5))"
   ]
  },
  {
   "cell_type": "code",
   "execution_count": 9,
   "metadata": {},
   "outputs": [
    {
     "name": "stdout",
     "output_type": "stream",
     "text": [
      "              precision    recall  f1-score   support\n",
      "\n",
      "           0       0.98      0.16      0.28     21076\n",
      "           1       0.08      0.95      0.14      1534\n",
      "\n",
      "    accuracy                           0.22     22610\n",
      "   macro avg       0.53      0.55      0.21     22610\n",
      "weighted avg       0.92      0.22      0.27     22610\n",
      "\n",
      "              precision    recall  f1-score   support\n",
      "\n",
      "           0       0.94      0.17      0.29     21076\n",
      "           1       0.07      0.85      0.13      1534\n",
      "\n",
      "    accuracy                           0.22     22610\n",
      "   macro avg       0.51      0.51      0.21     22610\n",
      "weighted avg       0.88      0.22      0.28     22610\n",
      "\n"
     ]
    }
   ],
   "source": [
    "# Sklearn GBM\n",
    "gbm_ind = make_pipeline(one_hot(),\n",
    "                        GradientBoostingClassifier(n_estimators=500,\n",
    "                                                   learning_rate=0.01,\n",
    "                                                   subsample=0.67,\n",
    "                                                   max_leaf_nodes=21))\n",
    "cv_preds['gbm_ind'] = get_cv_preds(gbm_ind,\n",
    "                                   X.drop('veh_body2', axis=1),\n",
    "                                   y['claim_ind'],\n",
    "                                   {'gradientboostingclassifier__sample_weight': y['exposure']},\n",
    "                                   True)\n",
    "gbm_ind.fit(X.drop('veh_body2', axis=1), y['claim_ind'], gradientboostingclassifier__sample_weight=y['exposure'])\n",
    "print(classification_report(y['claim_ind'], gbm_ind.predict_proba(X.drop('veh_body2', axis=1))[:, 1] > 0.5))\n",
    "print(classification_report(y['claim_ind'], cv_preds['gbm_ind'][:, 1] > 0.5))"
   ]
  },
  {
   "cell_type": "code",
   "execution_count": 10,
   "metadata": {},
   "outputs": [
    {
     "name": "stdout",
     "output_type": "stream",
     "text": [
      "              precision    recall  f1-score   support\n",
      "\n",
      "           0       0.00      0.00      0.00     21076\n",
      "           1       0.07      1.00      0.13      1534\n",
      "\n",
      "    accuracy                           0.07     22610\n",
      "   macro avg       0.03      0.50      0.06     22610\n",
      "weighted avg       0.00      0.07      0.01     22610\n",
      "\n",
      "              precision    recall  f1-score   support\n",
      "\n",
      "           0       0.94      0.03      0.06     21076\n",
      "           1       0.07      0.97      0.13      1534\n",
      "\n",
      "    accuracy                           0.10     22610\n",
      "   macro avg       0.50      0.50      0.09     22610\n",
      "weighted avg       0.88      0.10      0.07     22610\n",
      "\n"
     ]
    },
    {
     "name": "stderr",
     "output_type": "stream",
     "text": [
      "C:\\Users\\gursk\\anaconda3\\envs\\travelers\\lib\\site-packages\\sklearn\\metrics\\_classification.py:1221: UndefinedMetricWarning: Precision and F-score are ill-defined and being set to 0.0 in labels with no predicted samples. Use `zero_division` parameter to control this behavior.\n",
      "  _warn_prf(average, modifier, msg_start, len(result))\n"
     ]
    }
   ],
   "source": [
    "# Sklearn HistGBM\n",
    "hgbm_ind = make_pipeline(one_hot(),\n",
    "                         HistGradientBoostingClassifier(max_iter=500,\n",
    "                                                        learning_rate=0.01,\n",
    "                                                        max_leaf_nodes=21))\n",
    "cv_preds['hgbm_ind'] = get_cv_preds(hgbm_ind,\n",
    "                                   X.drop('veh_body2', axis=1),\n",
    "                                   y['claim_ind'],\n",
    "                                   {'histgradientboostingclassifier__sample_weight': y['exposure']},\n",
    "                                   True)\n",
    "hgbm_ind.fit(X.drop('veh_body2', axis=1), y['claim_ind'], histgradientboostingclassifier__sample_weight=y['exposure'])\n",
    "print(classification_report(y['claim_ind'], hgbm_ind.predict_proba(X.drop('veh_body2', axis=1))[:, 1] > 0.5))\n",
    "print(classification_report(y['claim_ind'], cv_preds['hgbm_ind'][:, 1] > 0.5))"
   ]
  },
  {
   "cell_type": "code",
   "execution_count": 13,
   "metadata": {},
   "outputs": [
    {
     "data": {
      "text/plain": [
       "\"\\nAutoSklearn2Classifier\\nauto_ind = make_pipeline(one_hot(),\\n                        StandardScaler(),\\n                        AutoSklearn2Classifier(n_jobs=-1))\\ncv_preds['auto_ind'] = get_cv_preds(auto_ind,\\n                                   X.drop('veh_body2', axis=1),\\n                                   y['claim_ind'],\\n                                   {},\\n                                   True)\\nauto_ind.fit(X.drop('veh_body2', axis=1), y['claim_ind'])\\nprint(classification_report(y['claim_ind'], auto_ind.predict_proba(X.drop('veh_body', axis=1))[:, 0] > 0.5))\\nprint(classification_report(y['claim_ind'], cv_preds['auto_ind'][:, 0] > 0.5))\\n\""
      ]
     },
     "execution_count": 13,
     "metadata": {},
     "output_type": "execute_result"
    }
   ],
   "source": [
    "# Autosklearn\n",
    "\"\"\"\n",
    "AutoSklearn2Classifier\n",
    "auto_ind = make_pipeline(one_hot(),\n",
    "                        StandardScaler(),\n",
    "                        AutoSklearn2Classifier(n_jobs=-1))\n",
    "cv_preds['auto_ind'] = get_cv_preds(auto_ind,\n",
    "                                   X.drop('veh_body2', axis=1),\n",
    "                                   y['claim_ind'],\n",
    "                                   {},\n",
    "                                   True)\n",
    "auto_ind.fit(X.drop('veh_body2', axis=1), y['claim_ind'])\n",
    "print(classification_report(y['claim_ind'], auto_ind.predict_proba(X.drop('veh_body', axis=1))[:, 0] > 0.5))\n",
    "print(classification_report(y['claim_ind'], cv_preds['auto_ind'][:, 0] > 0.5))\n",
    "\"\"\""
   ]
  },
  {
   "cell_type": "code",
   "execution_count": 11,
   "metadata": {},
   "outputs": [
    {
     "name": "stdout",
     "output_type": "stream",
     "text": [
      "              precision    recall  f1-score   support\n",
      "\n",
      "           0       0.94      0.03      0.05     21076\n",
      "           1       0.07      0.97      0.13      1534\n",
      "\n",
      "    accuracy                           0.09     22610\n",
      "   macro avg       0.50      0.50      0.09     22610\n",
      "weighted avg       0.88      0.09      0.06     22610\n",
      "\n",
      "              precision    recall  f1-score   support\n",
      "\n",
      "           0       0.93      0.11      0.20     21076\n",
      "           1       0.07      0.88      0.12      1534\n",
      "\n",
      "    accuracy                           0.16     22610\n",
      "   macro avg       0.50      0.49      0.16     22610\n",
      "weighted avg       0.87      0.16      0.19     22610\n",
      "\n"
     ]
    }
   ],
   "source": [
    "# Lightgbm to predict if any claims\n",
    "rf_ind = LGBMClassifier(n_estimators=1000,\n",
    "                          num_leaves=21,\n",
    "                          learning_rate=1.0,\n",
    "                          colsample_bytree=5 / 7,\n",
    "                          subsample=0.67,\n",
    "                          subsample_freq=1,\n",
    "                          is_unbalance=True,\n",
    "                          objective='binary',\n",
    "                          n_jobs=1)\n",
    "cv_preds['rf_ind'] = get_cv_preds(rf_ind,\n",
    "                                   X.drop('veh_body2', axis=1),\n",
    "                                   y['claim_ind'],\n",
    "                                   {'sample_weight': y['exposure']},\n",
    "                                   True)\n",
    "rf_ind.fit(X.drop('veh_body2', axis=1), y['claim_ind'], sample_weight=y['exposure'])\n",
    "print(classification_report(y['claim_ind'], rf_ind.predict_proba(X.drop('veh_body2', axis=1))[:, 1] > 0.5))\n",
    "print(classification_report(y['claim_ind'], cv_preds['rf_ind'][:, 1] > 0.5))"
   ]
  },
  {
   "cell_type": "code",
   "execution_count": 12,
   "metadata": {},
   "outputs": [
    {
     "name": "stdout",
     "output_type": "stream",
     "text": [
      "              precision    recall  f1-score   support\n",
      "\n",
      "           0       0.00      0.00      0.00     21076\n",
      "           1       0.07      1.00      0.13      1534\n",
      "\n",
      "    accuracy                           0.07     22610\n",
      "   macro avg       0.03      0.50      0.06     22610\n",
      "weighted avg       0.00      0.07      0.01     22610\n",
      "\n",
      "              precision    recall  f1-score   support\n",
      "\n",
      "           0       0.00      0.00      0.00     21076\n",
      "           1       0.07      1.00      0.13      1534\n",
      "\n",
      "    accuracy                           0.07     22610\n",
      "   macro avg       0.03      0.50      0.06     22610\n",
      "weighted avg       0.00      0.07      0.01     22610\n",
      "\n"
     ]
    },
    {
     "name": "stderr",
     "output_type": "stream",
     "text": [
      "C:\\Users\\gursk\\anaconda3\\envs\\travelers\\lib\\site-packages\\sklearn\\metrics\\_classification.py:1221: UndefinedMetricWarning: Precision and F-score are ill-defined and being set to 0.0 in labels with no predicted samples. Use `zero_division` parameter to control this behavior.\n",
      "  _warn_prf(average, modifier, msg_start, len(result))\n"
     ]
    }
   ],
   "source": [
    "# Lightgbm to predict if any claims\n",
    "lgbm_ind = LGBMClassifier(n_estimators=1000,\n",
    "                          num_leaves=21,\n",
    "                          learning_rate=0.001,\n",
    "                          colsample_bytree=6 / 7,\n",
    "                          subsample=0.67,\n",
    "                          subsample_freq=1,\n",
    "                          is_unbalance=True,\n",
    "                          objective='binary',\n",
    "                          n_jobs=-1)\n",
    "cv_preds['lgbm_ind'] = get_cv_preds(lgbm_ind,\n",
    "                                   X.drop('veh_body', axis=1),\n",
    "                                   y['claim_ind'],\n",
    "                                   {'sample_weight': y['exposure']},\n",
    "                                   True)\n",
    "lgbm_ind.fit(X.drop('veh_body', axis=1), y['claim_ind'], sample_weight=y['exposure'])\n",
    "print(classification_report(y['claim_ind'], lgbm_ind.predict_proba(X.drop('veh_body', axis=1))[:, 1] > 0.5))\n",
    "print(classification_report(y['claim_ind'], cv_preds['lgbm_ind'][:, 1] > 0.5))"
   ]
  },
  {
   "cell_type": "code",
   "execution_count": 13,
   "metadata": {
    "scrolled": true
   },
   "outputs": [
    {
     "name": "stdout",
     "output_type": "stream",
     "text": [
      "       logit_ind    nb_ind  knn_ind  skrf_ind   gbm_ind  hgbm_ind  rf_ind  \\\n",
      "0       0.455165  0.478205      1.0  0.058891  0.440032  0.434508     0.0   \n",
      "1       0.448060  0.468983      0.8  0.056833  0.438607  0.411467     0.0   \n",
      "2       0.475441  0.456543      1.0  0.083673  0.511039  0.422974     0.0   \n",
      "3       0.515580  0.452417      1.0  0.160466  0.595769  0.500431     0.0   \n",
      "4       0.436664  0.411333      1.0  0.055239  0.446389  0.423618     0.0   \n",
      "...          ...       ...      ...       ...       ...       ...     ...   \n",
      "22605   0.456694  0.467226      1.0  0.063185  0.471258  0.415194     0.0   \n",
      "22606   0.415203  0.449931      1.0  0.052505  0.418155  0.425172     0.0   \n",
      "22607   0.503356  0.463175      1.0  0.062243  0.432579  0.444597     0.0   \n",
      "22608   0.501284  0.492906      1.0  0.071490  0.522225  0.438679     0.0   \n",
      "22609   0.404010  0.376656      0.8  0.050536  0.377585  0.430249     0.0   \n",
      "\n",
      "       lgbm_ind  \n",
      "0      0.193179  \n",
      "1      0.190624  \n",
      "2      0.208058  \n",
      "3      0.199565  \n",
      "4      0.188685  \n",
      "...         ...  \n",
      "22605  0.226332  \n",
      "22606  0.191234  \n",
      "22607  0.201161  \n",
      "22608  0.225493  \n",
      "22609  0.188782  \n",
      "\n",
      "[22610 rows x 8 columns]\n"
     ]
    }
   ],
   "source": [
    "# Blending under a logistic regression\n",
    "df_cv_ind = pd.DataFrame({k:v[:,0] for k, v in cv_preds.items() if 'ind' in k})\n",
    "X_cv_ind = df_cv_ind#pd.concat([X, df_cv_ind], axis=1)\n",
    "print(X_cv_ind)"
   ]
  },
  {
   "cell_type": "code",
   "execution_count": 14,
   "metadata": {},
   "outputs": [
    {
     "name": "stdout",
     "output_type": "stream",
     "text": [
      "              precision    recall  f1-score   support\n",
      "\n",
      "           0       0.00      0.00      0.00     21076\n",
      "           1       0.07      1.00      0.13      1534\n",
      "\n",
      "    accuracy                           0.07     22610\n",
      "   macro avg       0.03      0.50      0.06     22610\n",
      "weighted avg       0.00      0.07      0.01     22610\n",
      "\n",
      "              precision    recall  f1-score   support\n",
      "\n",
      "           0       0.00      0.00      0.00     21076\n",
      "           1       0.07      1.00      0.13      1534\n",
      "\n",
      "    accuracy                           0.07     22610\n",
      "   macro avg       0.03      0.50      0.06     22610\n",
      "weighted avg       0.00      0.07      0.01     22610\n",
      "\n"
     ]
    },
    {
     "name": "stderr",
     "output_type": "stream",
     "text": [
      "C:\\Users\\gursk\\anaconda3\\envs\\travelers\\lib\\site-packages\\sklearn\\metrics\\_classification.py:1221: UndefinedMetricWarning: Precision and F-score are ill-defined and being set to 0.0 in labels with no predicted samples. Use `zero_division` parameter to control this behavior.\n",
      "  _warn_prf(average, modifier, msg_start, len(result))\n"
     ]
    }
   ],
   "source": [
    "# Blending model with logistic regression\n",
    "stacked_ind = make_pipeline(one_hot(),\n",
    "                            StandardScaler(),\n",
    "                            LogisticRegressionCV(cv=10,\n",
    "                                                 max_iter=1000,\n",
    "                                                 class_weight='balanced',\n",
    "                                                 n_jobs=-1))\n",
    "stacked_preds = get_cv_preds(stacked_ind,\n",
    "                             X_cv_ind,\n",
    "                             y['claim_ind'],\n",
    "                             {'logisticregressioncv__sample_weight': y['exposure']},\n",
    "                             True)\n",
    "stacked_ind.fit(X_cv_ind, y['claim_ind'], logisticregressioncv__sample_weight=y['exposure'])\n",
    "print(classification_report(y['claim_ind'], stacked_ind.predict_proba(X_cv_ind)[:, 1] > 0.5))\n",
    "print(classification_report(y['claim_ind'], stacked_preds[:, 1] > 0.5))"
   ]
  },
  {
   "cell_type": "code",
   "execution_count": 15,
   "metadata": {},
   "outputs": [
    {
     "data": {
      "text/plain": [
       "array([0.0001])"
      ]
     },
     "execution_count": 15,
     "metadata": {},
     "output_type": "execute_result"
    }
   ],
   "source": [
    "stacked_ind.named_steps['logisticregressioncv'].C_"
   ]
  },
  {
   "cell_type": "code",
   "execution_count": 16,
   "metadata": {},
   "outputs": [
    {
     "data": {
      "image/png": "[encoded data removed]",
      "text/plain": [
       "<Figure size 432x288 with 1 Axes>"
      ]
     },
     "metadata": {
      "needs_background": "light"
     },
     "output_type": "display_data"
    }
   ],
   "source": [
    "precision, recall, thresholds = precision_recall_curve(y['claim_ind'], stacked_preds[:, 1])\n",
    "plt.figure()\n",
    "plt.plot(recall, precision)\n",
    "plt.show()"
   ]
  },
  {
   "cell_type": "code",
   "execution_count": 63,
   "metadata": {
    "scrolled": true
   },
   "outputs": [
    {
     "name": "stdout",
     "output_type": "stream",
     "text": [
      "Fitting 20 folds for each of 1 candidates, totalling 20 fits\n"
     ]
    },
    {
     "name": "stderr",
     "output_type": "stream",
     "text": [
      "[Parallel(n_jobs=1)]: Using backend SequentialBackend with 1 concurrent workers.\n",
      "[Parallel(n_jobs=1)]: Done  20 out of  20 | elapsed:  2.0min finished\n",
      "[Parallel(n_jobs=1)]: Using backend SequentialBackend with 1 concurrent workers.\n"
     ]
    },
    {
     "name": "stdout",
     "output_type": "stream",
     "text": [
      "Fitting 20 folds for each of 1 candidates, totalling 20 fits\n"
     ]
    },
    {
     "name": "stderr",
     "output_type": "stream",
     "text": [
      "[Parallel(n_jobs=1)]: Done  20 out of  20 | elapsed:  1.0min finished\n",
      "[Parallel(n_jobs=1)]: Using backend SequentialBackend with 1 concurrent workers.\n"
     ]
    },
    {
     "name": "stdout",
     "output_type": "stream",
     "text": [
      "Fitting 20 folds for each of 1 candidates, totalling 20 fits\n"
     ]
    },
    {
     "name": "stderr",
     "output_type": "stream",
     "text": [
      "[Parallel(n_jobs=1)]: Done  20 out of  20 | elapsed:  1.3min finished\n",
      "[Parallel(n_jobs=1)]: Using backend SequentialBackend with 1 concurrent workers.\n"
     ]
    },
    {
     "name": "stdout",
     "output_type": "stream",
     "text": [
      "Fitting 20 folds for each of 1 candidates, totalling 20 fits\n"
     ]
    },
    {
     "name": "stderr",
     "output_type": "stream",
     "text": [
      "[Parallel(n_jobs=1)]: Done  20 out of  20 | elapsed:  1.3min finished\n",
      "[Parallel(n_jobs=1)]: Using backend SequentialBackend with 1 concurrent workers.\n"
     ]
    },
    {
     "name": "stdout",
     "output_type": "stream",
     "text": [
      "Fitting 20 folds for each of 1 candidates, totalling 20 fits\n"
     ]
    },
    {
     "name": "stderr",
     "output_type": "stream",
     "text": [
      "[Parallel(n_jobs=1)]: Done  20 out of  20 | elapsed:  3.0min finished\n",
      "[Parallel(n_jobs=1)]: Using backend SequentialBackend with 1 concurrent workers.\n"
     ]
    },
    {
     "name": "stdout",
     "output_type": "stream",
     "text": [
      "Fitting 20 folds for each of 1 candidates, totalling 20 fits\n"
     ]
    },
    {
     "name": "stderr",
     "output_type": "stream",
     "text": [
      "[Parallel(n_jobs=1)]: Done  20 out of  20 | elapsed:  2.8min finished\n",
      "[Parallel(n_jobs=1)]: Using backend SequentialBackend with 1 concurrent workers.\n"
     ]
    },
    {
     "name": "stdout",
     "output_type": "stream",
     "text": [
      "Fitting 20 folds for each of 1 candidates, totalling 20 fits\n"
     ]
    },
    {
     "name": "stderr",
     "output_type": "stream",
     "text": [
      "[Parallel(n_jobs=1)]: Done  20 out of  20 | elapsed:  2.3min finished\n",
      "[Parallel(n_jobs=1)]: Using backend SequentialBackend with 1 concurrent workers.\n"
     ]
    },
    {
     "name": "stdout",
     "output_type": "stream",
     "text": [
      "Fitting 20 folds for each of 1 candidates, totalling 20 fits\n"
     ]
    },
    {
     "name": "stderr",
     "output_type": "stream",
     "text": [
      "[Parallel(n_jobs=1)]: Done  20 out of  20 | elapsed:   28.6s finished\n",
      "[Parallel(n_jobs=1)]: Using backend SequentialBackend with 1 concurrent workers.\n"
     ]
    },
    {
     "name": "stdout",
     "output_type": "stream",
     "text": [
      "Fitting 20 folds for each of 1 candidates, totalling 20 fits\n"
     ]
    },
    {
     "name": "stderr",
     "output_type": "stream",
     "text": [
      "[Parallel(n_jobs=1)]: Done  20 out of  20 | elapsed:  3.0min finished\n"
     ]
    },
    {
     "name": "stdout",
     "output_type": "stream",
     "text": [
      "Fitting 20 folds for each of 1 candidates, totalling 20 fits\n"
     ]
    },
    {
     "name": "stderr",
     "output_type": "stream",
     "text": [
      "[Parallel(n_jobs=1)]: Using backend SequentialBackend with 1 concurrent workers.\n",
      "[Parallel(n_jobs=1)]: Done  20 out of  20 | elapsed:   59.5s finished\n"
     ]
    },
    {
     "name": "stdout",
     "output_type": "stream",
     "text": [
      "Fitting 20 folds for each of 1 candidates, totalling 20 fits\n"
     ]
    },
    {
     "name": "stderr",
     "output_type": "stream",
     "text": [
      "[Parallel(n_jobs=1)]: Using backend SequentialBackend with 1 concurrent workers.\n",
      "[Parallel(n_jobs=1)]: Done  20 out of  20 | elapsed:  1.4min finished\n"
     ]
    },
    {
     "name": "stdout",
     "output_type": "stream",
     "text": [
      "Fitting 20 folds for each of 1 candidates, totalling 20 fits\n"
     ]
    },
    {
     "name": "stderr",
     "output_type": "stream",
     "text": [
      "[Parallel(n_jobs=1)]: Using backend SequentialBackend with 1 concurrent workers.\n",
      "[Parallel(n_jobs=1)]: Done  20 out of  20 | elapsed:  2.1min finished\n"
     ]
    },
    {
     "name": "stdout",
     "output_type": "stream",
     "text": [
      "Fitting 20 folds for each of 1 candidates, totalling 20 fits\n"
     ]
    },
    {
     "name": "stderr",
     "output_type": "stream",
     "text": [
      "[Parallel(n_jobs=1)]: Using backend SequentialBackend with 1 concurrent workers.\n",
      "[Parallel(n_jobs=1)]: Done  20 out of  20 | elapsed:  2.0min finished\n"
     ]
    },
    {
     "name": "stdout",
     "output_type": "stream",
     "text": [
      "Fitting 20 folds for each of 1 candidates, totalling 20 fits\n"
     ]
    },
    {
     "name": "stderr",
     "output_type": "stream",
     "text": [
      "[Parallel(n_jobs=1)]: Using backend SequentialBackend with 1 concurrent workers.\n",
      "[Parallel(n_jobs=1)]: Done  20 out of  20 | elapsed:   26.5s finished\n"
     ]
    },
    {
     "name": "stdout",
     "output_type": "stream",
     "text": [
      "Fitting 20 folds for each of 1 candidates, totalling 20 fits\n"
     ]
    },
    {
     "name": "stderr",
     "output_type": "stream",
     "text": [
      "[Parallel(n_jobs=1)]: Using backend SequentialBackend with 1 concurrent workers.\n",
      "[Parallel(n_jobs=1)]: Done  20 out of  20 | elapsed:   42.7s finished\n"
     ]
    },
    {
     "name": "stdout",
     "output_type": "stream",
     "text": [
      "Fitting 20 folds for each of 1 candidates, totalling 20 fits\n"
     ]
    },
    {
     "name": "stderr",
     "output_type": "stream",
     "text": [
      "[Parallel(n_jobs=1)]: Using backend SequentialBackend with 1 concurrent workers.\n",
      "[Parallel(n_jobs=1)]: Done  20 out of  20 | elapsed:  2.5min finished\n"
     ]
    },
    {
     "name": "stdout",
     "output_type": "stream",
     "text": [
      "Fitting 20 folds for each of 1 candidates, totalling 20 fits\n"
     ]
    },
    {
     "name": "stderr",
     "output_type": "stream",
     "text": [
      "[Parallel(n_jobs=1)]: Using backend SequentialBackend with 1 concurrent workers.\n",
      "[Parallel(n_jobs=1)]: Done  20 out of  20 | elapsed:  2.0min finished\n"
     ]
    },
    {
     "name": "stdout",
     "output_type": "stream",
     "text": [
      "Fitting 20 folds for each of 1 candidates, totalling 20 fits\n"
     ]
    },
    {
     "name": "stderr",
     "output_type": "stream",
     "text": [
      "[Parallel(n_jobs=1)]: Using backend SequentialBackend with 1 concurrent workers.\n",
      "[Parallel(n_jobs=1)]: Done  20 out of  20 | elapsed:  1.4min finished\n"
     ]
    },
    {
     "name": "stdout",
     "output_type": "stream",
     "text": [
      "Fitting 20 folds for each of 1 candidates, totalling 20 fits\n"
     ]
    },
    {
     "name": "stderr",
     "output_type": "stream",
     "text": [
      "[Parallel(n_jobs=1)]: Using backend SequentialBackend with 1 concurrent workers.\n",
      "[Parallel(n_jobs=1)]: Done  20 out of  20 | elapsed:  1.2min finished\n"
     ]
    },
    {
     "name": "stdout",
     "output_type": "stream",
     "text": [
      "Fitting 20 folds for each of 1 candidates, totalling 20 fits\n"
     ]
    },
    {
     "name": "stderr",
     "output_type": "stream",
     "text": [
      "[Parallel(n_jobs=1)]: Using backend SequentialBackend with 1 concurrent workers.\n",
      "[Parallel(n_jobs=1)]: Done  20 out of  20 | elapsed:  1.6min finished\n"
     ]
    },
    {
     "name": "stdout",
     "output_type": "stream",
     "text": [
      "Fitting 20 folds for each of 1 candidates, totalling 20 fits\n"
     ]
    },
    {
     "name": "stderr",
     "output_type": "stream",
     "text": [
      "[Parallel(n_jobs=1)]: Using backend SequentialBackend with 1 concurrent workers.\n",
      "[Parallel(n_jobs=1)]: Done  20 out of  20 | elapsed:  4.2min finished\n"
     ]
    },
    {
     "name": "stdout",
     "output_type": "stream",
     "text": [
      "Fitting 20 folds for each of 1 candidates, totalling 20 fits\n"
     ]
    },
    {
     "name": "stderr",
     "output_type": "stream",
     "text": [
      "[Parallel(n_jobs=1)]: Using backend SequentialBackend with 1 concurrent workers.\n",
      "[Parallel(n_jobs=1)]: Done  20 out of  20 | elapsed:  4.3min finished\n"
     ]
    },
    {
     "name": "stdout",
     "output_type": "stream",
     "text": [
      "Fitting 20 folds for each of 1 candidates, totalling 20 fits\n"
     ]
    },
    {
     "name": "stderr",
     "output_type": "stream",
     "text": [
      "[Parallel(n_jobs=1)]: Using backend SequentialBackend with 1 concurrent workers.\n",
      "[Parallel(n_jobs=1)]: Done  20 out of  20 | elapsed:  4.6min finished\n"
     ]
    },
    {
     "name": "stdout",
     "output_type": "stream",
     "text": [
      "Fitting 20 folds for each of 1 candidates, totalling 20 fits\n"
     ]
    },
    {
     "name": "stderr",
     "output_type": "stream",
     "text": [
      "[Parallel(n_jobs=1)]: Using backend SequentialBackend with 1 concurrent workers.\n",
      "[Parallel(n_jobs=1)]: Done  20 out of  20 | elapsed:  3.7min finished\n"
     ]
    },
    {
     "name": "stdout",
     "output_type": "stream",
     "text": [
      "Fitting 20 folds for each of 1 candidates, totalling 20 fits\n"
     ]
    },
    {
     "name": "stderr",
     "output_type": "stream",
     "text": [
      "[Parallel(n_jobs=1)]: Using backend SequentialBackend with 1 concurrent workers.\n",
      "[Parallel(n_jobs=1)]: Done  20 out of  20 | elapsed:  3.7min finished\n"
     ]
    },
    {
     "name": "stdout",
     "output_type": "stream",
     "text": [
      "Fitting 20 folds for each of 1 candidates, totalling 20 fits\n"
     ]
    },
    {
     "name": "stderr",
     "output_type": "stream",
     "text": [
      "[Parallel(n_jobs=1)]: Using backend SequentialBackend with 1 concurrent workers.\n",
      "[Parallel(n_jobs=1)]: Done  20 out of  20 | elapsed:  3.7min finished\n"
     ]
    },
    {
     "name": "stdout",
     "output_type": "stream",
     "text": [
      "Fitting 20 folds for each of 1 candidates, totalling 20 fits\n"
     ]
    },
    {
     "name": "stderr",
     "output_type": "stream",
     "text": [
      "[Parallel(n_jobs=1)]: Using backend SequentialBackend with 1 concurrent workers.\n",
      "[Parallel(n_jobs=1)]: Done  20 out of  20 | elapsed:  2.9min finished\n"
     ]
    },
    {
     "name": "stdout",
     "output_type": "stream",
     "text": [
      "Fitting 20 folds for each of 1 candidates, totalling 20 fits\n"
     ]
    },
    {
     "name": "stderr",
     "output_type": "stream",
     "text": [
      "[Parallel(n_jobs=1)]: Using backend SequentialBackend with 1 concurrent workers.\n",
      "[Parallel(n_jobs=1)]: Done  20 out of  20 | elapsed:  2.3min finished\n"
     ]
    },
    {
     "name": "stdout",
     "output_type": "stream",
     "text": [
      "Fitting 20 folds for each of 1 candidates, totalling 20 fits\n"
     ]
    },
    {
     "name": "stderr",
     "output_type": "stream",
     "text": [
      "[Parallel(n_jobs=1)]: Using backend SequentialBackend with 1 concurrent workers.\n",
      "[Parallel(n_jobs=1)]: Done  20 out of  20 | elapsed:  2.0min finished\n"
     ]
    },
    {
     "name": "stdout",
     "output_type": "stream",
     "text": [
      "Fitting 20 folds for each of 1 candidates, totalling 20 fits\n"
     ]
    },
    {
     "name": "stderr",
     "output_type": "stream",
     "text": [
      "[Parallel(n_jobs=1)]: Using backend SequentialBackend with 1 concurrent workers.\n",
      "[Parallel(n_jobs=1)]: Done  20 out of  20 | elapsed:  2.0min finished\n"
     ]
    },
    {
     "name": "stdout",
     "output_type": "stream",
     "text": [
      "Fitting 20 folds for each of 1 candidates, totalling 20 fits\n"
     ]
    },
    {
     "name": "stderr",
     "output_type": "stream",
     "text": [
      "[Parallel(n_jobs=1)]: Using backend SequentialBackend with 1 concurrent workers.\n",
      "[Parallel(n_jobs=1)]: Done  20 out of  20 | elapsed:  2.2min finished\n"
     ]
    },
    {
     "name": "stdout",
     "output_type": "stream",
     "text": [
      "Fitting 20 folds for each of 1 candidates, totalling 20 fits\n"
     ]
    },
    {
     "name": "stderr",
     "output_type": "stream",
     "text": [
      "[Parallel(n_jobs=1)]: Using backend SequentialBackend with 1 concurrent workers.\n",
      "[Parallel(n_jobs=1)]: Done  20 out of  20 | elapsed:  4.0min finished\n"
     ]
    },
    {
     "name": "stdout",
     "output_type": "stream",
     "text": [
      "              precision    recall  f1-score   support\n",
      "\n",
      "           0       1.00      0.95      0.98     21076\n",
      "           1       0.60      1.00      0.75      1534\n",
      "\n",
      "    accuracy                           0.95     22610\n",
      "   macro avg       0.80      0.98      0.86     22610\n",
      "weighted avg       0.97      0.95      0.96     22610\n",
      "\n",
      "              precision    recall  f1-score   support\n",
      "\n",
      "           0       0.93      0.90      0.92     21076\n",
      "           1       0.07      0.10      0.08      1534\n",
      "\n",
      "    accuracy                           0.85     22610\n",
      "   macro avg       0.50      0.50      0.50     22610\n",
      "weighted avg       0.87      0.85      0.86     22610\n",
      "\n"
     ]
    }
   ],
   "source": [
    "# Our base estimators don't seem to be good enough, let's try an hparam tuned LightGBM model\n",
    "params = {'n_estimators': Integer(2000, 6000),\n",
    "          'learning_rate': Real(1e-3, 4.0, 'uniform'),\n",
    "          'num_leaves': Integer(16, 41),\n",
    "          'min_split_gain': Real(0.0, 10.0, 'uniform'),\n",
    "          'subsample': Real(0.7, 1.0, 'uniform'),\n",
    "          'reg_lambda': Real(0.0, 10.0, 'uniform')}\n",
    "hparam_lgbm_ind = LGBMClassifier(scale_pos_weight=1 / y['claim_ind'].mean(),\n",
    "                                 subsample_freq=1,\n",
    "                                 objective='binary',\n",
    "                                 n_jobs=-1)\n",
    "lgbm_ind_opt = BayesSearchCV(hparam_lgbm_ind,\n",
    "                             params,\n",
    "                             cv=20,\n",
    "                             fit_params={'sample_weight': y['exposure']},\n",
    "                             n_iter=32,\n",
    "                             n_jobs=1,\n",
    "                             verbose=1)\n",
    "lgbm_ind_opt.fit(X.drop('veh_body2', axis=1), y['claim_ind'])\n",
    "lgbm_opt_preds = get_cv_preds(lgbm_ind_opt.best_estimator_,\n",
    "                              X.drop('veh_body2', axis=1),\n",
    "                              y['claim_ind'],\n",
    "                              {'sample_weight': y['exposure']},\n",
    "                              True)\n",
    "print(classification_report(y['claim_ind'], lgbm_ind_opt.best_estimator_.predict_proba(X.drop('veh_body2', axis=1))[:, 1] > 0.5))\n",
    "print(classification_report(y['claim_ind'], lgbm_opt_preds[:, 1] > 0.5))"
   ]
  },
  {
   "cell_type": "code",
   "execution_count": 64,
   "metadata": {},
   "outputs": [
    {
     "name": "stdout",
     "output_type": "stream",
     "text": [
      "OrderedDict([('learning_rate', 0.49068254256963156), ('min_split_gain', 0.0), ('n_estimators', 3316), ('num_leaves', 41), ('reg_lambda', 5.171433881715265), ('subsample', 0.9977600459125546)])\n"
     ]
    },
    {
     "data": {
      "text/plain": [
       "\"\\nOrderedDict([('learning_rate', 0.32341711357435404),\\n('min_split_gain', 3.220005862962977),\\n('n_estimators', 3529),\\n('num_leaves', 33),\\n('reg_lambda', 1.3829943034439782),\\n('subsample', 0.7)])\\n\""
      ]
     },
     "execution_count": 64,
     "metadata": {},
     "output_type": "execute_result"
    }
   ],
   "source": [
    "print(lgbm_ind_opt.best_params_)\n",
    "\"\"\"\n",
    "OrderedDict([('learning_rate', 0.49068254256963156), ('min_split_gain', 0.0), ('n_estimators', 3316), ('num_leaves', 41), ('reg_lambda', 5.171433881715265), ('subsample', 0.9977600459125546)])\n",
    "\"\"\""
   ]
  },
  {
   "cell_type": "code",
   "execution_count": 73,
   "metadata": {},
   "outputs": [
    {
     "data": {
      "text/html": [
       "<div>\n",
       "<style scoped>\n",
       "    .dataframe tbody tr th:only-of-type {\n",
       "        vertical-align: middle;\n",
       "    }\n",
       "\n",
       "    .dataframe tbody tr th {\n",
       "        vertical-align: top;\n",
       "    }\n",
       "\n",
       "    .dataframe thead th {\n",
       "        text-align: right;\n",
       "    }\n",
       "</style>\n",
       "<table border=\"1\" class=\"dataframe\">\n",
       "  <thead>\n",
       "    <tr style=\"text-align: right;\">\n",
       "      <th></th>\n",
       "      <th>label</th>\n",
       "      <th>pred</th>\n",
       "    </tr>\n",
       "  </thead>\n",
       "  <tbody>\n",
       "    <tr>\n",
       "      <th>9653</th>\n",
       "      <td>1</td>\n",
       "      <td>1.146627e-07</td>\n",
       "    </tr>\n",
       "    <tr>\n",
       "      <th>9612</th>\n",
       "      <td>1</td>\n",
       "      <td>5.408927e-04</td>\n",
       "    </tr>\n",
       "    <tr>\n",
       "      <th>21318</th>\n",
       "      <td>1</td>\n",
       "      <td>4.685413e-08</td>\n",
       "    </tr>\n",
       "    <tr>\n",
       "      <th>16307</th>\n",
       "      <td>1</td>\n",
       "      <td>9.983184e-03</td>\n",
       "    </tr>\n",
       "    <tr>\n",
       "      <th>9664</th>\n",
       "      <td>1</td>\n",
       "      <td>1.637296e-03</td>\n",
       "    </tr>\n",
       "    <tr>\n",
       "      <th>...</th>\n",
       "      <td>...</td>\n",
       "      <td>...</td>\n",
       "    </tr>\n",
       "    <tr>\n",
       "      <th>8218</th>\n",
       "      <td>0</td>\n",
       "      <td>5.843974e-01</td>\n",
       "    </tr>\n",
       "    <tr>\n",
       "      <th>3899</th>\n",
       "      <td>0</td>\n",
       "      <td>4.093532e-04</td>\n",
       "    </tr>\n",
       "    <tr>\n",
       "      <th>21510</th>\n",
       "      <td>0</td>\n",
       "      <td>4.886143e-03</td>\n",
       "    </tr>\n",
       "    <tr>\n",
       "      <th>5905</th>\n",
       "      <td>0</td>\n",
       "      <td>5.662513e-01</td>\n",
       "    </tr>\n",
       "    <tr>\n",
       "      <th>15598</th>\n",
       "      <td>0</td>\n",
       "      <td>5.972377e-05</td>\n",
       "    </tr>\n",
       "  </tbody>\n",
       "</table>\n",
       "<p>22610 rows × 2 columns</p>\n",
       "</div>"
      ],
      "text/plain": [
       "       label          pred\n",
       "9653       1  1.146627e-07\n",
       "9612       1  5.408927e-04\n",
       "21318      1  4.685413e-08\n",
       "16307      1  9.983184e-03\n",
       "9664       1  1.637296e-03\n",
       "...      ...           ...\n",
       "8218       0  5.843974e-01\n",
       "3899       0  4.093532e-04\n",
       "21510      0  4.886143e-03\n",
       "5905       0  5.662513e-01\n",
       "15598      0  5.972377e-05\n",
       "\n",
       "[22610 rows x 2 columns]"
      ]
     },
     "execution_count": 73,
     "metadata": {},
     "output_type": "execute_result"
    }
   ],
   "source": [
    "pd.DataFrame({'label':y['claim_ind'], 'pred':lgbm_opt_preds[:,1]}).sort_values('label', ascending=False)"
   ]
  },
  {
   "cell_type": "code",
   "execution_count": 62,
   "metadata": {},
   "outputs": [
    {
     "name": "stdout",
     "output_type": "stream",
     "text": [
      "              precision    recall  f1-score   support\n",
      "\n",
      "           0       0.00      0.00      0.00     21076\n",
      "           1       0.07      1.00      0.13      1534\n",
      "\n",
      "    accuracy                           0.07     22610\n",
      "   macro avg       0.03      0.50      0.06     22610\n",
      "weighted avg       0.00      0.07      0.01     22610\n",
      "\n",
      "              precision    recall  f1-score   support\n",
      "\n",
      "           0       0.00      0.00      0.00     21076\n",
      "           1       0.07      1.00      0.13      1534\n",
      "\n",
      "    accuracy                           0.07     22610\n",
      "   macro avg       0.03      0.50      0.06     22610\n",
      "weighted avg       0.00      0.07      0.01     22610\n",
      "\n"
     ]
    },
    {
     "name": "stderr",
     "output_type": "stream",
     "text": [
      "C:\\Users\\gursk\\anaconda3\\envs\\travelers\\lib\\site-packages\\sklearn\\metrics\\_classification.py:1221: UndefinedMetricWarning: Precision and F-score are ill-defined and being set to 0.0 in labels with no predicted samples. Use `zero_division` parameter to control this behavior.\n",
      "  _warn_prf(average, modifier, msg_start, len(result))\n"
     ]
    }
   ],
   "source": [
    "# What if we apply calibration? (Need to fix lgbm)\n",
    "\"\"\"\n",
    "from sklearn.base import clone, ClassifierMixin\n",
    "from sklearn.preprocessing import OrdinalEncoder\n",
    "encode = ColumnTransformer([('encode', OrdinalEncoder(dtype=np.int32), get_cats)], remainder='passthrough')\n",
    "\n",
    "class PandaLGBMClassifier(BaseEstimator, ClassifierMixin):\n",
    "    \n",
    "    def __init__(self, cat_cols, model):\n",
    "        self.cat_cols = cat_cols\n",
    "        self.model = model\n",
    "    \n",
    "    def fit(self, X, y, sample_weight=None):\n",
    "        _X = pd.DataFrame(np.array(X))\n",
    "        for i in self.cat_cols:\n",
    "            _X[_X.columns[i]] = _X[_X.columns[i]].astype('int32').astype('category')\n",
    "        self.model.fit(_X, y, sample_weight=sample_weight)\n",
    "        self.classes_ = self.model.classes_\n",
    "        return self\n",
    "    \n",
    "    def predict(self, X, y=None):\n",
    "        _X = pd.DataFrame(np.array(X))\n",
    "        for i in self.cat_cols:\n",
    "            _X[_X.columns[i]] = _X[_X.columns[i]].astype('int32').astype('category')\n",
    "        return self.model.predict(_X)\n",
    "    \n",
    "    def predict_proba(self, X, y=None):\n",
    "        _X = pd.DataFrame(np.array(X))\n",
    "        for i in self.cat_cols:\n",
    "            _X[_X.columns[i]] = _X[_X.columns[i]].astype('int32').astype('category')\n",
    "        return self.model.predict_proba(_X)\n",
    "\n",
    "cal_base = PandaLGBMClassifier([1, 3, 4], clone(lgbm_ind_opt.best_estimator_))\n",
    "cal_lgbm_ind = make_pipeline(encode, CalibratedClassifierCV(cal_base, cv=10))\n",
    "cal_lgbm_ind.fit(X.drop('veh_body2', axis=1), y['claim_ind'], calibratedclassifiercv__sample_weight=y['exposure'])\n",
    "cal_lgbm_ind_preds = get_cv_preds(cal_lgbm_ind,\n",
    "                                  X.drop('veh_body2', axis=1),\n",
    "                                  y['claim_ind'],\n",
    "                                  {'calibratedclassifiercv__sample_weight': y['exposure']},\n",
    "                                  True)\n",
    "print(classification_report(y['claim_ind'], cal_lgbm_ind.predict_proba(X.drop('veh_body2', axis=1))[:, 1] > 0.5))\n",
    "print(classification_report(y['claim_ind'], cal_lgbm_ind_preds[:, 1] > 0.5))\n",
    "\"\"\""
   ]
  },
  {
   "cell_type": "markdown",
   "metadata": {},
   "source": [
    "# Claim Frequency"
   ]
  },
  {
   "cell_type": "code",
   "execution_count": 200,
   "metadata": {},
   "outputs": [
    {
     "name": "stdout",
     "output_type": "stream",
     "text": [
      "1.3461190318688971\n",
      "1.346693318455726\n"
     ]
    }
   ],
   "source": [
    "# Poisson regression\n",
    "poisson = make_pipeline(ColumnTransformer([('one_hot', OneHotEncoder(drop='first', sparse=False), get_cats)], remainder='passthrough'),\n",
    "                        StandardScaler(),\n",
    "                        PoissonRegressor(max_iter=1000))\n",
    "cv_preds['poisson'] = get_cv_preds(poisson,\n",
    "                                   X[lin_cols],\n",
    "                                   y['frequency'],\n",
    "                                   {'poissonregressor__sample_weight': y['exposure']})\n",
    "poisson.fit(X[lin_cols], y['frequency'], poissonregressor__sample_weight=y['exposure'])\n",
    "print(mean_poisson_deviance(y['frequency'], poisson.predict(X[lin_cols])))\n",
    "print(mean_poisson_deviance(y['frequency'], cv_preds['poisson']))"
   ]
  },
  {
   "cell_type": "code",
   "execution_count": 248,
   "metadata": {},
   "outputs": [
    {
     "name": "stdout",
     "output_type": "stream",
     "text": [
      "1.3442226223251375\n",
      "1.3477648817230947\n"
     ]
    }
   ],
   "source": [
    "# RF Poisson\n",
    "rf_poisson = LGBMRegressor(n_estimators=1000,\n",
    "                           learning_rate=1.0,\n",
    "                           num_leaves=21,\n",
    "                           colsample_bytree=5 / 7,\n",
    "                           subsample=0.67, \n",
    "                           subsample_freq=1,\n",
    "                           boosting_type='rf',\n",
    "                           objective='poisson',\n",
    "                           extra_trees=True,\n",
    "                           mc=[1,0,1,0,0,-1],\n",
    "                           mc_method='advanced',\n",
    "                           n_jobs=-1)\n",
    "cv_preds['rf_poisson'] = get_cv_preds(rf_poisson,\n",
    "                                      X.drop('veh_body2', axis=1),\n",
    "                                      y['frequency'],\n",
    "                                      {'sample_weight': y['exposure']})\n",
    "rf_poisson.fit(X.drop('veh_body2', axis=1), y['frequency'], sample_weight=y['exposure'])\n",
    "print(mean_poisson_deviance(y['frequency'], rf_poisson.predict(X.drop('veh_body2', axis=1))))\n",
    "print(mean_poisson_deviance(y['frequency'], cv_preds['rf_poisson']))              "
   ]
  },
  {
   "cell_type": "code",
   "execution_count": 249,
   "metadata": {},
   "outputs": [
    {
     "name": "stdout",
     "output_type": "stream",
     "text": [
      "1.3437753857859842\n",
      "1.3456909552524576\n"
     ]
    }
   ],
   "source": [
    "# LGBM Poisson\n",
    "lgbm_poisson = LGBMRegressor(n_estimators=1000,\n",
    "                             learning_rate=0.001,\n",
    "                             num_leaves=11,\n",
    "                             objective='poisson',\n",
    "                             subsample=0.85, \n",
    "                             subsample_freq=1,\n",
    "                             min_split_gain=5.0,\n",
    "                             mc=[1,0,1,0,0,-1],\n",
    "                             mc_method='advanced',\n",
    "                             n_jobs=-1)\n",
    "cv_preds['lgbm_poisson'] = get_cv_preds(lgbm_poisson,\n",
    "                                      X.drop('veh_body2', axis=1),\n",
    "                                      y['frequency'],\n",
    "                                      {'sample_weight': y['exposure']})\n",
    "lgbm_poisson.fit(X.drop('veh_body2', axis=1), y['frequency'], sample_weight=y['exposure'])\n",
    "print(mean_poisson_deviance(y['frequency'], lgbm_poisson.predict(X.drop('veh_body2', axis=1))))\n",
    "print(mean_poisson_deviance(y['frequency'], cv_preds['lgbm_poisson']))              "
   ]
  },
  {
   "cell_type": "code",
   "execution_count": 250,
   "metadata": {
    "scrolled": true
   },
   "outputs": [
    {
     "name": "stdout",
     "output_type": "stream",
     "text": [
      "1.3194315814798911\n",
      "1.3410476262531628\n"
     ]
    }
   ],
   "source": [
    "# XGBoost Poisson\n",
    "xgb_poisson = make_pipeline(ColumnTransformer([('one_hot', OneHotEncoder(drop='first', sparse=False), get_cats)], remainder='passthrough'),\n",
    "                    XGBRegressor(n_estimators=500,\n",
    "                                 learning_rate=0.01,\n",
    "                                 max_depth=4,\n",
    "                                 subsample=0.85, \n",
    "                                 objective='count:poisson',\n",
    "                                 tree_method='hist',\n",
    "                                 n_jobs=-1))\n",
    "cv_preds['xgb_poisson'] = get_cv_preds(xgb_poisson,\n",
    "                                      X.drop('veh_body2', axis=1),\n",
    "                                      y['frequency'],\n",
    "                                      {'xgbregressor__sample_weight': y['exposure']})\n",
    "xgb_poisson.fit(X.drop('veh_body2', axis=1), y['frequency'], xgbregressor__sample_weight=y['exposure'])\n",
    "print(mean_poisson_deviance(y['frequency'], xgb_poisson.predict(X.drop('veh_body2', axis=1))))\n",
    "print(mean_poisson_deviance(y['frequency'], cv_preds['xgb_poisson']))      "
   ]
  },
  {
   "cell_type": "code",
   "execution_count": 176,
   "metadata": {},
   "outputs": [
    {
     "data": {
      "text/html": [
       "<div>\n",
       "<style scoped>\n",
       "    .dataframe tbody tr th:only-of-type {\n",
       "        vertical-align: middle;\n",
       "    }\n",
       "\n",
       "    .dataframe tbody tr th {\n",
       "        vertical-align: top;\n",
       "    }\n",
       "\n",
       "    .dataframe thead th {\n",
       "        text-align: right;\n",
       "    }\n",
       "</style>\n",
       "<table border=\"1\" class=\"dataframe\">\n",
       "  <thead>\n",
       "    <tr style=\"text-align: right;\">\n",
       "      <th></th>\n",
       "      <th>veh_value</th>\n",
       "      <th>veh_body</th>\n",
       "      <th>veh_age</th>\n",
       "      <th>gender</th>\n",
       "      <th>area</th>\n",
       "      <th>dr_age</th>\n",
       "      <th>veh_body2</th>\n",
       "      <th>log_veh_value</th>\n",
       "    </tr>\n",
       "  </thead>\n",
       "  <tbody>\n",
       "    <tr>\n",
       "      <th>19421</th>\n",
       "      <td>2.02</td>\n",
       "      <td>SEDAN</td>\n",
       "      <td>2</td>\n",
       "      <td>M</td>\n",
       "      <td>D</td>\n",
       "      <td>5</td>\n",
       "      <td>SEDAN</td>\n",
       "      <td>0.703098</td>\n",
       "    </tr>\n",
       "    <tr>\n",
       "      <th>5169</th>\n",
       "      <td>1.28</td>\n",
       "      <td>SEDAN</td>\n",
       "      <td>3</td>\n",
       "      <td>F</td>\n",
       "      <td>A</td>\n",
       "      <td>2</td>\n",
       "      <td>SEDAN</td>\n",
       "      <td>0.246860</td>\n",
       "    </tr>\n",
       "    <tr>\n",
       "      <th>9766</th>\n",
       "      <td>0.33</td>\n",
       "      <td>HBACK</td>\n",
       "      <td>4</td>\n",
       "      <td>F</td>\n",
       "      <td>B</td>\n",
       "      <td>3</td>\n",
       "      <td>HBACK</td>\n",
       "      <td>0.000000</td>\n",
       "    </tr>\n",
       "    <tr>\n",
       "      <th>16723</th>\n",
       "      <td>1.35</td>\n",
       "      <td>HBACK</td>\n",
       "      <td>2</td>\n",
       "      <td>M</td>\n",
       "      <td>C</td>\n",
       "      <td>4</td>\n",
       "      <td>HBACK</td>\n",
       "      <td>0.300105</td>\n",
       "    </tr>\n",
       "    <tr>\n",
       "      <th>22568</th>\n",
       "      <td>1.88</td>\n",
       "      <td>SEDAN</td>\n",
       "      <td>2</td>\n",
       "      <td>F</td>\n",
       "      <td>F</td>\n",
       "      <td>4</td>\n",
       "      <td>SEDAN</td>\n",
       "      <td>0.631272</td>\n",
       "    </tr>\n",
       "    <tr>\n",
       "      <th>...</th>\n",
       "      <td>...</td>\n",
       "      <td>...</td>\n",
       "      <td>...</td>\n",
       "      <td>...</td>\n",
       "      <td>...</td>\n",
       "      <td>...</td>\n",
       "      <td>...</td>\n",
       "      <td>...</td>\n",
       "    </tr>\n",
       "    <tr>\n",
       "      <th>5356</th>\n",
       "      <td>0.58</td>\n",
       "      <td>SEDAN</td>\n",
       "      <td>4</td>\n",
       "      <td>M</td>\n",
       "      <td>A</td>\n",
       "      <td>2</td>\n",
       "      <td>SEDAN</td>\n",
       "      <td>0.000000</td>\n",
       "    </tr>\n",
       "    <tr>\n",
       "      <th>16618</th>\n",
       "      <td>1.45</td>\n",
       "      <td>STNWG</td>\n",
       "      <td>4</td>\n",
       "      <td>F</td>\n",
       "      <td>C</td>\n",
       "      <td>2</td>\n",
       "      <td>STNWG</td>\n",
       "      <td>0.371564</td>\n",
       "    </tr>\n",
       "    <tr>\n",
       "      <th>19344</th>\n",
       "      <td>1.38</td>\n",
       "      <td>PANVN</td>\n",
       "      <td>4</td>\n",
       "      <td>F</td>\n",
       "      <td>D</td>\n",
       "      <td>3</td>\n",
       "      <td>OTHER</td>\n",
       "      <td>0.322083</td>\n",
       "    </tr>\n",
       "    <tr>\n",
       "      <th>9837</th>\n",
       "      <td>2.03</td>\n",
       "      <td>TRUCK</td>\n",
       "      <td>3</td>\n",
       "      <td>M</td>\n",
       "      <td>B</td>\n",
       "      <td>2</td>\n",
       "      <td>OTHER</td>\n",
       "      <td>0.708036</td>\n",
       "    </tr>\n",
       "    <tr>\n",
       "      <th>16370</th>\n",
       "      <td>1.33</td>\n",
       "      <td>SEDAN</td>\n",
       "      <td>3</td>\n",
       "      <td>M</td>\n",
       "      <td>C</td>\n",
       "      <td>1</td>\n",
       "      <td>SEDAN</td>\n",
       "      <td>0.285179</td>\n",
       "    </tr>\n",
       "  </tbody>\n",
       "</table>\n",
       "<p>1534 rows × 8 columns</p>\n",
       "</div>"
      ],
      "text/plain": [
       "       veh_value veh_body  veh_age gender area  dr_age veh_body2  \\\n",
       "19421       2.02    SEDAN        2      M    D       5     SEDAN   \n",
       "5169        1.28    SEDAN        3      F    A       2     SEDAN   \n",
       "9766        0.33    HBACK        4      F    B       3     HBACK   \n",
       "16723       1.35    HBACK        2      M    C       4     HBACK   \n",
       "22568       1.88    SEDAN        2      F    F       4     SEDAN   \n",
       "...          ...      ...      ...    ...  ...     ...       ...   \n",
       "5356        0.58    SEDAN        4      M    A       2     SEDAN   \n",
       "16618       1.45    STNWG        4      F    C       2     STNWG   \n",
       "19344       1.38    PANVN        4      F    D       3     OTHER   \n",
       "9837        2.03    TRUCK        3      M    B       2     OTHER   \n",
       "16370       1.33    SEDAN        3      M    C       1     SEDAN   \n",
       "\n",
       "       log_veh_value  \n",
       "19421       0.703098  \n",
       "5169        0.246860  \n",
       "9766        0.000000  \n",
       "16723       0.300105  \n",
       "22568       0.631272  \n",
       "...              ...  \n",
       "5356        0.000000  \n",
       "16618       0.371564  \n",
       "19344       0.322083  \n",
       "9837        0.708036  \n",
       "16370       0.285179  \n",
       "\n",
       "[1534 rows x 8 columns]"
      ]
     },
     "execution_count": 176,
     "metadata": {},
     "output_type": "execute_result"
    }
   ],
   "source": [
    "X_sev"
   ]
  },
  {
   "cell_type": "markdown",
   "metadata": {},
   "source": [
    "# Claim Severity"
   ]
  },
  {
   "cell_type": "code",
   "execution_count": 122,
   "metadata": {},
   "outputs": [
    {
     "name": "stdout",
     "output_type": "stream",
     "text": [
      "1.6227206533835246\n",
      "1.639608486435652\n",
      "13965378.487190872\n",
      "14016625.909728115\n"
     ]
    }
   ],
   "source": [
    "# Gamma regression\n",
    "gamma_sev = make_pipeline(ColumnTransformer([('one_hot', OneHotEncoder(drop='first', sparse=False), get_cats)], remainder='passthrough'),\n",
    "                          StandardScaler(),\n",
    "                          GammaRegressor(alpha=5, max_iter=1000))\n",
    "cv_preds['gamma_sev'] = get_cv_preds(gamma_sev,\n",
    "                                     X_sev[lin_cols],\n",
    "                                     y_sev['avg_cost'],\n",
    "                                     {'gammaregressor__sample_weight': y_sev['exposure']})\n",
    "gamma_sev.fit(X_sev[lin_cols], y_sev['avg_cost'], gammaregressor__sample_weight=y_sev['exposure'])\n",
    "print(mean_gamma_deviance(y_sev['avg_cost'], gamma_sev.predict(X_sev[lin_cols])))\n",
    "print(mean_gamma_deviance(y_sev['avg_cost'], cv_preds['gamma_sev']))\n",
    "print(np.mean((y_sev['avg_cost'] - gamma_sev.predict(X_sev[lin_cols])) ** 2))\n",
    "print(np.mean((y_sev['avg_cost'] - cv_preds['gamma_sev']) ** 2))"
   ]
  },
  {
   "cell_type": "code",
   "execution_count": 123,
   "metadata": {},
   "outputs": [
    {
     "name": "stdout",
     "output_type": "stream",
     "text": [
      "3.107076798686643\n",
      "3.1229158410225444\n",
      "15537155.993218856\n",
      "15545111.012758799\n"
     ]
    }
   ],
   "source": [
    "# Gamma regression\n",
    "bcgamma_sev = make_pipeline(ColumnTransformer([('one_hot', OneHotEncoder(drop='first', sparse=False), get_cats)], remainder='passthrough'),\n",
    "                          StandardScaler(),\n",
    "                          TransformedTargetRegressor(GammaRegressor(alpha=5, max_iter=1000),\n",
    "                                                     transformer=PowerTransformer(method='box-cox', standardize=False)))\n",
    "cv_preds['bcgamma_sev'] = get_cv_preds(bcgamma_sev,\n",
    "                                     X_sev[lin_cols],\n",
    "                                     y_sev['avg_cost'],\n",
    "                                     {'transformedtargetregressor__sample_weight': y_sev['exposure']})\n",
    "bcgamma_sev.fit(X_sev[lin_cols], y_sev['avg_cost'], transformedtargetregressor__sample_weight=y_sev['exposure'])\n",
    "print(mean_gamma_deviance(y_sev['avg_cost'], bcgamma_sev.predict(X_sev[lin_cols])))\n",
    "print(mean_gamma_deviance(y_sev['avg_cost'], cv_preds['bcgamma_sev']))\n",
    "print(np.mean((y_sev['avg_cost'] - bcgamma_sev.predict(X_sev[lin_cols])) ** 2))\n",
    "print(np.mean((y_sev['avg_cost'] - cv_preds['bcgamma_sev']) ** 2))"
   ]
  },
  {
   "cell_type": "code",
   "execution_count": 124,
   "metadata": {},
   "outputs": [
    {
     "name": "stdout",
     "output_type": "stream",
     "text": [
      "2.9980475929711705\n",
      "3.0635859755468067\n",
      "15416799.92044431\n",
      "15457477.266954772\n"
     ]
    }
   ],
   "source": [
    "# RidgeCV on transformed\n",
    "ridge_sev = make_pipeline(ColumnTransformer([('one_hot', OneHotEncoder(drop='first', sparse=False), get_cats)], remainder='passthrough'),\n",
    "                          StandardScaler(),\n",
    "                          TransformedTargetRegressor(RidgeCV(alphas=np.linspace(1e-4, 20.0, 20)),\n",
    "                                                     transformer=PowerTransformer(method='box-cox', standardize=False)))\n",
    "cv_preds['ridge_sev'] = get_cv_preds(ridge_sev,\n",
    "                                     X_sev[lin_cols],\n",
    "                                     y_sev['avg_cost'],\n",
    "                                     {'transformedtargetregressor__sample_weight': y_sev['exposure']})\n",
    "ridge_sev.fit(X_sev[lin_cols], y_sev['avg_cost'], transformedtargetregressor__sample_weight=y_sev['exposure'])\n",
    "print(mean_gamma_deviance(y_sev['avg_cost'], ridge_sev.predict(X_sev[lin_cols])))\n",
    "print(mean_gamma_deviance(y_sev['avg_cost'], cv_preds['ridge_sev']))\n",
    "print(np.mean((y_sev['avg_cost'] - ridge_sev.predict(X_sev[lin_cols])) ** 2))\n",
    "print(np.mean((y_sev['avg_cost'] - cv_preds['ridge_sev']) ** 2))"
   ]
  },
  {
   "cell_type": "code",
   "execution_count": 125,
   "metadata": {},
   "outputs": [
    {
     "name": "stdout",
     "output_type": "stream",
     "text": [
      "1.463733905552423\n",
      "1.6415501125233354\n",
      "13330840.292153012\n",
      "14032364.438845992\n"
     ]
    }
   ],
   "source": [
    "# LightGBM on transformed\n",
    "rf_sev = LGBMRegressor(n_estimators=1000,\n",
    "                         learning_rate=1.0,\n",
    "                         num_leaves=11,\n",
    "                         #colsample_bytree=5 / 7,\n",
    "                         subsample=0.67, \n",
    "                         subsample_freq=1,\n",
    "                         boosting_type='rf',\n",
    "                         #extra_trees=True,\n",
    "                         n_jobs=-1)\n",
    "cv_preds['rf_sev'] = get_cv_preds(rf_sev,\n",
    "                                     X_sev[boost_cols],\n",
    "                                     y_sev['avg_cost'],\n",
    "                                     {'sample_weight': y_sev['exposure']})\n",
    "rf_sev.fit(X_sev[lin_cols], y_sev['avg_cost'], sample_weight=y_sev['exposure'])\n",
    "print(mean_gamma_deviance(y_sev['avg_cost'], rf_sev.predict(X_sev[lin_cols])))\n",
    "print(mean_gamma_deviance(y_sev['avg_cost'], cv_preds['rf_sev']))\n",
    "print(np.mean((y_sev['avg_cost'] - rf_sev.predict(X_sev[lin_cols])) ** 2))\n",
    "print(np.mean((y_sev['avg_cost'] - cv_preds['rf_sev']) ** 2))"
   ]
  },
  {
   "cell_type": "code",
   "execution_count": 126,
   "metadata": {},
   "outputs": [
    {
     "name": "stdout",
     "output_type": "stream",
     "text": [
      "2.908548188090739\n",
      "3.0785558880665445\n",
      "15390670.322488375\n",
      "15482514.000493538\n"
     ]
    }
   ],
   "source": [
    "# LightGBM on transformed\n",
    "rfbc_sev = LGBMRegressor(n_estimators=1000,\n",
    "                         learning_rate=1.0,\n",
    "                         num_leaves=11,\n",
    "                         #colsample_bytree=5 / 7,\n",
    "                         subsample=0.67, \n",
    "                         subsample_freq=1,\n",
    "                         boosting_type='rf',\n",
    "                         #extra_trees=True,\n",
    "                         n_jobs=-1)\n",
    "rfbc_sev = make_pipeline(TransformedTargetRegressor(rfbc_sev, transformer=PowerTransformer(method='box-cox', standardize=False)))\n",
    "cv_preds['rfbc_sev'] = get_cv_preds(rfbc_sev,\n",
    "                                     X_sev[boost_cols],\n",
    "                                     y_sev['avg_cost'],\n",
    "                                     {'transformedtargetregressor__sample_weight': y_sev['exposure']})\n",
    "rfbc_sev.fit(X_sev[lin_cols], y_sev['avg_cost'], transformedtargetregressor__sample_weight=y_sev['exposure'])\n",
    "print(mean_gamma_deviance(y_sev['avg_cost'], rfbc_sev.predict(X_sev[lin_cols])))\n",
    "print(mean_gamma_deviance(y_sev['avg_cost'], cv_preds['rfbc_sev']))\n",
    "print(np.mean((y_sev['avg_cost'] - rfbc_sev.predict(X_sev[lin_cols])) ** 2))\n",
    "print(np.mean((y_sev['avg_cost'] - cv_preds['rfbc_sev']) ** 2))"
   ]
  },
  {
   "cell_type": "code",
   "execution_count": 128,
   "metadata": {},
   "outputs": [
    {
     "name": "stdout",
     "output_type": "stream",
     "text": [
      "0.05262623519076664\n",
      "0.11930921903083588\n",
      "0.11234997386853103\n",
      "0.12224047532735537\n",
      "0.14900890014502233\n"
     ]
    }
   ],
   "source": [
    "print(gini(y_sev['avg_cost'], cv_preds['gamma_sev']))\n",
    "print(gini(y_sev['avg_cost'], cv_preds['bcgamma_sev']))\n",
    "print(gini(y_sev['avg_cost'], cv_preds['rf_sev']))\n",
    "print(gini(y_sev['avg_cost'], cv_preds['rfbc_sev']))\n",
    "print(gini(y_sev['avg_cost'], cv_preds['ridge_sev']))\n",
    "# It looks like the box-cox transform improved our gini for severity!\n",
    "# But does this transform carry over to Tweedie?\n",
    "# How can we reduce the skew of a Tweedie distribution?\n",
    "# Probably not as it is zero-inflated, by reducing the skew of the claim amounts might be beneficial"
   ]
  },
  {
   "cell_type": "code",
   "execution_count": 191,
   "metadata": {},
   "outputs": [
    {
     "name": "stdout",
     "output_type": "stream",
     "text": [
      "2.4920746503109026\n",
      "2.576198470417246\n"
     ]
    }
   ],
   "source": [
    "# RF\n",
    "rf_gamma = LGBMRegressor(n_estimators=1000,\n",
    "                         learning_rate=1.0,\n",
    "                         num_leaves=31,\n",
    "                         colsample_bytree=5 / 7,\n",
    "                           subsample=0.67, \n",
    "                           subsample_freq=1,\n",
    "                           boosting_type='rf',\n",
    "                           objective='gamma',\n",
    "                           extra_trees=True,\n",
    "                           mc=[1,0,1,0,0,-1],\n",
    "                           mc_method='advanced',\n",
    "                           n_jobs=-1)\n",
    "cv_preds['rf_gamma'] = get_cv_preds(rf_gamma,\n",
    "                                      X_sev[boost_cols],\n",
    "                                      y_sev['avg_cost'],\n",
    "                                      {'sample_weight': y_sev['exposure']})\n",
    "rf_gamma.fit(X_sev[boost_cols], y_sev['avg_cost'], sample_weight=y_sev['exposure'])\n",
    "print(mean_gamma_deviance(y_sev['avg_cost'], rf_gamma.predict(X_sev[boost_cols])))\n",
    "print(mean_gamma_deviance(y_sev['avg_cost'], cv_preds['rf_gamma']))            "
   ]
  },
  {
   "cell_type": "code",
   "execution_count": 196,
   "metadata": {},
   "outputs": [
    {
     "name": "stdout",
     "output_type": "stream",
     "text": [
      "1.7661236051036056\n",
      "1.8084826727462133\n"
     ]
    }
   ],
   "source": [
    "# LGBM\n",
    "lgbm_gamma = LGBMRegressor(n_estimators=1000,\n",
    "                             learning_rate=0.001,\n",
    "                             num_leaves=31,\n",
    "                             objective='gamma',\n",
    "                             subsample=0.85, \n",
    "                             subsample_freq=1,\n",
    "                             min_split_gain=20.0,\n",
    "                             mc=[1,0,1,0,0,-1],\n",
    "                             mc_method='advanced',\n",
    "                             n_jobs=-1)\n",
    "cv_preds['lgbm_gamma'] = get_cv_preds(lgbm_gamma,\n",
    "                                      X_sev[boost_cols],\n",
    "                                      y_sev['avg_cost'],\n",
    "                                      {'sample_weight': y_sev['exposure']})\n",
    "lgbm_gamma.fit(X_sev[boost_cols], y_sev['avg_cost'], sample_weight=y_sev['exposure'])\n",
    "print(mean_gamma_deviance(y_sev['avg_cost'], lgbm_gamma.predict(X_sev[boost_cols])))\n",
    "print(mean_gamma_deviance(y_sev['avg_cost'], cv_preds['lgbm_gamma']))          "
   ]
  },
  {
   "cell_type": "code",
   "execution_count": 195,
   "metadata": {},
   "outputs": [
    {
     "data": {
      "text/plain": [
       "array([1049.26736715, 1155.45811984,  742.48201202, ..., 1164.84800155,\n",
       "       1246.3051539 , 1110.22253203])"
      ]
     },
     "execution_count": 195,
     "metadata": {},
     "output_type": "execute_result"
    }
   ],
   "source": [
    "cv_preds['lgbm_gamma']"
   ]
  },
  {
   "cell_type": "code",
   "execution_count": 201,
   "metadata": {},
   "outputs": [
    {
     "ename": "ValueError",
     "evalue": "operands could not be broadcast together with shapes (1534,) (22610,) ",
     "output_type": "error",
     "traceback": [
      "\u001b[1;31m---------------------------------------------------------------------------\u001b[0m",
      "\u001b[1;31mValueError\u001b[0m                                Traceback (most recent call last)",
      "\u001b[1;32m<ipython-input-201-d045fea2b3a6>\u001b[0m in \u001b[0;36m<module>\u001b[1;34m\u001b[0m\n\u001b[1;32m----> 1\u001b[1;33m \u001b[0mcv_preds\u001b[0m\u001b[1;33m[\u001b[0m\u001b[1;34m'gamma_sev'\u001b[0m\u001b[1;33m]\u001b[0m \u001b[1;33m*\u001b[0m \u001b[0mcv_preds\u001b[0m\u001b[1;33m[\u001b[0m\u001b[1;34m'poisson'\u001b[0m\u001b[1;33m]\u001b[0m\u001b[1;33m\u001b[0m\u001b[1;33m\u001b[0m\u001b[0m\n\u001b[0m",
      "\u001b[1;31mValueError\u001b[0m: operands could not be broadcast together with shapes (1534,) (22610,) "
     ]
    }
   ],
   "source": [
    "cv_preds['gamma_sev'] * cv_preds['poisson']"
   ]
  },
  {
   "cell_type": "markdown",
   "metadata": {},
   "source": [
    "# Pure Premium"
   ]
  },
  {
   "cell_type": "code",
   "execution_count": 136,
   "metadata": {
    "scrolled": false
   },
   "outputs": [
    {
     "name": "stdout",
     "output_type": "stream",
     "text": [
      "0.19455607938583894\n",
      "1260879.5596728323\n",
      "1263267.9677784196\n"
     ]
    }
   ],
   "source": [
    "# Tweedie predictions\n",
    "tweedie = make_pipeline(ColumnTransformer([('one_hot', OneHotEncoder(drop='first', sparse=False), get_cats)], remainder='passthrough'),\n",
    "                        StandardScaler(),\n",
    "                        TweedieRegressor(alpha=0.0, power=1.5, max_iter=1000))\n",
    "cv_preds['tweedie'] = get_cv_preds(tweedie,\n",
    "                                   X[lin_cols],\n",
    "                                   y['pure_premium'],\n",
    "                                   {'tweedieregressor__sample_weight': y['exposure']})\n",
    "tweedie.fit(X[lin_cols], y['pure_premium'], tweedieregressor__sample_weight=y['exposure'])\n",
    "print(gini(y['claim_cost'], cv_preds['tweedie'] * y['exposure']))\n",
    "print(np.mean((y['claim_cost'] - tweedie.predict(X[lin_cols]) * y['exposure']) ** 2))\n",
    "print(np.mean((y['claim_cost'] - cv_preds['tweedie'] * y['exposure']) ** 2))"
   ]
  },
  {
   "cell_type": "code",
   "execution_count": 137,
   "metadata": {},
   "outputs": [
    {
     "ename": "ValueError",
     "evalue": "Expected 2D array, got 1D array instead:\narray=[1650.89382838 3997.96838369 1049.06451577 ... 2787.32171241 2309.59411099\n  461.53701973].\nReshape your data either using array.reshape(-1, 1) if your data has a single feature or array.reshape(1, -1) if it contains a single sample.",
     "output_type": "error",
     "traceback": [
      "\u001b[1;31m---------------------------------------------------------------------------\u001b[0m",
      "\u001b[1;31mValueError\u001b[0m                                Traceback (most recent call last)",
      "\u001b[1;32m<ipython-input-137-cb1f19eff8f1>\u001b[0m in \u001b[0;36m<module>\u001b[1;34m\u001b[0m\n\u001b[0;32m      7\u001b[0m                                    \u001b[0mX\u001b[0m\u001b[1;33m[\u001b[0m\u001b[0mlin_cols\u001b[0m\u001b[1;33m]\u001b[0m\u001b[1;33m,\u001b[0m\u001b[1;33m\u001b[0m\u001b[1;33m\u001b[0m\u001b[0m\n\u001b[0;32m      8\u001b[0m                                    \u001b[0my\u001b[0m\u001b[1;33m[\u001b[0m\u001b[1;34m'pure_premium'\u001b[0m\u001b[1;33m]\u001b[0m\u001b[1;33m,\u001b[0m\u001b[1;33m\u001b[0m\u001b[1;33m\u001b[0m\u001b[0m\n\u001b[1;32m----> 9\u001b[1;33m                                    {'transformedtargetregressor__sample_weight': y['exposure']})\n\u001b[0m\u001b[0;32m     10\u001b[0m \u001b[0mbctweedie\u001b[0m\u001b[1;33m.\u001b[0m\u001b[0mfit\u001b[0m\u001b[1;33m(\u001b[0m\u001b[0mX\u001b[0m\u001b[1;33m[\u001b[0m\u001b[0mlin_cols\u001b[0m\u001b[1;33m]\u001b[0m\u001b[1;33m,\u001b[0m \u001b[0my\u001b[0m\u001b[1;33m[\u001b[0m\u001b[1;34m'pure_premium'\u001b[0m\u001b[1;33m]\u001b[0m\u001b[1;33m,\u001b[0m \u001b[0mtransformedtargetregressor__sample_weight\u001b[0m\u001b[1;33m=\u001b[0m\u001b[0my\u001b[0m\u001b[1;33m[\u001b[0m\u001b[1;34m'exposure'\u001b[0m\u001b[1;33m]\u001b[0m\u001b[1;33m)\u001b[0m\u001b[1;33m\u001b[0m\u001b[1;33m\u001b[0m\u001b[0m\n\u001b[0;32m     11\u001b[0m \u001b[0mprint\u001b[0m\u001b[1;33m(\u001b[0m\u001b[0mgini\u001b[0m\u001b[1;33m(\u001b[0m\u001b[0my\u001b[0m\u001b[1;33m[\u001b[0m\u001b[1;34m'claim_cost'\u001b[0m\u001b[1;33m]\u001b[0m\u001b[1;33m,\u001b[0m \u001b[0mcv_preds\u001b[0m\u001b[1;33m[\u001b[0m\u001b[1;34m'bctweedie'\u001b[0m\u001b[1;33m]\u001b[0m \u001b[1;33m*\u001b[0m \u001b[0my\u001b[0m\u001b[1;33m[\u001b[0m\u001b[1;34m'exposure'\u001b[0m\u001b[1;33m]\u001b[0m\u001b[1;33m)\u001b[0m\u001b[1;33m)\u001b[0m\u001b[1;33m\u001b[0m\u001b[1;33m\u001b[0m\u001b[0m\n",
      "\u001b[1;32m<ipython-input-61-8c055919f41c>\u001b[0m in \u001b[0;36mget_cv_preds\u001b[1;34m(model, X, y, fit_params, proba)\u001b[0m\n\u001b[0;32m      1\u001b[0m \u001b[1;31m# Defining a function to get cross-validated predictions\u001b[0m\u001b[1;33m\u001b[0m\u001b[1;33m\u001b[0m\u001b[1;33m\u001b[0m\u001b[0m\n\u001b[0;32m      2\u001b[0m \u001b[1;32mdef\u001b[0m \u001b[0mget_cv_preds\u001b[0m\u001b[1;33m(\u001b[0m\u001b[0mmodel\u001b[0m\u001b[1;33m,\u001b[0m \u001b[0mX\u001b[0m\u001b[1;33m,\u001b[0m \u001b[0my\u001b[0m\u001b[1;33m,\u001b[0m \u001b[0mfit_params\u001b[0m\u001b[1;33m,\u001b[0m \u001b[0mproba\u001b[0m\u001b[1;33m=\u001b[0m\u001b[1;32mFalse\u001b[0m\u001b[1;33m)\u001b[0m\u001b[1;33m:\u001b[0m\u001b[1;33m\u001b[0m\u001b[1;33m\u001b[0m\u001b[0m\n\u001b[1;32m----> 3\u001b[1;33m     \u001b[1;32mreturn\u001b[0m \u001b[0mcross_val_predict\u001b[0m\u001b[1;33m(\u001b[0m\u001b[0mmodel\u001b[0m\u001b[1;33m,\u001b[0m \u001b[0mX\u001b[0m\u001b[1;33m,\u001b[0m \u001b[0my\u001b[0m\u001b[1;33m,\u001b[0m \u001b[0mfit_params\u001b[0m\u001b[1;33m=\u001b[0m\u001b[0mfit_params\u001b[0m\u001b[1;33m,\u001b[0m \u001b[0mcv\u001b[0m\u001b[1;33m=\u001b[0m\u001b[0mKFold\u001b[0m\u001b[1;33m(\u001b[0m\u001b[1;36m30\u001b[0m\u001b[1;33m)\u001b[0m\u001b[1;33m,\u001b[0m \u001b[0mmethod\u001b[0m\u001b[1;33m=\u001b[0m\u001b[1;34m'predict_proba'\u001b[0m \u001b[1;32mif\u001b[0m \u001b[0mproba\u001b[0m \u001b[1;32melse\u001b[0m \u001b[1;34m'predict'\u001b[0m\u001b[1;33m)\u001b[0m\u001b[1;33m\u001b[0m\u001b[1;33m\u001b[0m\u001b[0m\n\u001b[0m\u001b[0;32m      4\u001b[0m     \u001b[1;31m#preds = []\u001b[0m\u001b[1;33m\u001b[0m\u001b[1;33m\u001b[0m\u001b[1;33m\u001b[0m\u001b[0m\n\u001b[0;32m      5\u001b[0m     \u001b[1;31m#for i in range(5):\u001b[0m\u001b[1;33m\u001b[0m\u001b[1;33m\u001b[0m\u001b[1;33m\u001b[0m\u001b[0m\n",
      "\u001b[1;32m~\\anaconda3\\envs\\travelers\\lib\\site-packages\\sklearn\\utils\\validation.py\u001b[0m in \u001b[0;36minner_f\u001b[1;34m(*args, **kwargs)\u001b[0m\n\u001b[0;32m     70\u001b[0m                           FutureWarning)\n\u001b[0;32m     71\u001b[0m         \u001b[0mkwargs\u001b[0m\u001b[1;33m.\u001b[0m\u001b[0mupdate\u001b[0m\u001b[1;33m(\u001b[0m\u001b[1;33m{\u001b[0m\u001b[0mk\u001b[0m\u001b[1;33m:\u001b[0m \u001b[0marg\u001b[0m \u001b[1;32mfor\u001b[0m \u001b[0mk\u001b[0m\u001b[1;33m,\u001b[0m \u001b[0marg\u001b[0m \u001b[1;32min\u001b[0m \u001b[0mzip\u001b[0m\u001b[1;33m(\u001b[0m\u001b[0msig\u001b[0m\u001b[1;33m.\u001b[0m\u001b[0mparameters\u001b[0m\u001b[1;33m,\u001b[0m \u001b[0margs\u001b[0m\u001b[1;33m)\u001b[0m\u001b[1;33m}\u001b[0m\u001b[1;33m)\u001b[0m\u001b[1;33m\u001b[0m\u001b[1;33m\u001b[0m\u001b[0m\n\u001b[1;32m---> 72\u001b[1;33m         \u001b[1;32mreturn\u001b[0m \u001b[0mf\u001b[0m\u001b[1;33m(\u001b[0m\u001b[1;33m**\u001b[0m\u001b[0mkwargs\u001b[0m\u001b[1;33m)\u001b[0m\u001b[1;33m\u001b[0m\u001b[1;33m\u001b[0m\u001b[0m\n\u001b[0m\u001b[0;32m     73\u001b[0m     \u001b[1;32mreturn\u001b[0m \u001b[0minner_f\u001b[0m\u001b[1;33m\u001b[0m\u001b[1;33m\u001b[0m\u001b[0m\n\u001b[0;32m     74\u001b[0m \u001b[1;33m\u001b[0m\u001b[0m\n",
      "\u001b[1;32m~\\anaconda3\\envs\\travelers\\lib\\site-packages\\sklearn\\model_selection\\_validation.py\u001b[0m in \u001b[0;36mcross_val_predict\u001b[1;34m(estimator, X, y, groups, cv, n_jobs, verbose, fit_params, pre_dispatch, method)\u001b[0m\n\u001b[0;32m    771\u001b[0m     prediction_blocks = parallel(delayed(_fit_and_predict)(\n\u001b[0;32m    772\u001b[0m         clone(estimator), X, y, train, test, verbose, fit_params, method)\n\u001b[1;32m--> 773\u001b[1;33m         for train, test in cv.split(X, y, groups))\n\u001b[0m\u001b[0;32m    774\u001b[0m \u001b[1;33m\u001b[0m\u001b[0m\n\u001b[0;32m    775\u001b[0m     \u001b[1;31m# Concatenate the predictions\u001b[0m\u001b[1;33m\u001b[0m\u001b[1;33m\u001b[0m\u001b[1;33m\u001b[0m\u001b[0m\n",
      "\u001b[1;32m~\\anaconda3\\envs\\travelers\\lib\\site-packages\\joblib\\parallel.py\u001b[0m in \u001b[0;36m__call__\u001b[1;34m(self, iterable)\u001b[0m\n\u001b[0;32m   1046\u001b[0m             \u001b[1;31m# remaining jobs.\u001b[0m\u001b[1;33m\u001b[0m\u001b[1;33m\u001b[0m\u001b[1;33m\u001b[0m\u001b[0m\n\u001b[0;32m   1047\u001b[0m             \u001b[0mself\u001b[0m\u001b[1;33m.\u001b[0m\u001b[0m_iterating\u001b[0m \u001b[1;33m=\u001b[0m \u001b[1;32mFalse\u001b[0m\u001b[1;33m\u001b[0m\u001b[1;33m\u001b[0m\u001b[0m\n\u001b[1;32m-> 1048\u001b[1;33m             \u001b[1;32mif\u001b[0m \u001b[0mself\u001b[0m\u001b[1;33m.\u001b[0m\u001b[0mdispatch_one_batch\u001b[0m\u001b[1;33m(\u001b[0m\u001b[0miterator\u001b[0m\u001b[1;33m)\u001b[0m\u001b[1;33m:\u001b[0m\u001b[1;33m\u001b[0m\u001b[1;33m\u001b[0m\u001b[0m\n\u001b[0m\u001b[0;32m   1049\u001b[0m                 \u001b[0mself\u001b[0m\u001b[1;33m.\u001b[0m\u001b[0m_iterating\u001b[0m \u001b[1;33m=\u001b[0m \u001b[0mself\u001b[0m\u001b[1;33m.\u001b[0m\u001b[0m_original_iterator\u001b[0m \u001b[1;32mis\u001b[0m \u001b[1;32mnot\u001b[0m \u001b[1;32mNone\u001b[0m\u001b[1;33m\u001b[0m\u001b[1;33m\u001b[0m\u001b[0m\n\u001b[0;32m   1050\u001b[0m \u001b[1;33m\u001b[0m\u001b[0m\n",
      "\u001b[1;32m~\\anaconda3\\envs\\travelers\\lib\\site-packages\\joblib\\parallel.py\u001b[0m in \u001b[0;36mdispatch_one_batch\u001b[1;34m(self, iterator)\u001b[0m\n\u001b[0;32m    864\u001b[0m                 \u001b[1;32mreturn\u001b[0m \u001b[1;32mFalse\u001b[0m\u001b[1;33m\u001b[0m\u001b[1;33m\u001b[0m\u001b[0m\n\u001b[0;32m    865\u001b[0m             \u001b[1;32melse\u001b[0m\u001b[1;33m:\u001b[0m\u001b[1;33m\u001b[0m\u001b[1;33m\u001b[0m\u001b[0m\n\u001b[1;32m--> 866\u001b[1;33m                 \u001b[0mself\u001b[0m\u001b[1;33m.\u001b[0m\u001b[0m_dispatch\u001b[0m\u001b[1;33m(\u001b[0m\u001b[0mtasks\u001b[0m\u001b[1;33m)\u001b[0m\u001b[1;33m\u001b[0m\u001b[1;33m\u001b[0m\u001b[0m\n\u001b[0m\u001b[0;32m    867\u001b[0m                 \u001b[1;32mreturn\u001b[0m \u001b[1;32mTrue\u001b[0m\u001b[1;33m\u001b[0m\u001b[1;33m\u001b[0m\u001b[0m\n\u001b[0;32m    868\u001b[0m \u001b[1;33m\u001b[0m\u001b[0m\n",
      "\u001b[1;32m~\\anaconda3\\envs\\travelers\\lib\\site-packages\\joblib\\parallel.py\u001b[0m in \u001b[0;36m_dispatch\u001b[1;34m(self, batch)\u001b[0m\n\u001b[0;32m    782\u001b[0m         \u001b[1;32mwith\u001b[0m \u001b[0mself\u001b[0m\u001b[1;33m.\u001b[0m\u001b[0m_lock\u001b[0m\u001b[1;33m:\u001b[0m\u001b[1;33m\u001b[0m\u001b[1;33m\u001b[0m\u001b[0m\n\u001b[0;32m    783\u001b[0m             \u001b[0mjob_idx\u001b[0m \u001b[1;33m=\u001b[0m \u001b[0mlen\u001b[0m\u001b[1;33m(\u001b[0m\u001b[0mself\u001b[0m\u001b[1;33m.\u001b[0m\u001b[0m_jobs\u001b[0m\u001b[1;33m)\u001b[0m\u001b[1;33m\u001b[0m\u001b[1;33m\u001b[0m\u001b[0m\n\u001b[1;32m--> 784\u001b[1;33m             \u001b[0mjob\u001b[0m \u001b[1;33m=\u001b[0m \u001b[0mself\u001b[0m\u001b[1;33m.\u001b[0m\u001b[0m_backend\u001b[0m\u001b[1;33m.\u001b[0m\u001b[0mapply_async\u001b[0m\u001b[1;33m(\u001b[0m\u001b[0mbatch\u001b[0m\u001b[1;33m,\u001b[0m \u001b[0mcallback\u001b[0m\u001b[1;33m=\u001b[0m\u001b[0mcb\u001b[0m\u001b[1;33m)\u001b[0m\u001b[1;33m\u001b[0m\u001b[1;33m\u001b[0m\u001b[0m\n\u001b[0m\u001b[0;32m    785\u001b[0m             \u001b[1;31m# A job can complete so quickly than its callback is\u001b[0m\u001b[1;33m\u001b[0m\u001b[1;33m\u001b[0m\u001b[1;33m\u001b[0m\u001b[0m\n\u001b[0;32m    786\u001b[0m             \u001b[1;31m# called before we get here, causing self._jobs to\u001b[0m\u001b[1;33m\u001b[0m\u001b[1;33m\u001b[0m\u001b[1;33m\u001b[0m\u001b[0m\n",
      "\u001b[1;32m~\\anaconda3\\envs\\travelers\\lib\\site-packages\\joblib\\_parallel_backends.py\u001b[0m in \u001b[0;36mapply_async\u001b[1;34m(self, func, callback)\u001b[0m\n\u001b[0;32m    206\u001b[0m     \u001b[1;32mdef\u001b[0m \u001b[0mapply_async\u001b[0m\u001b[1;33m(\u001b[0m\u001b[0mself\u001b[0m\u001b[1;33m,\u001b[0m \u001b[0mfunc\u001b[0m\u001b[1;33m,\u001b[0m \u001b[0mcallback\u001b[0m\u001b[1;33m=\u001b[0m\u001b[1;32mNone\u001b[0m\u001b[1;33m)\u001b[0m\u001b[1;33m:\u001b[0m\u001b[1;33m\u001b[0m\u001b[1;33m\u001b[0m\u001b[0m\n\u001b[0;32m    207\u001b[0m         \u001b[1;34m\"\"\"Schedule a func to be run\"\"\"\u001b[0m\u001b[1;33m\u001b[0m\u001b[1;33m\u001b[0m\u001b[0m\n\u001b[1;32m--> 208\u001b[1;33m         \u001b[0mresult\u001b[0m \u001b[1;33m=\u001b[0m \u001b[0mImmediateResult\u001b[0m\u001b[1;33m(\u001b[0m\u001b[0mfunc\u001b[0m\u001b[1;33m)\u001b[0m\u001b[1;33m\u001b[0m\u001b[1;33m\u001b[0m\u001b[0m\n\u001b[0m\u001b[0;32m    209\u001b[0m         \u001b[1;32mif\u001b[0m \u001b[0mcallback\u001b[0m\u001b[1;33m:\u001b[0m\u001b[1;33m\u001b[0m\u001b[1;33m\u001b[0m\u001b[0m\n\u001b[0;32m    210\u001b[0m             \u001b[0mcallback\u001b[0m\u001b[1;33m(\u001b[0m\u001b[0mresult\u001b[0m\u001b[1;33m)\u001b[0m\u001b[1;33m\u001b[0m\u001b[1;33m\u001b[0m\u001b[0m\n",
      "\u001b[1;32m~\\anaconda3\\envs\\travelers\\lib\\site-packages\\joblib\\_parallel_backends.py\u001b[0m in \u001b[0;36m__init__\u001b[1;34m(self, batch)\u001b[0m\n\u001b[0;32m    570\u001b[0m         \u001b[1;31m# Don't delay the application, to avoid keeping the input\u001b[0m\u001b[1;33m\u001b[0m\u001b[1;33m\u001b[0m\u001b[1;33m\u001b[0m\u001b[0m\n\u001b[0;32m    571\u001b[0m         \u001b[1;31m# arguments in memory\u001b[0m\u001b[1;33m\u001b[0m\u001b[1;33m\u001b[0m\u001b[1;33m\u001b[0m\u001b[0m\n\u001b[1;32m--> 572\u001b[1;33m         \u001b[0mself\u001b[0m\u001b[1;33m.\u001b[0m\u001b[0mresults\u001b[0m \u001b[1;33m=\u001b[0m \u001b[0mbatch\u001b[0m\u001b[1;33m(\u001b[0m\u001b[1;33m)\u001b[0m\u001b[1;33m\u001b[0m\u001b[1;33m\u001b[0m\u001b[0m\n\u001b[0m\u001b[0;32m    573\u001b[0m \u001b[1;33m\u001b[0m\u001b[0m\n\u001b[0;32m    574\u001b[0m     \u001b[1;32mdef\u001b[0m \u001b[0mget\u001b[0m\u001b[1;33m(\u001b[0m\u001b[0mself\u001b[0m\u001b[1;33m)\u001b[0m\u001b[1;33m:\u001b[0m\u001b[1;33m\u001b[0m\u001b[1;33m\u001b[0m\u001b[0m\n",
      "\u001b[1;32m~\\anaconda3\\envs\\travelers\\lib\\site-packages\\joblib\\parallel.py\u001b[0m in \u001b[0;36m__call__\u001b[1;34m(self)\u001b[0m\n\u001b[0;32m    261\u001b[0m         \u001b[1;32mwith\u001b[0m \u001b[0mparallel_backend\u001b[0m\u001b[1;33m(\u001b[0m\u001b[0mself\u001b[0m\u001b[1;33m.\u001b[0m\u001b[0m_backend\u001b[0m\u001b[1;33m,\u001b[0m \u001b[0mn_jobs\u001b[0m\u001b[1;33m=\u001b[0m\u001b[0mself\u001b[0m\u001b[1;33m.\u001b[0m\u001b[0m_n_jobs\u001b[0m\u001b[1;33m)\u001b[0m\u001b[1;33m:\u001b[0m\u001b[1;33m\u001b[0m\u001b[1;33m\u001b[0m\u001b[0m\n\u001b[0;32m    262\u001b[0m             return [func(*args, **kwargs)\n\u001b[1;32m--> 263\u001b[1;33m                     for func, args, kwargs in self.items]\n\u001b[0m\u001b[0;32m    264\u001b[0m \u001b[1;33m\u001b[0m\u001b[0m\n\u001b[0;32m    265\u001b[0m     \u001b[1;32mdef\u001b[0m \u001b[0m__reduce__\u001b[0m\u001b[1;33m(\u001b[0m\u001b[0mself\u001b[0m\u001b[1;33m)\u001b[0m\u001b[1;33m:\u001b[0m\u001b[1;33m\u001b[0m\u001b[1;33m\u001b[0m\u001b[0m\n",
      "\u001b[1;32m~\\anaconda3\\envs\\travelers\\lib\\site-packages\\joblib\\parallel.py\u001b[0m in \u001b[0;36m<listcomp>\u001b[1;34m(.0)\u001b[0m\n\u001b[0;32m    261\u001b[0m         \u001b[1;32mwith\u001b[0m \u001b[0mparallel_backend\u001b[0m\u001b[1;33m(\u001b[0m\u001b[0mself\u001b[0m\u001b[1;33m.\u001b[0m\u001b[0m_backend\u001b[0m\u001b[1;33m,\u001b[0m \u001b[0mn_jobs\u001b[0m\u001b[1;33m=\u001b[0m\u001b[0mself\u001b[0m\u001b[1;33m.\u001b[0m\u001b[0m_n_jobs\u001b[0m\u001b[1;33m)\u001b[0m\u001b[1;33m:\u001b[0m\u001b[1;33m\u001b[0m\u001b[1;33m\u001b[0m\u001b[0m\n\u001b[0;32m    262\u001b[0m             return [func(*args, **kwargs)\n\u001b[1;32m--> 263\u001b[1;33m                     for func, args, kwargs in self.items]\n\u001b[0m\u001b[0;32m    264\u001b[0m \u001b[1;33m\u001b[0m\u001b[0m\n\u001b[0;32m    265\u001b[0m     \u001b[1;32mdef\u001b[0m \u001b[0m__reduce__\u001b[0m\u001b[1;33m(\u001b[0m\u001b[0mself\u001b[0m\u001b[1;33m)\u001b[0m\u001b[1;33m:\u001b[0m\u001b[1;33m\u001b[0m\u001b[1;33m\u001b[0m\u001b[0m\n",
      "\u001b[1;32m~\\anaconda3\\envs\\travelers\\lib\\site-packages\\sklearn\\model_selection\\_validation.py\u001b[0m in \u001b[0;36m_fit_and_predict\u001b[1;34m(estimator, X, y, train, test, verbose, fit_params, method)\u001b[0m\n\u001b[0;32m    860\u001b[0m         \u001b[0mestimator\u001b[0m\u001b[1;33m.\u001b[0m\u001b[0mfit\u001b[0m\u001b[1;33m(\u001b[0m\u001b[0mX_train\u001b[0m\u001b[1;33m,\u001b[0m \u001b[1;33m**\u001b[0m\u001b[0mfit_params\u001b[0m\u001b[1;33m)\u001b[0m\u001b[1;33m\u001b[0m\u001b[1;33m\u001b[0m\u001b[0m\n\u001b[0;32m    861\u001b[0m     \u001b[1;32melse\u001b[0m\u001b[1;33m:\u001b[0m\u001b[1;33m\u001b[0m\u001b[1;33m\u001b[0m\u001b[0m\n\u001b[1;32m--> 862\u001b[1;33m         \u001b[0mestimator\u001b[0m\u001b[1;33m.\u001b[0m\u001b[0mfit\u001b[0m\u001b[1;33m(\u001b[0m\u001b[0mX_train\u001b[0m\u001b[1;33m,\u001b[0m \u001b[0my_train\u001b[0m\u001b[1;33m,\u001b[0m \u001b[1;33m**\u001b[0m\u001b[0mfit_params\u001b[0m\u001b[1;33m)\u001b[0m\u001b[1;33m\u001b[0m\u001b[1;33m\u001b[0m\u001b[0m\n\u001b[0m\u001b[0;32m    863\u001b[0m     \u001b[0mfunc\u001b[0m \u001b[1;33m=\u001b[0m \u001b[0mgetattr\u001b[0m\u001b[1;33m(\u001b[0m\u001b[0mestimator\u001b[0m\u001b[1;33m,\u001b[0m \u001b[0mmethod\u001b[0m\u001b[1;33m)\u001b[0m\u001b[1;33m\u001b[0m\u001b[1;33m\u001b[0m\u001b[0m\n\u001b[0;32m    864\u001b[0m     \u001b[0mpredictions\u001b[0m \u001b[1;33m=\u001b[0m \u001b[0mfunc\u001b[0m\u001b[1;33m(\u001b[0m\u001b[0mX_test\u001b[0m\u001b[1;33m)\u001b[0m\u001b[1;33m\u001b[0m\u001b[1;33m\u001b[0m\u001b[0m\n",
      "\u001b[1;32m~\\anaconda3\\envs\\travelers\\lib\\site-packages\\sklearn\\pipeline.py\u001b[0m in \u001b[0;36mfit\u001b[1;34m(self, X, y, **fit_params)\u001b[0m\n\u001b[0;32m    333\u001b[0m             \u001b[1;32mif\u001b[0m \u001b[0mself\u001b[0m\u001b[1;33m.\u001b[0m\u001b[0m_final_estimator\u001b[0m \u001b[1;33m!=\u001b[0m \u001b[1;34m'passthrough'\u001b[0m\u001b[1;33m:\u001b[0m\u001b[1;33m\u001b[0m\u001b[1;33m\u001b[0m\u001b[0m\n\u001b[0;32m    334\u001b[0m                 \u001b[0mfit_params_last_step\u001b[0m \u001b[1;33m=\u001b[0m \u001b[0mfit_params_steps\u001b[0m\u001b[1;33m[\u001b[0m\u001b[0mself\u001b[0m\u001b[1;33m.\u001b[0m\u001b[0msteps\u001b[0m\u001b[1;33m[\u001b[0m\u001b[1;33m-\u001b[0m\u001b[1;36m1\u001b[0m\u001b[1;33m]\u001b[0m\u001b[1;33m[\u001b[0m\u001b[1;36m0\u001b[0m\u001b[1;33m]\u001b[0m\u001b[1;33m]\u001b[0m\u001b[1;33m\u001b[0m\u001b[1;33m\u001b[0m\u001b[0m\n\u001b[1;32m--> 335\u001b[1;33m                 \u001b[0mself\u001b[0m\u001b[1;33m.\u001b[0m\u001b[0m_final_estimator\u001b[0m\u001b[1;33m.\u001b[0m\u001b[0mfit\u001b[0m\u001b[1;33m(\u001b[0m\u001b[0mXt\u001b[0m\u001b[1;33m,\u001b[0m \u001b[0my\u001b[0m\u001b[1;33m,\u001b[0m \u001b[1;33m**\u001b[0m\u001b[0mfit_params_last_step\u001b[0m\u001b[1;33m)\u001b[0m\u001b[1;33m\u001b[0m\u001b[1;33m\u001b[0m\u001b[0m\n\u001b[0m\u001b[0;32m    336\u001b[0m \u001b[1;33m\u001b[0m\u001b[0m\n\u001b[0;32m    337\u001b[0m         \u001b[1;32mreturn\u001b[0m \u001b[0mself\u001b[0m\u001b[1;33m\u001b[0m\u001b[1;33m\u001b[0m\u001b[0m\n",
      "\u001b[1;32m~\\anaconda3\\envs\\travelers\\lib\\site-packages\\sklearn\\compose\\_target.py\u001b[0m in \u001b[0;36mfit\u001b[1;34m(self, X, y, **fit_params)\u001b[0m\n\u001b[0;32m    189\u001b[0m         \u001b[1;32melse\u001b[0m\u001b[1;33m:\u001b[0m\u001b[1;33m\u001b[0m\u001b[1;33m\u001b[0m\u001b[0m\n\u001b[0;32m    190\u001b[0m             \u001b[0my_2d\u001b[0m \u001b[1;33m=\u001b[0m \u001b[0my\u001b[0m\u001b[1;33m\u001b[0m\u001b[1;33m\u001b[0m\u001b[0m\n\u001b[1;32m--> 191\u001b[1;33m         \u001b[0mself\u001b[0m\u001b[1;33m.\u001b[0m\u001b[0m_fit_transformer\u001b[0m\u001b[1;33m(\u001b[0m\u001b[0my_2d\u001b[0m\u001b[1;33m)\u001b[0m\u001b[1;33m\u001b[0m\u001b[1;33m\u001b[0m\u001b[0m\n\u001b[0m\u001b[0;32m    192\u001b[0m \u001b[1;33m\u001b[0m\u001b[0m\n\u001b[0;32m    193\u001b[0m         \u001b[1;31m# transform y and convert back to 1d array if needed\u001b[0m\u001b[1;33m\u001b[0m\u001b[1;33m\u001b[0m\u001b[1;33m\u001b[0m\u001b[0m\n",
      "\u001b[1;32m~\\anaconda3\\envs\\travelers\\lib\\site-packages\\sklearn\\compose\\_target.py\u001b[0m in \u001b[0;36m_fit_transformer\u001b[1;34m(self, y)\u001b[0m\n\u001b[0;32m    143\u001b[0m         \u001b[1;31m# code should be modified accordingly. At the time to consider the\u001b[0m\u001b[1;33m\u001b[0m\u001b[1;33m\u001b[0m\u001b[1;33m\u001b[0m\u001b[0m\n\u001b[0;32m    144\u001b[0m         \u001b[1;31m# sample_prop feature, it is also a good use case to be considered.\u001b[0m\u001b[1;33m\u001b[0m\u001b[1;33m\u001b[0m\u001b[1;33m\u001b[0m\u001b[0m\n\u001b[1;32m--> 145\u001b[1;33m         \u001b[0mself\u001b[0m\u001b[1;33m.\u001b[0m\u001b[0mtransformer_\u001b[0m\u001b[1;33m.\u001b[0m\u001b[0mfit\u001b[0m\u001b[1;33m(\u001b[0m\u001b[0my\u001b[0m\u001b[1;33m)\u001b[0m\u001b[1;33m\u001b[0m\u001b[1;33m\u001b[0m\u001b[0m\n\u001b[0m\u001b[0;32m    146\u001b[0m         \u001b[1;32mif\u001b[0m \u001b[0mself\u001b[0m\u001b[1;33m.\u001b[0m\u001b[0mcheck_inverse\u001b[0m\u001b[1;33m:\u001b[0m\u001b[1;33m\u001b[0m\u001b[1;33m\u001b[0m\u001b[0m\n\u001b[0;32m    147\u001b[0m             \u001b[0midx_selected\u001b[0m \u001b[1;33m=\u001b[0m \u001b[0mslice\u001b[0m\u001b[1;33m(\u001b[0m\u001b[1;32mNone\u001b[0m\u001b[1;33m,\u001b[0m \u001b[1;32mNone\u001b[0m\u001b[1;33m,\u001b[0m \u001b[0mmax\u001b[0m\u001b[1;33m(\u001b[0m\u001b[1;36m1\u001b[0m\u001b[1;33m,\u001b[0m \u001b[0my\u001b[0m\u001b[1;33m.\u001b[0m\u001b[0mshape\u001b[0m\u001b[1;33m[\u001b[0m\u001b[1;36m0\u001b[0m\u001b[1;33m]\u001b[0m \u001b[1;33m//\u001b[0m \u001b[1;36m10\u001b[0m\u001b[1;33m)\u001b[0m\u001b[1;33m)\u001b[0m\u001b[1;33m\u001b[0m\u001b[1;33m\u001b[0m\u001b[0m\n",
      "\u001b[1;32m<ipython-input-135-4eb7df7cb7ea>\u001b[0m in \u001b[0;36mfit\u001b[1;34m(self, X, y)\u001b[0m\n\u001b[0;32m      8\u001b[0m     \u001b[1;32mdef\u001b[0m \u001b[0mfit\u001b[0m\u001b[1;33m(\u001b[0m\u001b[0mself\u001b[0m\u001b[1;33m,\u001b[0m \u001b[0mX\u001b[0m\u001b[1;33m,\u001b[0m \u001b[0my\u001b[0m\u001b[1;33m=\u001b[0m\u001b[1;32mNone\u001b[0m\u001b[1;33m)\u001b[0m\u001b[1;33m:\u001b[0m\u001b[1;33m\u001b[0m\u001b[1;33m\u001b[0m\u001b[0m\n\u001b[0;32m      9\u001b[0m         \u001b[0m_X\u001b[0m \u001b[1;33m=\u001b[0m \u001b[0mX\u001b[0m\u001b[1;33m.\u001b[0m\u001b[0mcopy\u001b[0m\u001b[1;33m(\u001b[0m\u001b[1;33m)\u001b[0m\u001b[1;33m\u001b[0m\u001b[1;33m\u001b[0m\u001b[0m\n\u001b[1;32m---> 10\u001b[1;33m         \u001b[0mself\u001b[0m\u001b[1;33m.\u001b[0m\u001b[0m_fit\u001b[0m\u001b[1;33m(\u001b[0m\u001b[0m_X\u001b[0m\u001b[1;33m[\u001b[0m\u001b[0m_X\u001b[0m \u001b[1;33m>\u001b[0m \u001b[1;36m0.0\u001b[0m\u001b[1;33m]\u001b[0m\u001b[1;33m,\u001b[0m \u001b[0my\u001b[0m\u001b[1;33m=\u001b[0m\u001b[0my\u001b[0m\u001b[1;33m,\u001b[0m \u001b[0mforce_transform\u001b[0m\u001b[1;33m=\u001b[0m\u001b[1;32mFalse\u001b[0m\u001b[1;33m)\u001b[0m\u001b[1;33m\u001b[0m\u001b[1;33m\u001b[0m\u001b[0m\n\u001b[0m\u001b[0;32m     11\u001b[0m         \u001b[1;32mreturn\u001b[0m \u001b[0mself\u001b[0m\u001b[1;33m\u001b[0m\u001b[1;33m\u001b[0m\u001b[0m\n\u001b[0;32m     12\u001b[0m \u001b[1;33m\u001b[0m\u001b[0m\n",
      "\u001b[1;32m~\\anaconda3\\envs\\travelers\\lib\\site-packages\\sklearn\\preprocessing\\_data.py\u001b[0m in \u001b[0;36m_fit\u001b[1;34m(self, X, y, force_transform)\u001b[0m\n\u001b[0;32m   2810\u001b[0m     \u001b[1;32mdef\u001b[0m \u001b[0m_fit\u001b[0m\u001b[1;33m(\u001b[0m\u001b[0mself\u001b[0m\u001b[1;33m,\u001b[0m \u001b[0mX\u001b[0m\u001b[1;33m,\u001b[0m \u001b[0my\u001b[0m\u001b[1;33m=\u001b[0m\u001b[1;32mNone\u001b[0m\u001b[1;33m,\u001b[0m \u001b[0mforce_transform\u001b[0m\u001b[1;33m=\u001b[0m\u001b[1;32mFalse\u001b[0m\u001b[1;33m)\u001b[0m\u001b[1;33m:\u001b[0m\u001b[1;33m\u001b[0m\u001b[1;33m\u001b[0m\u001b[0m\n\u001b[0;32m   2811\u001b[0m         X = self._check_input(X, in_fit=True, check_positive=True,\n\u001b[1;32m-> 2812\u001b[1;33m                               check_method=True)\n\u001b[0m\u001b[0;32m   2813\u001b[0m \u001b[1;33m\u001b[0m\u001b[0m\n\u001b[0;32m   2814\u001b[0m         \u001b[1;32mif\u001b[0m \u001b[1;32mnot\u001b[0m \u001b[0mself\u001b[0m\u001b[1;33m.\u001b[0m\u001b[0mcopy\u001b[0m \u001b[1;32mand\u001b[0m \u001b[1;32mnot\u001b[0m \u001b[0mforce_transform\u001b[0m\u001b[1;33m:\u001b[0m  \u001b[1;31m# if call from fit()\u001b[0m\u001b[1;33m\u001b[0m\u001b[1;33m\u001b[0m\u001b[0m\n",
      "\u001b[1;32m~\\anaconda3\\envs\\travelers\\lib\\site-packages\\sklearn\\preprocessing\\_data.py\u001b[0m in \u001b[0;36m_check_input\u001b[1;34m(self, X, in_fit, check_positive, check_shape, check_method)\u001b[0m\n\u001b[0;32m   3023\u001b[0m         \"\"\"\n\u001b[0;32m   3024\u001b[0m         X = self._validate_data(X, ensure_2d=True, dtype=FLOAT_DTYPES,\n\u001b[1;32m-> 3025\u001b[1;33m                                 copy=self.copy, force_all_finite='allow-nan')\n\u001b[0m\u001b[0;32m   3026\u001b[0m \u001b[1;33m\u001b[0m\u001b[0m\n\u001b[0;32m   3027\u001b[0m         \u001b[1;32mwith\u001b[0m \u001b[0mnp\u001b[0m\u001b[1;33m.\u001b[0m\u001b[0mwarnings\u001b[0m\u001b[1;33m.\u001b[0m\u001b[0mcatch_warnings\u001b[0m\u001b[1;33m(\u001b[0m\u001b[1;33m)\u001b[0m\u001b[1;33m:\u001b[0m\u001b[1;33m\u001b[0m\u001b[1;33m\u001b[0m\u001b[0m\n",
      "\u001b[1;32m~\\anaconda3\\envs\\travelers\\lib\\site-packages\\sklearn\\base.py\u001b[0m in \u001b[0;36m_validate_data\u001b[1;34m(self, X, y, reset, validate_separately, **check_params)\u001b[0m\n\u001b[0;32m    418\u001b[0m                     \u001b[1;34mf\"requires y to be passed, but the target y is None.\"\u001b[0m\u001b[1;33m\u001b[0m\u001b[1;33m\u001b[0m\u001b[0m\n\u001b[0;32m    419\u001b[0m                 )\n\u001b[1;32m--> 420\u001b[1;33m             \u001b[0mX\u001b[0m \u001b[1;33m=\u001b[0m \u001b[0mcheck_array\u001b[0m\u001b[1;33m(\u001b[0m\u001b[0mX\u001b[0m\u001b[1;33m,\u001b[0m \u001b[1;33m**\u001b[0m\u001b[0mcheck_params\u001b[0m\u001b[1;33m)\u001b[0m\u001b[1;33m\u001b[0m\u001b[1;33m\u001b[0m\u001b[0m\n\u001b[0m\u001b[0;32m    421\u001b[0m             \u001b[0mout\u001b[0m \u001b[1;33m=\u001b[0m \u001b[0mX\u001b[0m\u001b[1;33m\u001b[0m\u001b[1;33m\u001b[0m\u001b[0m\n\u001b[0;32m    422\u001b[0m         \u001b[1;32melse\u001b[0m\u001b[1;33m:\u001b[0m\u001b[1;33m\u001b[0m\u001b[1;33m\u001b[0m\u001b[0m\n",
      "\u001b[1;32m~\\anaconda3\\envs\\travelers\\lib\\site-packages\\sklearn\\utils\\validation.py\u001b[0m in \u001b[0;36minner_f\u001b[1;34m(*args, **kwargs)\u001b[0m\n\u001b[0;32m     70\u001b[0m                           FutureWarning)\n\u001b[0;32m     71\u001b[0m         \u001b[0mkwargs\u001b[0m\u001b[1;33m.\u001b[0m\u001b[0mupdate\u001b[0m\u001b[1;33m(\u001b[0m\u001b[1;33m{\u001b[0m\u001b[0mk\u001b[0m\u001b[1;33m:\u001b[0m \u001b[0marg\u001b[0m \u001b[1;32mfor\u001b[0m \u001b[0mk\u001b[0m\u001b[1;33m,\u001b[0m \u001b[0marg\u001b[0m \u001b[1;32min\u001b[0m \u001b[0mzip\u001b[0m\u001b[1;33m(\u001b[0m\u001b[0msig\u001b[0m\u001b[1;33m.\u001b[0m\u001b[0mparameters\u001b[0m\u001b[1;33m,\u001b[0m \u001b[0margs\u001b[0m\u001b[1;33m)\u001b[0m\u001b[1;33m}\u001b[0m\u001b[1;33m)\u001b[0m\u001b[1;33m\u001b[0m\u001b[1;33m\u001b[0m\u001b[0m\n\u001b[1;32m---> 72\u001b[1;33m         \u001b[1;32mreturn\u001b[0m \u001b[0mf\u001b[0m\u001b[1;33m(\u001b[0m\u001b[1;33m**\u001b[0m\u001b[0mkwargs\u001b[0m\u001b[1;33m)\u001b[0m\u001b[1;33m\u001b[0m\u001b[1;33m\u001b[0m\u001b[0m\n\u001b[0m\u001b[0;32m     73\u001b[0m     \u001b[1;32mreturn\u001b[0m \u001b[0minner_f\u001b[0m\u001b[1;33m\u001b[0m\u001b[1;33m\u001b[0m\u001b[0m\n\u001b[0;32m     74\u001b[0m \u001b[1;33m\u001b[0m\u001b[0m\n",
      "\u001b[1;32m~\\anaconda3\\envs\\travelers\\lib\\site-packages\\sklearn\\utils\\validation.py\u001b[0m in \u001b[0;36mcheck_array\u001b[1;34m(array, accept_sparse, accept_large_sparse, dtype, order, copy, force_all_finite, ensure_2d, allow_nd, ensure_min_samples, ensure_min_features, estimator)\u001b[0m\n\u001b[0;32m    621\u001b[0m                     \u001b[1;34m\"Reshape your data either using array.reshape(-1, 1) if \"\u001b[0m\u001b[1;33m\u001b[0m\u001b[1;33m\u001b[0m\u001b[0m\n\u001b[0;32m    622\u001b[0m                     \u001b[1;34m\"your data has a single feature or array.reshape(1, -1) \"\u001b[0m\u001b[1;33m\u001b[0m\u001b[1;33m\u001b[0m\u001b[0m\n\u001b[1;32m--> 623\u001b[1;33m                     \"if it contains a single sample.\".format(array))\n\u001b[0m\u001b[0;32m    624\u001b[0m \u001b[1;33m\u001b[0m\u001b[0m\n\u001b[0;32m    625\u001b[0m         \u001b[1;31m# in the future np.flexible dtypes will be handled like object dtypes\u001b[0m\u001b[1;33m\u001b[0m\u001b[1;33m\u001b[0m\u001b[1;33m\u001b[0m\u001b[0m\n",
      "\u001b[1;31mValueError\u001b[0m: Expected 2D array, got 1D array instead:\narray=[1650.89382838 3997.96838369 1049.06451577 ... 2787.32171241 2309.59411099\n  461.53701973].\nReshape your data either using array.reshape(-1, 1) if your data has a single feature or array.reshape(1, -1) if it contains a single sample."
     ]
    }
   ],
   "source": [
    "# Box-Cox Tweedie predictions\n",
    "bctweedie = make_pipeline(ColumnTransformer([('one_hot', OneHotEncoder(drop='first', sparse=False), get_cats)], remainder='passthrough'),\n",
    "                        StandardScaler(),\n",
    "                        TransformedTargetRegressor(TweedieRegressor(alpha=0.0, power=1.5, max_iter=1000),\n",
    "                                                   transformer=NonzeroPowerTransformer()))\n",
    "cv_preds['bctweedie'] = get_cv_preds(bctweedie,\n",
    "                                   X[lin_cols],\n",
    "                                   y['pure_premium'],\n",
    "                                   {'transformedtargetregressor__sample_weight': y['exposure']})\n",
    "bctweedie.fit(X[lin_cols], y['pure_premium'], transformedtargetregressor__sample_weight=y['exposure'])\n",
    "print(gini(y['claim_cost'], cv_preds['bctweedie'] * y['exposure']))\n",
    "print(np.mean((y['claim_cost'] - bctweedie.predict(X[lin_cols]) * y['exposure']) ** 2))\n",
    "print(np.mean((y['claim_cost'] - cv_preds['bctweedie'] * y['exposure']) ** 2))"
   ]
  },
  {
   "cell_type": "code",
   "execution_count": 100,
   "metadata": {},
   "outputs": [
    {
     "name": "stdout",
     "output_type": "stream",
     "text": [
      "0.17222452862074308\n",
      "1258836.7151825065\n",
      "1261964.293849707\n"
     ]
    }
   ],
   "source": [
    "# RF predictions\n",
    "rf = LGBMRegressor(n_estimators=1000,\n",
    "                   learning_rate=1.0,\n",
    "                   num_leaves=21,\n",
    "                   colsample_bytree=5 / 7,\n",
    "                   subsample=0.67, \n",
    "                   subsample_freq=1,\n",
    "                   min_split_gain=200.0,\n",
    "                   boosting_type='rf',\n",
    "                   objective='tweedie',\n",
    "                   extra_trees=True,\n",
    "                   #mc=[1,0,1,0,0,-1],\n",
    "                   #mc_method='advanced',\n",
    "                   tweedie_variance_power=1.5,\n",
    "                   n_jobs=-1)\n",
    "cv_preds['rf'] = get_cv_preds(rf,\n",
    "                              X[boost_cols],\n",
    "                              y['pure_premium'],\n",
    "                              {'sample_weight': y['exposure']})\n",
    "rf.fit(X[boost_cols], y['pure_premium'], sample_weight=y['exposure'])\n",
    "print(gini(y['claim_cost'], cv_preds['rf'] * y['exposure']))\n",
    "print(np.mean((y['claim_cost'] - rf.predict(X[boost_cols]) * y['exposure']) ** 2))\n",
    "print(np.mean((y['claim_cost'] - cv_preds['rf'] * y['exposure']) ** 2))"
   ]
  },
  {
   "cell_type": "code",
   "execution_count": 104,
   "metadata": {},
   "outputs": [
    {
     "name": "stdout",
     "output_type": "stream",
     "text": [
      "Fitting 20 folds for each of 1 candidates, totalling 20 fits\n"
     ]
    },
    {
     "name": "stderr",
     "output_type": "stream",
     "text": [
      "[Parallel(n_jobs=1)]: Using backend SequentialBackend with 1 concurrent workers.\n",
      "[Parallel(n_jobs=1)]: Done  20 out of  20 | elapsed:  1.7min finished\n",
      "[Parallel(n_jobs=1)]: Using backend SequentialBackend with 1 concurrent workers.\n"
     ]
    },
    {
     "name": "stdout",
     "output_type": "stream",
     "text": [
      "Fitting 20 folds for each of 1 candidates, totalling 20 fits\n"
     ]
    },
    {
     "ename": "KeyboardInterrupt",
     "evalue": "",
     "output_type": "error",
     "traceback": [
      "\u001b[1;31m---------------------------------------------------------------------------\u001b[0m",
      "\u001b[1;31mKeyboardInterrupt\u001b[0m                         Traceback (most recent call last)",
      "\u001b[1;32m<ipython-input-104-70f72771619d>\u001b[0m in \u001b[0;36m<module>\u001b[1;34m\u001b[0m\n\u001b[0;32m     20\u001b[0m                          \u001b[0mn_jobs\u001b[0m\u001b[1;33m=\u001b[0m\u001b[1;36m1\u001b[0m\u001b[1;33m,\u001b[0m\u001b[1;33m\u001b[0m\u001b[1;33m\u001b[0m\u001b[0m\n\u001b[0;32m     21\u001b[0m                          verbose=1)\n\u001b[1;32m---> 22\u001b[1;33m \u001b[0mlgbm_opt\u001b[0m\u001b[1;33m.\u001b[0m\u001b[0mfit\u001b[0m\u001b[1;33m(\u001b[0m\u001b[0mX\u001b[0m\u001b[1;33m[\u001b[0m\u001b[0mboost_cols\u001b[0m\u001b[1;33m]\u001b[0m\u001b[1;33m,\u001b[0m \u001b[0my\u001b[0m\u001b[1;33m[\u001b[0m\u001b[1;34m'pure_premium'\u001b[0m\u001b[1;33m]\u001b[0m\u001b[1;33m)\u001b[0m\u001b[1;33m\u001b[0m\u001b[1;33m\u001b[0m\u001b[0m\n\u001b[0m\u001b[0;32m     23\u001b[0m \u001b[0mprint\u001b[0m\u001b[1;33m(\u001b[0m\u001b[0mlgbm_opt\u001b[0m\u001b[1;33m.\u001b[0m\u001b[0mbest_params_\u001b[0m\u001b[1;33m)\u001b[0m\u001b[1;33m\u001b[0m\u001b[1;33m\u001b[0m\u001b[0m\n\u001b[0;32m     24\u001b[0m cv_preds['lgbm'] = get_cv_preds(lgbm_opt.best_estimator_,\n",
      "\u001b[1;32m~\\anaconda3\\envs\\travelers\\lib\\site-packages\\skopt\\searchcv.py\u001b[0m in \u001b[0;36mfit\u001b[1;34m(self, X, y, groups, callback)\u001b[0m\n\u001b[0;32m    692\u001b[0m                 optim_result = self._step(\n\u001b[0;32m    693\u001b[0m                     \u001b[0mX\u001b[0m\u001b[1;33m,\u001b[0m \u001b[0my\u001b[0m\u001b[1;33m,\u001b[0m \u001b[0msearch_space\u001b[0m\u001b[1;33m,\u001b[0m \u001b[0moptimizer\u001b[0m\u001b[1;33m,\u001b[0m\u001b[1;33m\u001b[0m\u001b[1;33m\u001b[0m\u001b[0m\n\u001b[1;32m--> 694\u001b[1;33m                     \u001b[0mgroups\u001b[0m\u001b[1;33m=\u001b[0m\u001b[0mgroups\u001b[0m\u001b[1;33m,\u001b[0m \u001b[0mn_points\u001b[0m\u001b[1;33m=\u001b[0m\u001b[0mn_points_adjusted\u001b[0m\u001b[1;33m\u001b[0m\u001b[1;33m\u001b[0m\u001b[0m\n\u001b[0m\u001b[0;32m    695\u001b[0m                 )\n\u001b[0;32m    696\u001b[0m                 \u001b[0mn_iter\u001b[0m \u001b[1;33m-=\u001b[0m \u001b[0mn_points\u001b[0m\u001b[1;33m\u001b[0m\u001b[1;33m\u001b[0m\u001b[0m\n",
      "\u001b[1;32m~\\anaconda3\\envs\\travelers\\lib\\site-packages\\skopt\\searchcv.py\u001b[0m in \u001b[0;36m_step\u001b[1;34m(self, X, y, search_space, optimizer, groups, n_points)\u001b[0m\n\u001b[0;32m    577\u001b[0m         \u001b[0mrefit\u001b[0m \u001b[1;33m=\u001b[0m \u001b[0mself\u001b[0m\u001b[1;33m.\u001b[0m\u001b[0mrefit\u001b[0m\u001b[1;33m\u001b[0m\u001b[1;33m\u001b[0m\u001b[0m\n\u001b[0;32m    578\u001b[0m         \u001b[0mself\u001b[0m\u001b[1;33m.\u001b[0m\u001b[0mrefit\u001b[0m \u001b[1;33m=\u001b[0m \u001b[1;32mFalse\u001b[0m\u001b[1;33m\u001b[0m\u001b[1;33m\u001b[0m\u001b[0m\n\u001b[1;32m--> 579\u001b[1;33m         \u001b[0mself\u001b[0m\u001b[1;33m.\u001b[0m\u001b[0m_fit\u001b[0m\u001b[1;33m(\u001b[0m\u001b[0mX\u001b[0m\u001b[1;33m,\u001b[0m \u001b[0my\u001b[0m\u001b[1;33m,\u001b[0m \u001b[0mgroups\u001b[0m\u001b[1;33m,\u001b[0m \u001b[0mparams_dict\u001b[0m\u001b[1;33m)\u001b[0m\u001b[1;33m\u001b[0m\u001b[1;33m\u001b[0m\u001b[0m\n\u001b[0m\u001b[0;32m    580\u001b[0m         \u001b[0mself\u001b[0m\u001b[1;33m.\u001b[0m\u001b[0mrefit\u001b[0m \u001b[1;33m=\u001b[0m \u001b[0mrefit\u001b[0m\u001b[1;33m\u001b[0m\u001b[1;33m\u001b[0m\u001b[0m\n\u001b[0;32m    581\u001b[0m \u001b[1;33m\u001b[0m\u001b[0m\n",
      "\u001b[1;32m~\\anaconda3\\envs\\travelers\\lib\\site-packages\\skopt\\searchcv.py\u001b[0m in \u001b[0;36m_fit\u001b[1;34m(self, X, y, groups, parameter_iterable)\u001b[0m\n\u001b[0;32m    421\u001b[0m                 \u001b[0merror_score\u001b[0m\u001b[1;33m=\u001b[0m\u001b[0mself\u001b[0m\u001b[1;33m.\u001b[0m\u001b[0merror_score\u001b[0m\u001b[1;33m\u001b[0m\u001b[1;33m\u001b[0m\u001b[0m\n\u001b[0;32m    422\u001b[0m             )\n\u001b[1;32m--> 423\u001b[1;33m             \u001b[1;32mfor\u001b[0m \u001b[0mparameters\u001b[0m \u001b[1;32min\u001b[0m \u001b[0mparameter_iterable\u001b[0m\u001b[1;33m\u001b[0m\u001b[1;33m\u001b[0m\u001b[0m\n\u001b[0m\u001b[0;32m    424\u001b[0m             for train, test in cv_iter)\n\u001b[0;32m    425\u001b[0m \u001b[1;33m\u001b[0m\u001b[0m\n",
      "\u001b[1;32m~\\anaconda3\\envs\\travelers\\lib\\site-packages\\joblib\\parallel.py\u001b[0m in \u001b[0;36m__call__\u001b[1;34m(self, iterable)\u001b[0m\n\u001b[0;32m   1049\u001b[0m                 \u001b[0mself\u001b[0m\u001b[1;33m.\u001b[0m\u001b[0m_iterating\u001b[0m \u001b[1;33m=\u001b[0m \u001b[0mself\u001b[0m\u001b[1;33m.\u001b[0m\u001b[0m_original_iterator\u001b[0m \u001b[1;32mis\u001b[0m \u001b[1;32mnot\u001b[0m \u001b[1;32mNone\u001b[0m\u001b[1;33m\u001b[0m\u001b[1;33m\u001b[0m\u001b[0m\n\u001b[0;32m   1050\u001b[0m \u001b[1;33m\u001b[0m\u001b[0m\n\u001b[1;32m-> 1051\u001b[1;33m             \u001b[1;32mwhile\u001b[0m \u001b[0mself\u001b[0m\u001b[1;33m.\u001b[0m\u001b[0mdispatch_one_batch\u001b[0m\u001b[1;33m(\u001b[0m\u001b[0miterator\u001b[0m\u001b[1;33m)\u001b[0m\u001b[1;33m:\u001b[0m\u001b[1;33m\u001b[0m\u001b[1;33m\u001b[0m\u001b[0m\n\u001b[0m\u001b[0;32m   1052\u001b[0m                 \u001b[1;32mpass\u001b[0m\u001b[1;33m\u001b[0m\u001b[1;33m\u001b[0m\u001b[0m\n\u001b[0;32m   1053\u001b[0m \u001b[1;33m\u001b[0m\u001b[0m\n",
      "\u001b[1;32m~\\anaconda3\\envs\\travelers\\lib\\site-packages\\joblib\\parallel.py\u001b[0m in \u001b[0;36mdispatch_one_batch\u001b[1;34m(self, iterator)\u001b[0m\n\u001b[0;32m    864\u001b[0m                 \u001b[1;32mreturn\u001b[0m \u001b[1;32mFalse\u001b[0m\u001b[1;33m\u001b[0m\u001b[1;33m\u001b[0m\u001b[0m\n\u001b[0;32m    865\u001b[0m             \u001b[1;32melse\u001b[0m\u001b[1;33m:\u001b[0m\u001b[1;33m\u001b[0m\u001b[1;33m\u001b[0m\u001b[0m\n\u001b[1;32m--> 866\u001b[1;33m                 \u001b[0mself\u001b[0m\u001b[1;33m.\u001b[0m\u001b[0m_dispatch\u001b[0m\u001b[1;33m(\u001b[0m\u001b[0mtasks\u001b[0m\u001b[1;33m)\u001b[0m\u001b[1;33m\u001b[0m\u001b[1;33m\u001b[0m\u001b[0m\n\u001b[0m\u001b[0;32m    867\u001b[0m                 \u001b[1;32mreturn\u001b[0m \u001b[1;32mTrue\u001b[0m\u001b[1;33m\u001b[0m\u001b[1;33m\u001b[0m\u001b[0m\n\u001b[0;32m    868\u001b[0m \u001b[1;33m\u001b[0m\u001b[0m\n",
      "\u001b[1;32m~\\anaconda3\\envs\\travelers\\lib\\site-packages\\joblib\\parallel.py\u001b[0m in \u001b[0;36m_dispatch\u001b[1;34m(self, batch)\u001b[0m\n\u001b[0;32m    782\u001b[0m         \u001b[1;32mwith\u001b[0m \u001b[0mself\u001b[0m\u001b[1;33m.\u001b[0m\u001b[0m_lock\u001b[0m\u001b[1;33m:\u001b[0m\u001b[1;33m\u001b[0m\u001b[1;33m\u001b[0m\u001b[0m\n\u001b[0;32m    783\u001b[0m             \u001b[0mjob_idx\u001b[0m \u001b[1;33m=\u001b[0m \u001b[0mlen\u001b[0m\u001b[1;33m(\u001b[0m\u001b[0mself\u001b[0m\u001b[1;33m.\u001b[0m\u001b[0m_jobs\u001b[0m\u001b[1;33m)\u001b[0m\u001b[1;33m\u001b[0m\u001b[1;33m\u001b[0m\u001b[0m\n\u001b[1;32m--> 784\u001b[1;33m             \u001b[0mjob\u001b[0m \u001b[1;33m=\u001b[0m \u001b[0mself\u001b[0m\u001b[1;33m.\u001b[0m\u001b[0m_backend\u001b[0m\u001b[1;33m.\u001b[0m\u001b[0mapply_async\u001b[0m\u001b[1;33m(\u001b[0m\u001b[0mbatch\u001b[0m\u001b[1;33m,\u001b[0m \u001b[0mcallback\u001b[0m\u001b[1;33m=\u001b[0m\u001b[0mcb\u001b[0m\u001b[1;33m)\u001b[0m\u001b[1;33m\u001b[0m\u001b[1;33m\u001b[0m\u001b[0m\n\u001b[0m\u001b[0;32m    785\u001b[0m             \u001b[1;31m# A job can complete so quickly than its callback is\u001b[0m\u001b[1;33m\u001b[0m\u001b[1;33m\u001b[0m\u001b[1;33m\u001b[0m\u001b[0m\n\u001b[0;32m    786\u001b[0m             \u001b[1;31m# called before we get here, causing self._jobs to\u001b[0m\u001b[1;33m\u001b[0m\u001b[1;33m\u001b[0m\u001b[1;33m\u001b[0m\u001b[0m\n",
      "\u001b[1;32m~\\anaconda3\\envs\\travelers\\lib\\site-packages\\joblib\\_parallel_backends.py\u001b[0m in \u001b[0;36mapply_async\u001b[1;34m(self, func, callback)\u001b[0m\n\u001b[0;32m    206\u001b[0m     \u001b[1;32mdef\u001b[0m \u001b[0mapply_async\u001b[0m\u001b[1;33m(\u001b[0m\u001b[0mself\u001b[0m\u001b[1;33m,\u001b[0m \u001b[0mfunc\u001b[0m\u001b[1;33m,\u001b[0m \u001b[0mcallback\u001b[0m\u001b[1;33m=\u001b[0m\u001b[1;32mNone\u001b[0m\u001b[1;33m)\u001b[0m\u001b[1;33m:\u001b[0m\u001b[1;33m\u001b[0m\u001b[1;33m\u001b[0m\u001b[0m\n\u001b[0;32m    207\u001b[0m         \u001b[1;34m\"\"\"Schedule a func to be run\"\"\"\u001b[0m\u001b[1;33m\u001b[0m\u001b[1;33m\u001b[0m\u001b[0m\n\u001b[1;32m--> 208\u001b[1;33m         \u001b[0mresult\u001b[0m \u001b[1;33m=\u001b[0m \u001b[0mImmediateResult\u001b[0m\u001b[1;33m(\u001b[0m\u001b[0mfunc\u001b[0m\u001b[1;33m)\u001b[0m\u001b[1;33m\u001b[0m\u001b[1;33m\u001b[0m\u001b[0m\n\u001b[0m\u001b[0;32m    209\u001b[0m         \u001b[1;32mif\u001b[0m \u001b[0mcallback\u001b[0m\u001b[1;33m:\u001b[0m\u001b[1;33m\u001b[0m\u001b[1;33m\u001b[0m\u001b[0m\n\u001b[0;32m    210\u001b[0m             \u001b[0mcallback\u001b[0m\u001b[1;33m(\u001b[0m\u001b[0mresult\u001b[0m\u001b[1;33m)\u001b[0m\u001b[1;33m\u001b[0m\u001b[1;33m\u001b[0m\u001b[0m\n",
      "\u001b[1;32m~\\anaconda3\\envs\\travelers\\lib\\site-packages\\joblib\\_parallel_backends.py\u001b[0m in \u001b[0;36m__init__\u001b[1;34m(self, batch)\u001b[0m\n\u001b[0;32m    570\u001b[0m         \u001b[1;31m# Don't delay the application, to avoid keeping the input\u001b[0m\u001b[1;33m\u001b[0m\u001b[1;33m\u001b[0m\u001b[1;33m\u001b[0m\u001b[0m\n\u001b[0;32m    571\u001b[0m         \u001b[1;31m# arguments in memory\u001b[0m\u001b[1;33m\u001b[0m\u001b[1;33m\u001b[0m\u001b[1;33m\u001b[0m\u001b[0m\n\u001b[1;32m--> 572\u001b[1;33m         \u001b[0mself\u001b[0m\u001b[1;33m.\u001b[0m\u001b[0mresults\u001b[0m \u001b[1;33m=\u001b[0m \u001b[0mbatch\u001b[0m\u001b[1;33m(\u001b[0m\u001b[1;33m)\u001b[0m\u001b[1;33m\u001b[0m\u001b[1;33m\u001b[0m\u001b[0m\n\u001b[0m\u001b[0;32m    573\u001b[0m \u001b[1;33m\u001b[0m\u001b[0m\n\u001b[0;32m    574\u001b[0m     \u001b[1;32mdef\u001b[0m \u001b[0mget\u001b[0m\u001b[1;33m(\u001b[0m\u001b[0mself\u001b[0m\u001b[1;33m)\u001b[0m\u001b[1;33m:\u001b[0m\u001b[1;33m\u001b[0m\u001b[1;33m\u001b[0m\u001b[0m\n",
      "\u001b[1;32m~\\anaconda3\\envs\\travelers\\lib\\site-packages\\joblib\\parallel.py\u001b[0m in \u001b[0;36m__call__\u001b[1;34m(self)\u001b[0m\n\u001b[0;32m    261\u001b[0m         \u001b[1;32mwith\u001b[0m \u001b[0mparallel_backend\u001b[0m\u001b[1;33m(\u001b[0m\u001b[0mself\u001b[0m\u001b[1;33m.\u001b[0m\u001b[0m_backend\u001b[0m\u001b[1;33m,\u001b[0m \u001b[0mn_jobs\u001b[0m\u001b[1;33m=\u001b[0m\u001b[0mself\u001b[0m\u001b[1;33m.\u001b[0m\u001b[0m_n_jobs\u001b[0m\u001b[1;33m)\u001b[0m\u001b[1;33m:\u001b[0m\u001b[1;33m\u001b[0m\u001b[1;33m\u001b[0m\u001b[0m\n\u001b[0;32m    262\u001b[0m             return [func(*args, **kwargs)\n\u001b[1;32m--> 263\u001b[1;33m                     for func, args, kwargs in self.items]\n\u001b[0m\u001b[0;32m    264\u001b[0m \u001b[1;33m\u001b[0m\u001b[0m\n\u001b[0;32m    265\u001b[0m     \u001b[1;32mdef\u001b[0m \u001b[0m__reduce__\u001b[0m\u001b[1;33m(\u001b[0m\u001b[0mself\u001b[0m\u001b[1;33m)\u001b[0m\u001b[1;33m:\u001b[0m\u001b[1;33m\u001b[0m\u001b[1;33m\u001b[0m\u001b[0m\n",
      "\u001b[1;32m~\\anaconda3\\envs\\travelers\\lib\\site-packages\\joblib\\parallel.py\u001b[0m in \u001b[0;36m<listcomp>\u001b[1;34m(.0)\u001b[0m\n\u001b[0;32m    261\u001b[0m         \u001b[1;32mwith\u001b[0m \u001b[0mparallel_backend\u001b[0m\u001b[1;33m(\u001b[0m\u001b[0mself\u001b[0m\u001b[1;33m.\u001b[0m\u001b[0m_backend\u001b[0m\u001b[1;33m,\u001b[0m \u001b[0mn_jobs\u001b[0m\u001b[1;33m=\u001b[0m\u001b[0mself\u001b[0m\u001b[1;33m.\u001b[0m\u001b[0m_n_jobs\u001b[0m\u001b[1;33m)\u001b[0m\u001b[1;33m:\u001b[0m\u001b[1;33m\u001b[0m\u001b[1;33m\u001b[0m\u001b[0m\n\u001b[0;32m    262\u001b[0m             return [func(*args, **kwargs)\n\u001b[1;32m--> 263\u001b[1;33m                     for func, args, kwargs in self.items]\n\u001b[0m\u001b[0;32m    264\u001b[0m \u001b[1;33m\u001b[0m\u001b[0m\n\u001b[0;32m    265\u001b[0m     \u001b[1;32mdef\u001b[0m \u001b[0m__reduce__\u001b[0m\u001b[1;33m(\u001b[0m\u001b[0mself\u001b[0m\u001b[1;33m)\u001b[0m\u001b[1;33m:\u001b[0m\u001b[1;33m\u001b[0m\u001b[1;33m\u001b[0m\u001b[0m\n",
      "\u001b[1;32m~\\anaconda3\\envs\\travelers\\lib\\site-packages\\sklearn\\model_selection\\_validation.py\u001b[0m in \u001b[0;36m_fit_and_score\u001b[1;34m(estimator, X, y, scorer, train, test, verbose, parameters, fit_params, return_train_score, return_parameters, return_n_test_samples, return_times, return_estimator, error_score)\u001b[0m\n\u001b[0;32m    529\u001b[0m             \u001b[0mestimator\u001b[0m\u001b[1;33m.\u001b[0m\u001b[0mfit\u001b[0m\u001b[1;33m(\u001b[0m\u001b[0mX_train\u001b[0m\u001b[1;33m,\u001b[0m \u001b[1;33m**\u001b[0m\u001b[0mfit_params\u001b[0m\u001b[1;33m)\u001b[0m\u001b[1;33m\u001b[0m\u001b[1;33m\u001b[0m\u001b[0m\n\u001b[0;32m    530\u001b[0m         \u001b[1;32melse\u001b[0m\u001b[1;33m:\u001b[0m\u001b[1;33m\u001b[0m\u001b[1;33m\u001b[0m\u001b[0m\n\u001b[1;32m--> 531\u001b[1;33m             \u001b[0mestimator\u001b[0m\u001b[1;33m.\u001b[0m\u001b[0mfit\u001b[0m\u001b[1;33m(\u001b[0m\u001b[0mX_train\u001b[0m\u001b[1;33m,\u001b[0m \u001b[0my_train\u001b[0m\u001b[1;33m,\u001b[0m \u001b[1;33m**\u001b[0m\u001b[0mfit_params\u001b[0m\u001b[1;33m)\u001b[0m\u001b[1;33m\u001b[0m\u001b[1;33m\u001b[0m\u001b[0m\n\u001b[0m\u001b[0;32m    532\u001b[0m \u001b[1;33m\u001b[0m\u001b[0m\n\u001b[0;32m    533\u001b[0m     \u001b[1;32mexcept\u001b[0m \u001b[0mException\u001b[0m \u001b[1;32mas\u001b[0m \u001b[0me\u001b[0m\u001b[1;33m:\u001b[0m\u001b[1;33m\u001b[0m\u001b[1;33m\u001b[0m\u001b[0m\n",
      "\u001b[1;32m~\\anaconda3\\envs\\travelers\\lib\\site-packages\\lightgbm\\sklearn.py\u001b[0m in \u001b[0;36mfit\u001b[1;34m(self, X, y, sample_weight, init_score, eval_set, eval_names, eval_sample_weight, eval_init_score, eval_metric, early_stopping_rounds, verbose, feature_name, categorical_feature, callbacks, init_model)\u001b[0m\n\u001b[0;32m    777\u001b[0m                                        \u001b[0mverbose\u001b[0m\u001b[1;33m=\u001b[0m\u001b[0mverbose\u001b[0m\u001b[1;33m,\u001b[0m \u001b[0mfeature_name\u001b[0m\u001b[1;33m=\u001b[0m\u001b[0mfeature_name\u001b[0m\u001b[1;33m,\u001b[0m\u001b[1;33m\u001b[0m\u001b[1;33m\u001b[0m\u001b[0m\n\u001b[0;32m    778\u001b[0m                                        \u001b[0mcategorical_feature\u001b[0m\u001b[1;33m=\u001b[0m\u001b[0mcategorical_feature\u001b[0m\u001b[1;33m,\u001b[0m\u001b[1;33m\u001b[0m\u001b[1;33m\u001b[0m\u001b[0m\n\u001b[1;32m--> 779\u001b[1;33m                                        callbacks=callbacks, init_model=init_model)\n\u001b[0m\u001b[0;32m    780\u001b[0m         \u001b[1;32mreturn\u001b[0m \u001b[0mself\u001b[0m\u001b[1;33m\u001b[0m\u001b[1;33m\u001b[0m\u001b[0m\n\u001b[0;32m    781\u001b[0m \u001b[1;33m\u001b[0m\u001b[0m\n",
      "\u001b[1;32m~\\anaconda3\\envs\\travelers\\lib\\site-packages\\lightgbm\\sklearn.py\u001b[0m in \u001b[0;36mfit\u001b[1;34m(self, X, y, sample_weight, init_score, group, eval_set, eval_names, eval_sample_weight, eval_class_weight, eval_init_score, eval_group, eval_metric, early_stopping_rounds, verbose, feature_name, categorical_feature, callbacks, init_model)\u001b[0m\n\u001b[0;32m    615\u001b[0m                               \u001b[0mevals_result\u001b[0m\u001b[1;33m=\u001b[0m\u001b[0mevals_result\u001b[0m\u001b[1;33m,\u001b[0m \u001b[0mfobj\u001b[0m\u001b[1;33m=\u001b[0m\u001b[0mself\u001b[0m\u001b[1;33m.\u001b[0m\u001b[0m_fobj\u001b[0m\u001b[1;33m,\u001b[0m \u001b[0mfeval\u001b[0m\u001b[1;33m=\u001b[0m\u001b[0meval_metrics_callable\u001b[0m\u001b[1;33m,\u001b[0m\u001b[1;33m\u001b[0m\u001b[1;33m\u001b[0m\u001b[0m\n\u001b[0;32m    616\u001b[0m                               \u001b[0mverbose_eval\u001b[0m\u001b[1;33m=\u001b[0m\u001b[0mverbose\u001b[0m\u001b[1;33m,\u001b[0m \u001b[0mfeature_name\u001b[0m\u001b[1;33m=\u001b[0m\u001b[0mfeature_name\u001b[0m\u001b[1;33m,\u001b[0m\u001b[1;33m\u001b[0m\u001b[1;33m\u001b[0m\u001b[0m\n\u001b[1;32m--> 617\u001b[1;33m                               callbacks=callbacks, init_model=init_model)\n\u001b[0m\u001b[0;32m    618\u001b[0m \u001b[1;33m\u001b[0m\u001b[0m\n\u001b[0;32m    619\u001b[0m         \u001b[1;32mif\u001b[0m \u001b[0mevals_result\u001b[0m\u001b[1;33m:\u001b[0m\u001b[1;33m\u001b[0m\u001b[1;33m\u001b[0m\u001b[0m\n",
      "\u001b[1;32m~\\anaconda3\\envs\\travelers\\lib\\site-packages\\lightgbm\\engine.py\u001b[0m in \u001b[0;36mtrain\u001b[1;34m(params, train_set, num_boost_round, valid_sets, valid_names, fobj, feval, init_model, feature_name, categorical_feature, early_stopping_rounds, evals_result, verbose_eval, learning_rates, keep_training_booster, callbacks)\u001b[0m\n\u001b[0;32m    250\u001b[0m                                     evaluation_result_list=None))\n\u001b[0;32m    251\u001b[0m \u001b[1;33m\u001b[0m\u001b[0m\n\u001b[1;32m--> 252\u001b[1;33m         \u001b[0mbooster\u001b[0m\u001b[1;33m.\u001b[0m\u001b[0mupdate\u001b[0m\u001b[1;33m(\u001b[0m\u001b[0mfobj\u001b[0m\u001b[1;33m=\u001b[0m\u001b[0mfobj\u001b[0m\u001b[1;33m)\u001b[0m\u001b[1;33m\u001b[0m\u001b[1;33m\u001b[0m\u001b[0m\n\u001b[0m\u001b[0;32m    253\u001b[0m \u001b[1;33m\u001b[0m\u001b[0m\n\u001b[0;32m    254\u001b[0m         \u001b[0mevaluation_result_list\u001b[0m \u001b[1;33m=\u001b[0m \u001b[1;33m[\u001b[0m\u001b[1;33m]\u001b[0m\u001b[1;33m\u001b[0m\u001b[1;33m\u001b[0m\u001b[0m\n",
      "\u001b[1;32m~\\anaconda3\\envs\\travelers\\lib\\site-packages\\lightgbm\\basic.py\u001b[0m in \u001b[0;36mupdate\u001b[1;34m(self, train_set, fobj)\u001b[0m\n\u001b[0;32m   2440\u001b[0m             _safe_call(_LIB.LGBM_BoosterUpdateOneIter(\n\u001b[0;32m   2441\u001b[0m                 \u001b[0mself\u001b[0m\u001b[1;33m.\u001b[0m\u001b[0mhandle\u001b[0m\u001b[1;33m,\u001b[0m\u001b[1;33m\u001b[0m\u001b[1;33m\u001b[0m\u001b[0m\n\u001b[1;32m-> 2442\u001b[1;33m                 ctypes.byref(is_finished)))\n\u001b[0m\u001b[0;32m   2443\u001b[0m             \u001b[0mself\u001b[0m\u001b[1;33m.\u001b[0m\u001b[0m__is_predicted_cur_iter\u001b[0m \u001b[1;33m=\u001b[0m \u001b[1;33m[\u001b[0m\u001b[1;32mFalse\u001b[0m \u001b[1;32mfor\u001b[0m \u001b[0m_\u001b[0m \u001b[1;32min\u001b[0m \u001b[0mrange_\u001b[0m\u001b[1;33m(\u001b[0m\u001b[0mself\u001b[0m\u001b[1;33m.\u001b[0m\u001b[0m__num_dataset\u001b[0m\u001b[1;33m)\u001b[0m\u001b[1;33m]\u001b[0m\u001b[1;33m\u001b[0m\u001b[1;33m\u001b[0m\u001b[0m\n\u001b[0;32m   2444\u001b[0m             \u001b[1;32mreturn\u001b[0m \u001b[0mis_finished\u001b[0m\u001b[1;33m.\u001b[0m\u001b[0mvalue\u001b[0m \u001b[1;33m==\u001b[0m \u001b[1;36m1\u001b[0m\u001b[1;33m\u001b[0m\u001b[1;33m\u001b[0m\u001b[0m\n",
      "\u001b[1;31mKeyboardInterrupt\u001b[0m: "
     ]
    }
   ],
   "source": [
    "# LGBM Predictions\n",
    "params = {'n_estimators': Integer(100, 4000),\n",
    "          'learning_rate': Real(1e-4, 1.0, 'uniform'),\n",
    "          'num_leaves': Integer(2, 31),\n",
    "          'min_split_gain': Real(0.0, 200.0, 'uniform'),\n",
    "          'subsample': Real(0.67, 1.0, 'uniform'),\n",
    "          'cat_smooth': Real(0.0, 20.0, 'uniform'),\n",
    "          'reg_lambda': Real(0.0, 10.0, 'uniform')}\n",
    "lgbm = LGBMRegressor(objective='tweedie',\n",
    "                     subsample_freq=1,\n",
    "                     mc=[1,0,1,0,0,-1],\n",
    "                     mc_method='advanced',\n",
    "                     tweedie_variance_power=1.5,\n",
    "                     n_jobs=-1)\n",
    "lgbm_opt = BayesSearchCV(lgbm,\n",
    "                         params,\n",
    "                         cv=20,\n",
    "                         fit_params={'sample_weight': y['exposure']},\n",
    "                         n_iter=32,\n",
    "                         n_jobs=1,\n",
    "                         verbose=1)\n",
    "lgbm_opt.fit(X[boost_cols], y['pure_premium'])\n",
    "print(lgbm_opt.best_params_)\n",
    "cv_preds['lgbm'] = get_cv_preds(lgbm_opt.best_estimator_,\n",
    "                              X[boost_cols],\n",
    "                              y['pure_premium'],\n",
    "                              {'sample_weight': y['exposure']})\n",
    "print(gini(y['claim_cost'], cv_preds['lgbm'] * y['exposure']))\n",
    "print(np.mean((y['claim_cost'] - lgbm_opt.best_estimator_.predict(X[boost_cols]) * y['exposure']) ** 2))\n",
    "print(np.mean((y['claim_cost'] - cv_preds['lgbm'] * y['exposure']) ** 2))\n",
    "\"\"\"\n",
    "OrderedDict([('cat_smooth', 4.989590855024792),\n",
    "('learning_rate', 0.18989742751933805),\n",
    "('min_split_gain', 173.54262057980802),\n",
    "('n_estimators', 337),\n",
    "('num_leaves', 5),\n",
    "('reg_lambda', 1.1525173237675603),\n",
    "('subsample', 0.7700700654946343)])\n",
    "\"\"\""
   ]
  },
  {
   "cell_type": "code",
   "execution_count": 108,
   "metadata": {},
   "outputs": [
    {
     "name": "stdout",
     "output_type": "stream",
     "text": [
      "0.1755404054149768\n",
      "1259327.179336638\n",
      "1261881.8332869804\n"
     ]
    }
   ],
   "source": [
    "# LGBM\n",
    "lgbm = LGBMRegressor(n_estimators=500,\n",
    "                   learning_rate=0.001,\n",
    "                   num_leaves=21,\n",
    "                   subsample=0.8, \n",
    "                   subsample_freq=1,\n",
    "                   min_split_gain=200.0,\n",
    "                   objective='tweedie',\n",
    "                   mc=[1,0,1,0,0,-1],\n",
    "                   mc_method='advanced',\n",
    "                   tweedie_variance_power=1.5,\n",
    "                   n_jobs=-1)\n",
    "cv_preds['lgbm'] = get_cv_preds(lgbm,\n",
    "                                X[boost_cols],\n",
    "                                y['pure_premium'],\n",
    "                                {'sample_weight': y['exposure']})\n",
    "lgbm.fit(X[boost_cols], y['pure_premium'], sample_weight=y['exposure'])\n",
    "print(gini(y['claim_cost'], cv_preds['lgbm'] * y['exposure']))\n",
    "print(np.mean((y['claim_cost'] - lgbm.predict(X[boost_cols]) * y['exposure']) ** 2))\n",
    "print(np.mean((y['claim_cost'] - cv_preds['lgbm'] * y['exposure']) ** 2))"
   ]
  },
  {
   "cell_type": "code",
   "execution_count": 300,
   "metadata": {},
   "outputs": [
    {
     "name": "stdout",
     "output_type": "stream",
     "text": [
      "OrderedDict([('xgbregressor__gamma', 81.42726063722864), ('xgbregressor__lambda', 6.914089560343982), ('xgbregressor__learning_rate', 0.23171767089055817), ('xgbregressor__max_depth', 1), ('xgbregressor__n_estimators', 187), ('xgbregressor__subsample', 0.732506271431559)])\n",
      "0.18118803748764206\n",
      "1258826.3660777225\n",
      "1264360.6711601466\n"
     ]
    },
    {
     "data": {
      "text/plain": [
       "\"\\nOrderedDict([('xgbregressor__gamma', 81.42726063722864),\\n('xgbregressor__lambda', 6.914089560343982),\\n('xgbregressor__learning_rate', 0.23171767089055817),\\n('xgbregressor__max_depth', 1),\\n('xgbregressor__n_estimators', 187),\\n('xgbregressor__subsample', 0.732506271431559)])\\n\""
      ]
     },
     "execution_count": 300,
     "metadata": {},
     "output_type": "execute_result"
    }
   ],
   "source": [
    "# XGBoost predictions\n",
    "\"\"\"\n",
    "params = {'xgbregressor__n_estimators': Integer(100, 700),\n",
    "          'xgbregressor__learning_rate': Real(1e-4, 1.0, 'uniform'),\n",
    "          'xgbregressor__max_depth': Integer(1, 6),\n",
    "          'xgbregressor__gamma': Real(0.0, 100.0, 'uniform'),\n",
    "          'xgbregressor__subsample': Real(0.7, 1.0, 'uniform'),\n",
    "          'xgbregressor__lambda': Real(0.0, 10.0, 'uniform')}\n",
    "xgb = make_pipeline(ColumnTransformer([('one_hot', OneHotEncoder(drop='first', sparse=False), get_cats)], remainder='passthrough'),\n",
    "                    XGBRegressor(n_estimators=500,\n",
    "                                 learning_rate=0.01,\n",
    "                                 max_depth=4,\n",
    "                                 subsample=0.85, \n",
    "                                 gamma=20.0,\n",
    "                                 objective='reg:tweedie',\n",
    "                                 tree_method='hist',\n",
    "                                 tweedie_variance_power=1.8,\n",
    "                                 n_jobs=-1))\n",
    "xgb_opt = BayesSearchCV(xgb,\n",
    "                         params,\n",
    "                         cv=20,\n",
    "                         fit_params={'xgbregressor__sample_weight': y['exposure']},\n",
    "                         n_iter=32,\n",
    "                         n_jobs=1,\n",
    "                         verbose=3)\n",
    "xgb_opt.fit(X.drop('veh_body2', axis=1), y['pure_premium'])\n",
    "\"\"\"\n",
    "print(xgb_opt.best_params_)\n",
    "cv_preds['xgb'] = get_cv_preds(xgb_opt.best_estimator_,\n",
    "                               X.drop('veh_body2', axis=1),\n",
    "                               y['pure_premium'],\n",
    "                               {'xgbregressor__sample_weight': y['exposure']})\n",
    "print(gini(y['claim_cost'], cv_preds['xgb'] * y['exposure']))\n",
    "print(np.mean((y['claim_cost'] - xgb_opt.best_estimator_.predict(X.drop('veh_body2', axis=1)) * y['exposure']) ** 2))\n",
    "print(np.mean((y['claim_cost'] - cv_preds['xgb'] * y['exposure']) ** 2))\n",
    "\"\"\"\n",
    "OrderedDict([('xgbregressor__gamma', 81.42726063722864),\n",
    "('xgbregressor__lambda', 6.914089560343982),\n",
    "('xgbregressor__learning_rate', 0.23171767089055817),\n",
    "('xgbregressor__max_depth', 1),\n",
    "('xgbregressor__n_estimators', 187),\n",
    "('xgbregressor__subsample', 0.732506271431559)])\n",
    "\"\"\""
   ]
  },
  {
   "cell_type": "code",
   "execution_count": 112,
   "metadata": {},
   "outputs": [
    {
     "name": "stdout",
     "output_type": "stream",
     "text": [
      "0.18624161215091964\n",
      "1258937.9284158158\n",
      "1261735.1849992764\n"
     ]
    }
   ],
   "source": [
    "# XGBoost\n",
    "\"\"\"\n",
    "OrderedDict([('xgbregressor__gamma', 81.42726063722864),\n",
    "('xgbregressor__lambda', 6.914089560343982),\n",
    "('xgbregressor__learning_rate', 0.23171767089055817),\n",
    "('xgbregressor__max_depth', 1),\n",
    "('xgbregressor__n_estimators', 187),\n",
    "('xgbregressor__subsample', 0.732506271431559)])\n",
    "\"\"\"\n",
    "xgb = make_pipeline(ColumnTransformer([('one_hot', OneHotEncoder(drop='first', sparse=False), get_cats)], remainder='passthrough'),\n",
    "                    XGBRegressor(n_estimators=500,\n",
    "                                 learning_rate=0.01,\n",
    "                                 max_depth=2,\n",
    "                                 subsample=0.8, \n",
    "                                 gamma=80.0,\n",
    "                                 reg_lambda=7.0,\n",
    "                                 objective='reg:tweedie',\n",
    "                                 tree_method='hist',\n",
    "                                 tweedie_variance_power=1.5,\n",
    "                                 n_jobs=-1))\n",
    "cv_preds['xgb'] = get_cv_preds(xgb,\n",
    "                                X[boost_cols],\n",
    "                                y['pure_premium'],\n",
    "                                {'xgbregressor__sample_weight': y['exposure']})\n",
    "xgb.fit(X[boost_cols], y['pure_premium'], xgbregressor__sample_weight=y['exposure'])\n",
    "print(gini(y['claim_cost'], cv_preds['xgb'] * y['exposure']))\n",
    "print(np.mean((y['claim_cost'] - xgb.predict(X[boost_cols]) * y['exposure']) ** 2))\n",
    "print(np.mean((y['claim_cost'] - cv_preds['xgb'] * y['exposure']) ** 2))"
   ]
  },
  {
   "cell_type": "code",
   "execution_count": 113,
   "metadata": {},
   "outputs": [
    {
     "name": "stdout",
     "output_type": "stream",
     "text": [
      "0.19105712817784895\n",
      "1261118.6222208783\n",
      "1263159.5832020189\n"
     ]
    }
   ],
   "source": [
    "# RidgeCV\n",
    "ridge_mse = make_pipeline(ColumnTransformer([('one_hot', OneHotEncoder(drop='first', sparse=False), get_cats)], remainder='passthrough'),\n",
    "                        StandardScaler(),\n",
    "                        RidgeCV(alphas=np.linspace(0.1, 10.0, 10)))\n",
    "cv_preds['ridge_mse'] = get_cv_preds(ridge_mse,\n",
    "                                      X[lin_cols],\n",
    "                                      y['pure_premium'],\n",
    "                                      {'ridgecv__sample_weight': y['exposure']})\n",
    "ridge_mse.fit(X[lin_cols], y['pure_premium'], ridgecv__sample_weight=y['exposure'])\n",
    "print(gini(y['claim_cost'], cv_preds['ridge_mse'] * y['exposure']))\n",
    "print(np.mean((y['claim_cost'] - ridge_mse.predict(X[lin_cols]) * y['exposure']) ** 2))\n",
    "print(np.mean((y['claim_cost'] - cv_preds['ridge_mse'] * y['exposure']) ** 2))"
   ]
  },
  {
   "cell_type": "code",
   "execution_count": 115,
   "metadata": {},
   "outputs": [
    {
     "name": "stdout",
     "output_type": "stream",
     "text": [
      "0.17545114756130437\n",
      "1258817.8480753663\n",
      "1262191.7728727153\n"
     ]
    }
   ],
   "source": [
    "# What if we train on MSE?\n",
    "rf_mse = LGBMRegressor(n_estimators=1000,\n",
    "                       learning_rate=1.0,\n",
    "                       num_leaves=21,\n",
    "                       colsample_bytree=5 / 7,\n",
    "                       subsample=0.67, \n",
    "                       subsample_freq=1,\n",
    "                       min_split_gain=200.0,\n",
    "                       boosting_type='rf',\n",
    "                       extra_trees=True,\n",
    "                       mc=[1,0,1,0,0,-1],\n",
    "                       mc_method='advanced',\n",
    "                       n_jobs=-1)\n",
    "cv_preds['rf_mse'] = get_cv_preds(rf_mse,\n",
    "                                  X[boost_cols],\n",
    "                                  y['pure_premium'],\n",
    "                                  {'sample_weight': y['exposure']})\n",
    "rf_mse.fit(X[boost_cols], y['pure_premium'], sample_weight=y['exposure'])\n",
    "print(gini(y['claim_cost'], cv_preds['rf_mse'] * y['exposure']))\n",
    "print(np.mean((y['claim_cost'] - rf_mse.predict(X[boost_cols]) * y['exposure']) ** 2))\n",
    "print(np.mean((y['claim_cost'] - cv_preds['rf_mse'] * y['exposure']) ** 2))"
   ]
  },
  {
   "cell_type": "code",
   "execution_count": 116,
   "metadata": {},
   "outputs": [
    {
     "name": "stdout",
     "output_type": "stream",
     "text": [
      "0.1768447155660717\n",
      "1256180.392298421\n",
      "1265432.692166518\n"
     ]
    }
   ],
   "source": [
    "# What if we train on MSE?\n",
    "lgbm_mse = LGBMRegressor(n_estimators=1000,\n",
    "                         learning_rate=0.001,\n",
    "                         num_leaves=16,\n",
    "                         min_split_gain=150.0,\n",
    "                         subsample=0.85, \n",
    "                         subsample_freq=1,\n",
    "                         mc=[1,0,1,0,0,-1],\n",
    "                         mc_method='advanced',\n",
    "                         n_jobs=-1)\n",
    "cv_preds['lgbm_mse'] = get_cv_preds(lgbm_mse,\n",
    "                                      X[boost_cols],\n",
    "                                      y['pure_premium'],\n",
    "                                      {'sample_weight': y['exposure']})\n",
    "lgbm_mse.fit(X[boost_cols], y['pure_premium'], sample_weight=y['exposure'])\n",
    "print(gini(y['claim_cost'], cv_preds['lgbm_mse'] * y['exposure']))\n",
    "print(np.mean((y['claim_cost'] - lgbm_mse.predict(X[boost_cols]) * y['exposure']) ** 2))\n",
    "print(np.mean((y['claim_cost'] - cv_preds['lgbm_mse'] * y['exposure']) ** 2))"
   ]
  },
  {
   "cell_type": "code",
   "execution_count": 160,
   "metadata": {},
   "outputs": [
    {
     "name": "stdout",
     "output_type": "stream",
     "text": [
      "          tweedie          rf        lgbm         xgb      rf_mse    lgbm_mse\n",
      "0      336.750562  299.962558  290.142491  249.236115  318.483143  285.673174\n",
      "1      152.895847  230.705655  241.213035  183.236786  250.486185  230.406379\n",
      "2      221.184245  248.120917  257.414456  192.228836  253.450034  235.910597\n",
      "3      326.014412  277.075813  294.367358  247.181702  274.244645  292.686789\n",
      "4      367.770741  327.497410  350.037530  341.483765  345.888459  365.413267\n",
      "...           ...         ...         ...         ...         ...         ...\n",
      "22605  243.964834  255.585781  257.466061  218.748932  259.903041  244.357273\n",
      "22606  196.146764  237.780489  265.917521  199.760025  238.371807  249.274536\n",
      "22607  350.570785  325.130765  326.908248  305.870453  343.143272  346.722931\n",
      "22608  174.623498  211.801413  207.467825  134.736725  224.099381  204.545074\n",
      "22609  221.898951  252.002396  275.880237  216.298599  255.407332  266.698056\n",
      "\n",
      "[22610 rows x 6 columns]\n"
     ]
    }
   ],
   "source": [
    "# Creating our stacked data\n",
    "X_cv = pd.DataFrame(cv_preds)[[#'poisson',\n",
    "                                #'rf_poisson',\n",
    "                                #'lgbm_poisson',\n",
    "                                #'xgb_poisson',\n",
    "                                'tweedie',\n",
    "                                'rf',\n",
    "                                'lgbm',\n",
    "                                'xgb',\n",
    "                                #'ridge_mse',\n",
    "                                'rf_mse',\n",
    "                                'lgbm_mse']]\n",
    "#X_cv = np.log(df_cv)\n",
    "#X_cv = pd.concat([X, df_cv], axis=1)[lin_cols + df_cv.columns.tolist()]\n",
    "print(X_cv)"
   ]
  },
  {
   "cell_type": "code",
   "execution_count": 161,
   "metadata": {},
   "outputs": [
    {
     "name": "stdout",
     "output_type": "stream",
     "text": [
      "0.10375925429717371\n"
     ]
    }
   ],
   "source": [
    "# How well does just averaging predictions work?\n",
    "mean_preds = pd.DataFrame(cv_preds)[[#'poisson',\n",
    "                                #'rf_poisson',\n",
    "                                #'lgbm_poisson',\n",
    "                                #'xgb_poisson',\n",
    "                                'tweedie',\n",
    "                                'rf',\n",
    "                                'lgbm',\n",
    "                                'xgb',\n",
    "                                #'ridge_mse',\n",
    "                                'rf_mse',\n",
    "                                'lgbm_mse']].mean(axis=1)\n",
    "print(gini(y['claim_cost'], mean_preds * y['exposure']))"
   ]
  },
  {
   "cell_type": "markdown",
   "metadata": {},
   "source": [
    "# Stacking Models"
   ]
  },
  {
   "cell_type": "code",
   "execution_count": 163,
   "metadata": {
    "scrolled": true
   },
   "outputs": [
    {
     "name": "stdout",
     "output_type": "stream",
     "text": [
      "Fitting 30 folds for each of 1 candidates, totalling 30 fits\n"
     ]
    },
    {
     "name": "stderr",
     "output_type": "stream",
     "text": [
      "[Parallel(n_jobs=-1)]: Using backend LokyBackend with 16 concurrent workers.\n",
      "[Parallel(n_jobs=-1)]: Done  10 out of  30 | elapsed:    0.1s remaining:    0.3s\n",
      "[Parallel(n_jobs=-1)]: Done  21 out of  30 | elapsed:    0.2s remaining:    0.0s\n",
      "[Parallel(n_jobs=-1)]: Done  30 out of  30 | elapsed:    0.3s finished\n",
      "[Parallel(n_jobs=-1)]: Using backend LokyBackend with 16 concurrent workers.\n"
     ]
    },
    {
     "name": "stdout",
     "output_type": "stream",
     "text": [
      "Fitting 30 folds for each of 1 candidates, totalling 30 fits\n"
     ]
    },
    {
     "name": "stderr",
     "output_type": "stream",
     "text": [
      "[Parallel(n_jobs=-1)]: Done  10 out of  30 | elapsed:    0.0s remaining:    0.2s\n",
      "[Parallel(n_jobs=-1)]: Done  21 out of  30 | elapsed:    0.1s remaining:    0.0s\n",
      "[Parallel(n_jobs=-1)]: Done  30 out of  30 | elapsed:    0.2s finished\n",
      "[Parallel(n_jobs=-1)]: Using backend LokyBackend with 16 concurrent workers.\n",
      "[Parallel(n_jobs=-1)]: Done  10 out of  30 | elapsed:    0.1s remaining:    0.2s\n"
     ]
    },
    {
     "name": "stdout",
     "output_type": "stream",
     "text": [
      "Fitting 30 folds for each of 1 candidates, totalling 30 fits\n"
     ]
    },
    {
     "name": "stderr",
     "output_type": "stream",
     "text": [
      "[Parallel(n_jobs=-1)]: Done  21 out of  30 | elapsed:    0.2s remaining:    0.0s\n",
      "[Parallel(n_jobs=-1)]: Done  30 out of  30 | elapsed:    0.3s finished\n",
      "[Parallel(n_jobs=-1)]: Using backend LokyBackend with 16 concurrent workers.\n"
     ]
    },
    {
     "name": "stdout",
     "output_type": "stream",
     "text": [
      "Fitting 30 folds for each of 1 candidates, totalling 30 fits\n"
     ]
    },
    {
     "name": "stderr",
     "output_type": "stream",
     "text": [
      "[Parallel(n_jobs=-1)]: Done  10 out of  30 | elapsed:    0.1s remaining:    0.2s\n",
      "[Parallel(n_jobs=-1)]: Done  21 out of  30 | elapsed:    0.2s remaining:    0.0s\n",
      "[Parallel(n_jobs=-1)]: Done  30 out of  30 | elapsed:    0.3s finished\n",
      "[Parallel(n_jobs=-1)]: Using backend LokyBackend with 16 concurrent workers.\n",
      "[Parallel(n_jobs=-1)]: Done  10 out of  30 | elapsed:    0.1s remaining:    0.2s\n"
     ]
    },
    {
     "name": "stdout",
     "output_type": "stream",
     "text": [
      "Fitting 30 folds for each of 1 candidates, totalling 30 fits\n"
     ]
    },
    {
     "name": "stderr",
     "output_type": "stream",
     "text": [
      "[Parallel(n_jobs=-1)]: Done  21 out of  30 | elapsed:    0.2s remaining:    0.0s\n",
      "[Parallel(n_jobs=-1)]: Done  30 out of  30 | elapsed:    0.3s finished\n",
      "[Parallel(n_jobs=-1)]: Using backend LokyBackend with 16 concurrent workers.\n"
     ]
    },
    {
     "name": "stdout",
     "output_type": "stream",
     "text": [
      "Fitting 30 folds for each of 1 candidates, totalling 30 fits\n"
     ]
    },
    {
     "name": "stderr",
     "output_type": "stream",
     "text": [
      "[Parallel(n_jobs=-1)]: Done  10 out of  30 | elapsed:    0.1s remaining:    0.2s\n",
      "[Parallel(n_jobs=-1)]: Done  21 out of  30 | elapsed:    0.2s remaining:    0.0s\n",
      "[Parallel(n_jobs=-1)]: Done  30 out of  30 | elapsed:    0.3s finished\n",
      "[Parallel(n_jobs=-1)]: Using backend LokyBackend with 16 concurrent workers.\n",
      "[Parallel(n_jobs=-1)]: Done  10 out of  30 | elapsed:    0.1s remaining:    0.2s\n"
     ]
    },
    {
     "name": "stdout",
     "output_type": "stream",
     "text": [
      "Fitting 30 folds for each of 1 candidates, totalling 30 fits\n"
     ]
    },
    {
     "name": "stderr",
     "output_type": "stream",
     "text": [
      "[Parallel(n_jobs=-1)]: Done  21 out of  30 | elapsed:    0.2s remaining:    0.0s\n",
      "[Parallel(n_jobs=-1)]: Done  30 out of  30 | elapsed:    0.3s finished\n",
      "[Parallel(n_jobs=-1)]: Using backend LokyBackend with 16 concurrent workers.\n"
     ]
    },
    {
     "name": "stdout",
     "output_type": "stream",
     "text": [
      "Fitting 30 folds for each of 1 candidates, totalling 30 fits\n"
     ]
    },
    {
     "name": "stderr",
     "output_type": "stream",
     "text": [
      "[Parallel(n_jobs=-1)]: Done  10 out of  30 | elapsed:    0.1s remaining:    0.2s\n",
      "[Parallel(n_jobs=-1)]: Done  21 out of  30 | elapsed:    0.2s remaining:    0.0s\n",
      "[Parallel(n_jobs=-1)]: Done  30 out of  30 | elapsed:    0.2s finished\n",
      "[Parallel(n_jobs=-1)]: Using backend LokyBackend with 16 concurrent workers.\n"
     ]
    },
    {
     "name": "stdout",
     "output_type": "stream",
     "text": [
      "Fitting 30 folds for each of 1 candidates, totalling 30 fits\n"
     ]
    },
    {
     "name": "stderr",
     "output_type": "stream",
     "text": [
      "[Parallel(n_jobs=-1)]: Done  10 out of  30 | elapsed:    0.1s remaining:    0.2s\n",
      "[Parallel(n_jobs=-1)]: Done  21 out of  30 | elapsed:    0.2s remaining:    0.0s\n",
      "[Parallel(n_jobs=-1)]: Done  30 out of  30 | elapsed:    0.2s finished\n"
     ]
    },
    {
     "name": "stdout",
     "output_type": "stream",
     "text": [
      "Fitting 30 folds for each of 1 candidates, totalling 30 fits\n"
     ]
    },
    {
     "name": "stderr",
     "output_type": "stream",
     "text": [
      "[Parallel(n_jobs=-1)]: Using backend LokyBackend with 16 concurrent workers.\n",
      "[Parallel(n_jobs=-1)]: Done  10 out of  30 | elapsed:    0.1s remaining:    0.4s\n",
      "[Parallel(n_jobs=-1)]: Done  21 out of  30 | elapsed:    0.3s remaining:    0.1s\n",
      "[Parallel(n_jobs=-1)]: Done  30 out of  30 | elapsed:    0.4s finished\n"
     ]
    },
    {
     "name": "stdout",
     "output_type": "stream",
     "text": [
      "Fitting 30 folds for each of 1 candidates, totalling 30 fits\n"
     ]
    },
    {
     "name": "stderr",
     "output_type": "stream",
     "text": [
      "[Parallel(n_jobs=-1)]: Using backend LokyBackend with 16 concurrent workers.\n",
      "[Parallel(n_jobs=-1)]: Done  10 out of  30 | elapsed:    0.0s remaining:    0.2s\n",
      "[Parallel(n_jobs=-1)]: Done  21 out of  30 | elapsed:    0.2s remaining:    0.0s\n",
      "[Parallel(n_jobs=-1)]: Done  30 out of  30 | elapsed:    0.2s finished\n"
     ]
    },
    {
     "name": "stdout",
     "output_type": "stream",
     "text": [
      "Fitting 30 folds for each of 1 candidates, totalling 30 fits\n"
     ]
    },
    {
     "name": "stderr",
     "output_type": "stream",
     "text": [
      "[Parallel(n_jobs=-1)]: Using backend LokyBackend with 16 concurrent workers.\n",
      "[Parallel(n_jobs=-1)]: Done  10 out of  30 | elapsed:    0.1s remaining:    0.3s\n",
      "[Parallel(n_jobs=-1)]: Done  21 out of  30 | elapsed:    0.2s remaining:    0.0s\n",
      "[Parallel(n_jobs=-1)]: Done  30 out of  30 | elapsed:    0.3s finished\n"
     ]
    },
    {
     "name": "stdout",
     "output_type": "stream",
     "text": [
      "Fitting 30 folds for each of 1 candidates, totalling 30 fits\n"
     ]
    },
    {
     "name": "stderr",
     "output_type": "stream",
     "text": [
      "[Parallel(n_jobs=-1)]: Using backend LokyBackend with 16 concurrent workers.\n",
      "[Parallel(n_jobs=-1)]: Done  10 out of  30 | elapsed:    0.1s remaining:    0.2s\n",
      "[Parallel(n_jobs=-1)]: Done  21 out of  30 | elapsed:    0.2s remaining:    0.0s\n",
      "[Parallel(n_jobs=-1)]: Done  30 out of  30 | elapsed:    0.2s finished\n"
     ]
    },
    {
     "name": "stdout",
     "output_type": "stream",
     "text": [
      "Fitting 30 folds for each of 1 candidates, totalling 30 fits\n"
     ]
    },
    {
     "name": "stderr",
     "output_type": "stream",
     "text": [
      "[Parallel(n_jobs=-1)]: Using backend LokyBackend with 16 concurrent workers.\n",
      "[Parallel(n_jobs=-1)]: Done  10 out of  30 | elapsed:    0.2s remaining:    0.5s\n",
      "[Parallel(n_jobs=-1)]: Done  21 out of  30 | elapsed:    0.3s remaining:    0.1s\n",
      "[Parallel(n_jobs=-1)]: Done  30 out of  30 | elapsed:    0.4s finished\n",
      "C:\\Users\\gursk\\anaconda3\\envs\\travelers\\lib\\site-packages\\skopt\\optimizer\\optimizer.py:449: UserWarning: The objective has been evaluated at this point before.\n",
      "  warnings.warn(\"The objective has been evaluated \"\n",
      "[Parallel(n_jobs=-1)]: Using backend LokyBackend with 16 concurrent workers.\n"
     ]
    },
    {
     "name": "stdout",
     "output_type": "stream",
     "text": [
      "Fitting 30 folds for each of 1 candidates, totalling 30 fits\n"
     ]
    },
    {
     "name": "stderr",
     "output_type": "stream",
     "text": [
      "[Parallel(n_jobs=-1)]: Done  10 out of  30 | elapsed:    0.1s remaining:    0.4s\n",
      "[Parallel(n_jobs=-1)]: Done  21 out of  30 | elapsed:    0.3s remaining:    0.1s\n",
      "[Parallel(n_jobs=-1)]: Done  30 out of  30 | elapsed:    0.4s finished\n"
     ]
    },
    {
     "name": "stdout",
     "output_type": "stream",
     "text": [
      "Fitting 30 folds for each of 1 candidates, totalling 30 fits\n"
     ]
    },
    {
     "name": "stderr",
     "output_type": "stream",
     "text": [
      "[Parallel(n_jobs=-1)]: Using backend LokyBackend with 16 concurrent workers.\n",
      "[Parallel(n_jobs=-1)]: Done  10 out of  30 | elapsed:    0.1s remaining:    0.3s\n",
      "[Parallel(n_jobs=-1)]: Done  21 out of  30 | elapsed:    0.2s remaining:    0.0s\n",
      "[Parallel(n_jobs=-1)]: Done  30 out of  30 | elapsed:    0.3s finished\n"
     ]
    },
    {
     "name": "stdout",
     "output_type": "stream",
     "text": [
      "Fitting 30 folds for each of 1 candidates, totalling 30 fits\n"
     ]
    },
    {
     "name": "stderr",
     "output_type": "stream",
     "text": [
      "[Parallel(n_jobs=-1)]: Using backend LokyBackend with 16 concurrent workers.\n",
      "[Parallel(n_jobs=-1)]: Done  10 out of  30 | elapsed:    0.1s remaining:    0.3s\n",
      "[Parallel(n_jobs=-1)]: Done  21 out of  30 | elapsed:    0.2s remaining:    0.0s\n",
      "[Parallel(n_jobs=-1)]: Done  30 out of  30 | elapsed:    0.3s finished\n",
      "C:\\Users\\gursk\\anaconda3\\envs\\travelers\\lib\\site-packages\\skopt\\optimizer\\optimizer.py:449: UserWarning: The objective has been evaluated at this point before.\n",
      "  warnings.warn(\"The objective has been evaluated \"\n",
      "[Parallel(n_jobs=-1)]: Using backend LokyBackend with 16 concurrent workers.\n"
     ]
    },
    {
     "name": "stdout",
     "output_type": "stream",
     "text": [
      "Fitting 30 folds for each of 1 candidates, totalling 30 fits\n"
     ]
    },
    {
     "name": "stderr",
     "output_type": "stream",
     "text": [
      "[Parallel(n_jobs=-1)]: Done  10 out of  30 | elapsed:    0.2s remaining:    0.4s\n",
      "[Parallel(n_jobs=-1)]: Done  21 out of  30 | elapsed:    0.3s remaining:    0.1s\n",
      "[Parallel(n_jobs=-1)]: Done  30 out of  30 | elapsed:    0.4s finished\n"
     ]
    },
    {
     "name": "stdout",
     "output_type": "stream",
     "text": [
      "Fitting 30 folds for each of 1 candidates, totalling 30 fits\n"
     ]
    },
    {
     "name": "stderr",
     "output_type": "stream",
     "text": [
      "[Parallel(n_jobs=-1)]: Using backend LokyBackend with 16 concurrent workers.\n",
      "[Parallel(n_jobs=-1)]: Done  10 out of  30 | elapsed:    0.1s remaining:    0.3s\n",
      "[Parallel(n_jobs=-1)]: Done  21 out of  30 | elapsed:    0.2s remaining:    0.0s\n",
      "[Parallel(n_jobs=-1)]: Done  30 out of  30 | elapsed:    0.3s finished\n"
     ]
    },
    {
     "name": "stdout",
     "output_type": "stream",
     "text": [
      "Fitting 30 folds for each of 1 candidates, totalling 30 fits\n"
     ]
    },
    {
     "name": "stderr",
     "output_type": "stream",
     "text": [
      "[Parallel(n_jobs=-1)]: Using backend LokyBackend with 16 concurrent workers.\n",
      "[Parallel(n_jobs=-1)]: Done  10 out of  30 | elapsed:    0.1s remaining:    0.3s\n",
      "[Parallel(n_jobs=-1)]: Done  21 out of  30 | elapsed:    0.2s remaining:    0.0s\n",
      "[Parallel(n_jobs=-1)]: Done  30 out of  30 | elapsed:    0.3s finished\n"
     ]
    },
    {
     "name": "stdout",
     "output_type": "stream",
     "text": [
      "Fitting 30 folds for each of 1 candidates, totalling 30 fits\n"
     ]
    },
    {
     "name": "stderr",
     "output_type": "stream",
     "text": [
      "[Parallel(n_jobs=-1)]: Using backend LokyBackend with 16 concurrent workers.\n",
      "[Parallel(n_jobs=-1)]: Done  10 out of  30 | elapsed:    0.1s remaining:    0.2s\n",
      "[Parallel(n_jobs=-1)]: Done  21 out of  30 | elapsed:    0.2s remaining:    0.0s\n",
      "[Parallel(n_jobs=-1)]: Done  30 out of  30 | elapsed:    0.3s finished\n"
     ]
    },
    {
     "name": "stdout",
     "output_type": "stream",
     "text": [
      "Fitting 30 folds for each of 1 candidates, totalling 30 fits\n"
     ]
    },
    {
     "name": "stderr",
     "output_type": "stream",
     "text": [
      "[Parallel(n_jobs=-1)]: Using backend LokyBackend with 16 concurrent workers.\n",
      "[Parallel(n_jobs=-1)]: Done  10 out of  30 | elapsed:    0.1s remaining:    0.4s\n",
      "[Parallel(n_jobs=-1)]: Done  21 out of  30 | elapsed:    0.3s remaining:    0.1s\n",
      "[Parallel(n_jobs=-1)]: Done  30 out of  30 | elapsed:    0.4s finished\n"
     ]
    },
    {
     "name": "stdout",
     "output_type": "stream",
     "text": [
      "Fitting 30 folds for each of 1 candidates, totalling 30 fits\n"
     ]
    },
    {
     "name": "stderr",
     "output_type": "stream",
     "text": [
      "[Parallel(n_jobs=-1)]: Using backend LokyBackend with 16 concurrent workers.\n",
      "[Parallel(n_jobs=-1)]: Done  10 out of  30 | elapsed:    0.1s remaining:    0.3s\n",
      "[Parallel(n_jobs=-1)]: Done  21 out of  30 | elapsed:    0.2s remaining:    0.0s\n",
      "[Parallel(n_jobs=-1)]: Done  30 out of  30 | elapsed:    0.3s finished\n"
     ]
    },
    {
     "name": "stdout",
     "output_type": "stream",
     "text": [
      "Fitting 30 folds for each of 1 candidates, totalling 30 fits\n"
     ]
    },
    {
     "name": "stderr",
     "output_type": "stream",
     "text": [
      "[Parallel(n_jobs=-1)]: Using backend LokyBackend with 16 concurrent workers.\n",
      "[Parallel(n_jobs=-1)]: Done  10 out of  30 | elapsed:    0.1s remaining:    0.3s\n",
      "[Parallel(n_jobs=-1)]: Done  21 out of  30 | elapsed:    0.3s remaining:    0.1s\n",
      "[Parallel(n_jobs=-1)]: Done  30 out of  30 | elapsed:    0.4s finished\n"
     ]
    },
    {
     "name": "stdout",
     "output_type": "stream",
     "text": [
      "Fitting 30 folds for each of 1 candidates, totalling 30 fits\n"
     ]
    },
    {
     "name": "stderr",
     "output_type": "stream",
     "text": [
      "[Parallel(n_jobs=-1)]: Using backend LokyBackend with 16 concurrent workers.\n",
      "[Parallel(n_jobs=-1)]: Done  10 out of  30 | elapsed:    0.1s remaining:    0.2s\n",
      "[Parallel(n_jobs=-1)]: Done  21 out of  30 | elapsed:    0.2s remaining:    0.0s\n",
      "[Parallel(n_jobs=-1)]: Done  30 out of  30 | elapsed:    0.3s finished\n",
      "C:\\Users\\gursk\\anaconda3\\envs\\travelers\\lib\\site-packages\\skopt\\optimizer\\optimizer.py:449: UserWarning: The objective has been evaluated at this point before.\n",
      "  warnings.warn(\"The objective has been evaluated \"\n"
     ]
    },
    {
     "name": "stdout",
     "output_type": "stream",
     "text": [
      "Fitting 30 folds for each of 1 candidates, totalling 30 fits\n"
     ]
    },
    {
     "name": "stderr",
     "output_type": "stream",
     "text": [
      "[Parallel(n_jobs=-1)]: Using backend LokyBackend with 16 concurrent workers.\n",
      "[Parallel(n_jobs=-1)]: Done  10 out of  30 | elapsed:    0.2s remaining:    0.4s\n",
      "[Parallel(n_jobs=-1)]: Done  21 out of  30 | elapsed:    0.3s remaining:    0.1s\n",
      "[Parallel(n_jobs=-1)]: Done  30 out of  30 | elapsed:    0.4s finished\n"
     ]
    },
    {
     "name": "stdout",
     "output_type": "stream",
     "text": [
      "Fitting 30 folds for each of 1 candidates, totalling 30 fits\n"
     ]
    },
    {
     "name": "stderr",
     "output_type": "stream",
     "text": [
      "[Parallel(n_jobs=-1)]: Using backend LokyBackend with 16 concurrent workers.\n",
      "[Parallel(n_jobs=-1)]: Done  10 out of  30 | elapsed:    0.1s remaining:    0.3s\n",
      "[Parallel(n_jobs=-1)]: Done  21 out of  30 | elapsed:    0.2s remaining:    0.0s\n",
      "[Parallel(n_jobs=-1)]: Done  30 out of  30 | elapsed:    0.3s finished\n"
     ]
    },
    {
     "name": "stdout",
     "output_type": "stream",
     "text": [
      "Fitting 30 folds for each of 1 candidates, totalling 30 fits\n"
     ]
    },
    {
     "name": "stderr",
     "output_type": "stream",
     "text": [
      "[Parallel(n_jobs=-1)]: Using backend LokyBackend with 16 concurrent workers.\n",
      "[Parallel(n_jobs=-1)]: Done  10 out of  30 | elapsed:    0.1s remaining:    0.2s\n",
      "[Parallel(n_jobs=-1)]: Done  21 out of  30 | elapsed:    0.2s remaining:    0.0s\n",
      "[Parallel(n_jobs=-1)]: Done  30 out of  30 | elapsed:    0.3s finished\n"
     ]
    },
    {
     "name": "stdout",
     "output_type": "stream",
     "text": [
      "Fitting 30 folds for each of 1 candidates, totalling 30 fits\n"
     ]
    },
    {
     "name": "stderr",
     "output_type": "stream",
     "text": [
      "[Parallel(n_jobs=-1)]: Using backend LokyBackend with 16 concurrent workers.\n",
      "[Parallel(n_jobs=-1)]: Done  10 out of  30 | elapsed:    0.2s remaining:    0.4s\n",
      "[Parallel(n_jobs=-1)]: Done  21 out of  30 | elapsed:    0.3s remaining:    0.1s\n",
      "[Parallel(n_jobs=-1)]: Done  30 out of  30 | elapsed:    0.4s finished\n"
     ]
    },
    {
     "name": "stdout",
     "output_type": "stream",
     "text": [
      "Fitting 30 folds for each of 1 candidates, totalling 30 fits\n"
     ]
    },
    {
     "name": "stderr",
     "output_type": "stream",
     "text": [
      "[Parallel(n_jobs=-1)]: Using backend LokyBackend with 16 concurrent workers.\n",
      "[Parallel(n_jobs=-1)]: Done  10 out of  30 | elapsed:    0.1s remaining:    0.3s\n",
      "[Parallel(n_jobs=-1)]: Done  21 out of  30 | elapsed:    0.2s remaining:    0.0s\n",
      "[Parallel(n_jobs=-1)]: Done  30 out of  30 | elapsed:    0.3s finished\n",
      "C:\\Users\\gursk\\anaconda3\\envs\\travelers\\lib\\site-packages\\skopt\\optimizer\\optimizer.py:449: UserWarning: The objective has been evaluated at this point before.\n",
      "  warnings.warn(\"The objective has been evaluated \"\n"
     ]
    },
    {
     "name": "stdout",
     "output_type": "stream",
     "text": [
      "Fitting 30 folds for each of 1 candidates, totalling 30 fits\n"
     ]
    },
    {
     "name": "stderr",
     "output_type": "stream",
     "text": [
      "[Parallel(n_jobs=-1)]: Using backend LokyBackend with 16 concurrent workers.\n",
      "[Parallel(n_jobs=-1)]: Done  10 out of  30 | elapsed:    0.2s remaining:    0.4s\n",
      "[Parallel(n_jobs=-1)]: Done  21 out of  30 | elapsed:    0.3s remaining:    0.1s\n",
      "[Parallel(n_jobs=-1)]: Done  30 out of  30 | elapsed:    0.4s finished\n"
     ]
    },
    {
     "name": "stdout",
     "output_type": "stream",
     "text": [
      "Fitting 30 folds for each of 1 candidates, totalling 30 fits\n"
     ]
    },
    {
     "name": "stderr",
     "output_type": "stream",
     "text": [
      "[Parallel(n_jobs=-1)]: Using backend LokyBackend with 16 concurrent workers.\n",
      "[Parallel(n_jobs=-1)]: Done  10 out of  30 | elapsed:    0.1s remaining:    0.2s\n",
      "[Parallel(n_jobs=-1)]: Done  21 out of  30 | elapsed:    0.2s remaining:    0.0s\n",
      "[Parallel(n_jobs=-1)]: Done  30 out of  30 | elapsed:    0.3s finished\n"
     ]
    },
    {
     "data": {
      "text/plain": [
       "BayesSearchCV(cv=30,\n",
       "              estimator=Pipeline(steps=[('standardscaler', StandardScaler()),\n",
       "                                        ('tweedieregressor',\n",
       "                                         TweedieRegressor(max_iter=1000,\n",
       "                                                          power=1.5))]),\n",
       "              fit_params={'tweedieregressor__sample_weight': 22037    0.827525\n",
       "17656    0.117082\n",
       "15070    0.103366\n",
       "6795     0.262922\n",
       "12566    0.466688\n",
       "           ...   \n",
       "3655     0.962106\n",
       "10787    0.098310\n",
       "14490    0.408299\n",
       "20285    0.401115\n",
       "13452    0.739062\n",
       "Name: exposure, Length: 22610, dtype: float64},\n",
       "              n_iter=32, n_jobs=-1, random_state=123,\n",
       "              search_spaces={'tweedieregressor__alpha': Real(low=0.0, high=20.0, prior='uniform', transform='identity')},\n",
       "              verbose=3)"
      ]
     },
     "execution_count": 163,
     "metadata": {},
     "output_type": "execute_result"
    }
   ],
   "source": [
    "# Training our stacked model\n",
    "stacked_model = make_pipeline(#ColumnTransformer([('one_hot', OneHotEncoder(drop='first', sparse=False), get_cats)], remainder='passthrough'),\n",
    "                              StandardScaler(),\n",
    "                              TweedieRegressor(power=1.5, max_iter=1000))\n",
    "params = {'tweedieregressor__alpha': Real(0.0, 20.0, 'uniform')}\n",
    "stacked_opt = BayesSearchCV(stacked_model,\n",
    "                            params,\n",
    "                            cv=30,\n",
    "                            fit_params={'tweedieregressor__sample_weight': y['exposure']},\n",
    "                            #scoring=make_scorer(partial(mean_tweedie_deviance, power=1.5)),\n",
    "                            #scoring=make_scorer(gini),\n",
    "                            n_iter=32,\n",
    "                            random_state=123,\n",
    "                            n_jobs=-1,\n",
    "                            verbose=3)\n",
    "stacked_opt.fit(X_cv, y['pure_premium'])"
   ]
  },
  {
   "cell_type": "code",
   "execution_count": 164,
   "metadata": {},
   "outputs": [
    {
     "name": "stdout",
     "output_type": "stream",
     "text": [
      "OrderedDict([('tweedieregressor__alpha', 0.0)])\n"
     ]
    }
   ],
   "source": [
    "print(stacked_opt.best_params_)"
   ]
  },
  {
   "cell_type": "code",
   "execution_count": 165,
   "metadata": {},
   "outputs": [
    {
     "name": "stdout",
     "output_type": "stream",
     "text": [
      "0.18798842281771738\n"
     ]
    }
   ],
   "source": [
    "stack_preds = get_cv_preds(stacked_opt.best_estimator_,\n",
    "                            X_cv,\n",
    "                            y['pure_premium'],\n",
    "                            {'tweedieregressor__sample_weight': y['exposure']})\n",
    "print(gini(y['claim_cost'], stack_preds * y['exposure']))"
   ]
  },
  {
   "cell_type": "code",
   "execution_count": 166,
   "metadata": {},
   "outputs": [
    {
     "name": "stdout",
     "output_type": "stream",
     "text": [
      "0.1885721340117122\n"
     ]
    }
   ],
   "source": [
    "# What if we stack on MSE?\n",
    "stacked_model = make_pipeline(#ColumnTransformer([('one_hot', OneHotEncoder(drop='first', sparse=False), get_cats)], remainder='passthrough'),\n",
    "                              StandardScaler(),\n",
    "                              RidgeCV(alphas=np.linspace(0.1, 30.0, 30)))\n",
    "stack_preds = get_cv_preds(stacked_model,\n",
    "                            X_cv,\n",
    "                            y['pure_premium'],\n",
    "                            {'ridgecv__sample_weight': y['exposure']})\n",
    "stacked_model.fit(X_cv, y['pure_premium'], ridgecv__sample_weight=y['exposure'])\n",
    "print(gini(y['claim_cost'], stack_preds * y['exposure']))"
   ]
  },
  {
   "cell_type": "code",
   "execution_count": 167,
   "metadata": {},
   "outputs": [
    {
     "name": "stderr",
     "output_type": "stream",
     "text": [
      "C:\\Users\\gursk\\anaconda3\\envs\\travelers\\lib\\site-packages\\pandas\\core\\series.py:726: RuntimeWarning: divide by zero encountered in log\n",
      "  result = getattr(ufunc, method)(*inputs, **kwargs)\n"
     ]
    }
   ],
   "source": [
    "# Getting our test predictions\n",
    "df_test = pd.read_csv('InsNova_test.csv')\n",
    "X_test = df_test.drop(['exposure', 'id'], axis=1)\n",
    "\n",
    "# Creating Categorical dataset for LightGBM and CatBoost\n",
    "other_bodies = ['TRUCK', 'COUPE', 'MIBUS', 'PANVN', 'BUS', 'RDSTR', 'MCARA', 'CONVT']\n",
    "X_test['veh_body2'] = np.where(X_test['veh_body'].isin(other_bodies), 'OTHER', X_test['veh_body'])\n",
    "\n",
    "# Creating Categorical dataset for LightGBM and CatBoost\n",
    "for i in ['veh_body', 'veh_body2', 'gender', 'area']:\n",
    "    X_test[i] = X_test[i].astype('category')\n",
    "X_test['log_veh_value'] = np.fmax(0.0, np.log(X_test['veh_value']))\n",
    "\n",
    "# Getting predictions\n",
    "X_test_cv = X_test.copy()\n",
    "#X_test_cv['poisson'] = poisson.predict(X_test.drop('veh_body', axis=1))\n",
    "#X_test_cv['rf_poisson'] = rf_poisson.predict(X_test.drop('veh_body2', axis=1))\n",
    "#X_test_cv['lgbm_poisson'] = lgbm_poisson.predict(X_test.drop('veh_body2', axis=1))\n",
    "#X_test_cv['xgb_poisson'] = xgb_poisson.predict(X_test.drop('veh_body2', axis=1))\n",
    "X_test_cv['tweedie'] = tweedie.predict(X_test[lin_cols])\n",
    "X_test_cv['rf'] = rf.predict(X_test[boost_cols])\n",
    "X_test_cv['lgbm'] = lgbm.predict(X_test[boost_cols])\n",
    "X_test_cv['xgb'] = xgb.predict(X_test[boost_cols])\n",
    "#X_test_cv['ridge_mse'] = ridge_mse.predict(X_test.drop('veh_body', axis=1))\n",
    "X_test_cv['rf_mse'] = rf_mse.predict(X_test[boost_cols])\n",
    "X_test_cv['lgbm_mse'] = lgbm_mse.predict(X_test[boost_cols])\n",
    "\n",
    "X_test_cv = np.log(X_test_cv[X_cv.columns])\n",
    "#preds = stacked_opt.best_estimator_.predict(X_test_cv)\n",
    "preds = stacked_model.predict(X_test_cv)\n",
    "df_test['claim_cost'] = df_test['exposure'] * preds\n",
    "df_test['id'] = np.arange(df_test.shape[0])\n",
    "df_test['id'] = df_test['id'].astype(int)\n",
    "df_test['id'] += 1\n",
    "df_test[['id', 'claim_cost']].to_csv('stacked_predictions_7.csv', index=False)"
   ]
  }
 ],
 "metadata": {
  "kernelspec": {
   "display_name": "Python 3",
   "language": "python",
   "name": "python3"
  },
  "language_info": {
   "codemirror_mode": {
    "name": "ipython",
    "version": 3
   },
   "file_extension": ".py",
   "mimetype": "text/x-python",
   "name": "python",
   "nbconvert_exporter": "python",
   "pygments_lexer": "ipython3",
   "version": "3.8.3"
  }
 },
 "nbformat": 4,
 "nbformat_minor": 4
}
